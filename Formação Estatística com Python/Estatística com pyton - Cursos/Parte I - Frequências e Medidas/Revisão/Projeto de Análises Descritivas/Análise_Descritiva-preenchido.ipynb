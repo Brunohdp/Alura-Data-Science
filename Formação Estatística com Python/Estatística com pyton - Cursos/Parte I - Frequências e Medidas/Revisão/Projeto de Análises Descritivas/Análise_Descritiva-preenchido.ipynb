{
  "cells": [
    {
      "cell_type": "markdown",
      "metadata": {
        "id": "WvMflodMjQKe"
      },
      "source": [
        "***\n",
        "# <font color=green size=10>CURSO DE ESTATÍSTICA - PARTE 1</font>\n",
        "***\n",
        "\n",
        "## Trabalho de Análise Descritiva de um Conjunto de Dados\n",
        "\n",
        "Utilizando os conhecimentos adquiridos em nosso treinamento realize uma análise descritiva básica de um conjunto de dados retirados da Pesquisa Nacional por Amostra de Domicílios - 2015 do IBGE. \n",
        "\n",
        "Vamos construir histogramas, calcular e avaliar medidas de tendência central, medidas separatrizes e de dispersão dos dados.\n",
        "\n",
        "Siga o roteiro proposto e vá completando as células vazias. Procure pensar em mais informações interessantes que podem ser exploradas em nosso dataset."
      ]
    },
    {
      "cell_type": "markdown",
      "metadata": {
        "id": "cVgsZ_E3jQKg"
      },
      "source": [
        "# <font color=green>DATASET DO PROJETO</font>\n",
        "***"
      ]
    },
    {
      "cell_type": "markdown",
      "metadata": {
        "id": "iN1gIbaKjQKh"
      },
      "source": [
        "### Pesquisa Nacional por Amostra de Domicílios - 2015\n",
        "\n",
        "A <b>Pesquisa Nacional por Amostra de Domicílios - PNAD</b> investiga anualmente, de forma permanente, características gerais da população, de educação, trabalho, rendimento e habitação e outras, com periodicidade variável, de acordo com as necessidades de informação para o país, como as características sobre migração, fecundidade, nupcialidade, saúde, segurança alimentar, entre outros temas. O levantamento dessas estatísticas constitui, ao longo dos 49 anos de realização da pesquisa, um importante instrumento para formulação, validação e avaliação de políticas orientadas para o desenvolvimento socioeconômico e a melhoria das condições de vida no Brasil."
      ]
    },
    {
      "cell_type": "markdown",
      "metadata": {
        "id": "U6V7br1RjQKi"
      },
      "source": [
        "### Fonte dos Dados\n",
        "\n",
        "https://ww2.ibge.gov.br/home/estatistica/populacao/trabalhoerendimento/pnad2015/microdados.shtm"
      ]
    },
    {
      "cell_type": "markdown",
      "metadata": {
        "id": "r0Fe_qnzjQKj"
      },
      "source": [
        "### Variáveis utilizadas\n",
        "\n",
        "> ### Renda\n",
        "> ***\n",
        "\n",
        "Rendimento mensal do trabalho principal para pessoas de 10 anos ou mais de idade.\n",
        "\n",
        "> ### Idade\n",
        "> ***\n",
        "\n",
        "Idade do morador na data de referência em anos.\n",
        "\n",
        "> ### Altura (elaboração própria)\n",
        "> ***\n",
        "\n",
        "Altura do morador em metros.\n",
        "\n",
        "> ### UF\n",
        "> ***\n",
        "\n",
        "|Código|Descrição|\n",
        "|---|---|\n",
        "|11|Rondônia|\n",
        "|12|Acre|\n",
        "|13|Amazonas|\n",
        "|14|Roraima|\n",
        "|15|Pará|\n",
        "|16|Amapá|\n",
        "|17|Tocantins|\n",
        "|21|Maranhão|\n",
        "|22|Piauí|\n",
        "|23|Ceará|\n",
        "|24|Rio Grande do Norte|\n",
        "|25|Paraíba|\n",
        "|26|Pernambuco|\n",
        "|27|Alagoas|\n",
        "|28|Sergipe|\n",
        "|29|Bahia|\n",
        "|31|Minas Gerais|\n",
        "|32|Espírito Santo|\n",
        "|33|Rio de Janeiro|\n",
        "|35|São Paulo|\n",
        "|41|Paraná|\n",
        "|42|Santa Catarina|\n",
        "|43|Rio Grande do Sul|\n",
        "|50|Mato Grosso do Sul|\n",
        "|51|Mato Grosso|\n",
        "|52|Goiás|\n",
        "|53|Distrito Federal|\n",
        "\n",
        "> ### Sexo\t\n",
        "> ***\n",
        "\n",
        "|Código|Descrição|\n",
        "|---|---|\n",
        "|0|Masculino|\n",
        "|1|Feminino|\n",
        "\n",
        "> ### Anos de Estudo\n",
        "> ***\n",
        "\n",
        "|Código|Descrição|\n",
        "|---|---|\n",
        "|1|Sem instrução e menos de 1 ano|\n",
        "|2|1 ano|\n",
        "|3|2 anos|\n",
        "|4|3 anos|\n",
        "|5|4 anos|\n",
        "|6|5 anos|\n",
        "|7|6 anos|\n",
        "|8|7 anos|\n",
        "|9|8 anos|\n",
        "|10|9 anos|\n",
        "|11|10 anos|\n",
        "|12|11 anos|\n",
        "|13|12 anos|\n",
        "|14|13 anos|\n",
        "|15|14 anos|\n",
        "|16|15 anos ou mais|\n",
        "|17|Não determinados| \n",
        "||Não aplicável|\n",
        "\n",
        "> ### Cor\n",
        "> ***\n",
        "\n",
        "|Código|Descrição|\n",
        "|---|---|\n",
        "|0|Indígena|\n",
        "|2|Branca|\n",
        "|4|Preta|\n",
        "|6|Amarela|\n",
        "|8|Parda|\n",
        "|9|Sem declaração|"
      ]
    },
    {
      "cell_type": "markdown",
      "metadata": {
        "id": "OK1IQH5cX7Gb"
      },
      "source": [
        "#### <font color='red'>Observação</font>\n",
        "***\n",
        "> Os seguintes tratamentos foram realizados nos dados originais:\n",
        "> 1. Foram eliminados os registros onde a <b>Renda</b> era inválida (999 999 999 999);\n",
        "> 2. Foram eliminados os registros onde a <b>Renda</b> era missing;\n",
        "> 3. Foram considerados somente os registros das <b>Pessoas de Referência</b> de cada domicílio (responsável pelo domicílio)."
      ]
    },
    {
      "cell_type": "markdown",
      "metadata": {
        "id": "ZIqLOffNTg1Y"
      },
      "source": [
        "***\n",
        "***"
      ]
    },
    {
      "cell_type": "markdown",
      "metadata": {
        "id": "8Rw70V6ojQKk"
      },
      "source": [
        "### Utilize a célula abaixo para importar as biblioteca que precisar para executar as tarefas\n",
        "#### <font color='red'>Sugestões: pandas, numpy, seaborn</font>"
      ]
    },
    {
      "cell_type": "code",
      "execution_count": 1,
      "metadata": {
        "id": "fcTgimHBybMz"
      },
      "outputs": [],
      "source": [
        "import pandas as pd\n",
        "import seaborn as sns\n",
        "import numpy as np"
      ]
    },
    {
      "cell_type": "markdown",
      "metadata": {
        "id": "2a-gvBvCULwt"
      },
      "source": [
        "### Importe o dataset e armazene o conteúdo em uma DataFrame"
      ]
    },
    {
      "cell_type": "code",
      "execution_count": 2,
      "metadata": {
        "id": "ufRZ7TLwjQKo"
      },
      "outputs": [],
      "source": [
        "dados = pd.read_csv('dados.csv')"
      ]
    },
    {
      "cell_type": "markdown",
      "metadata": {
        "id": "Oq3CKHCmTg1j"
      },
      "source": [
        "### Visualize o conteúdo do DataFrame"
      ]
    },
    {
      "cell_type": "code",
      "execution_count": 3,
      "metadata": {
        "colab": {
          "base_uri": "https://localhost:8080/",
          "height": 206
        },
        "id": "GsC_WhLFjQKq",
        "scrolled": true,
        "outputId": "3ff3e90f-6964-416e-c89d-d7a871b406d0"
      },
      "outputs": [
        {
          "output_type": "execute_result",
          "data": {
            "text/html": [
              "\n",
              "  <div id=\"df-051ee237-b6d6-4354-8d46-0d4c5a92f967\">\n",
              "    <div class=\"colab-df-container\">\n",
              "      <div>\n",
              "<style scoped>\n",
              "    .dataframe tbody tr th:only-of-type {\n",
              "        vertical-align: middle;\n",
              "    }\n",
              "\n",
              "    .dataframe tbody tr th {\n",
              "        vertical-align: top;\n",
              "    }\n",
              "\n",
              "    .dataframe thead th {\n",
              "        text-align: right;\n",
              "    }\n",
              "</style>\n",
              "<table border=\"1\" class=\"dataframe\">\n",
              "  <thead>\n",
              "    <tr style=\"text-align: right;\">\n",
              "      <th></th>\n",
              "      <th>UF</th>\n",
              "      <th>Sexo</th>\n",
              "      <th>Idade</th>\n",
              "      <th>Cor</th>\n",
              "      <th>Anos de Estudo</th>\n",
              "      <th>Renda</th>\n",
              "      <th>Altura</th>\n",
              "    </tr>\n",
              "  </thead>\n",
              "  <tbody>\n",
              "    <tr>\n",
              "      <th>0</th>\n",
              "      <td>11</td>\n",
              "      <td>0</td>\n",
              "      <td>23</td>\n",
              "      <td>8</td>\n",
              "      <td>12</td>\n",
              "      <td>800</td>\n",
              "      <td>1.603808</td>\n",
              "    </tr>\n",
              "    <tr>\n",
              "      <th>1</th>\n",
              "      <td>11</td>\n",
              "      <td>1</td>\n",
              "      <td>23</td>\n",
              "      <td>2</td>\n",
              "      <td>12</td>\n",
              "      <td>1150</td>\n",
              "      <td>1.739790</td>\n",
              "    </tr>\n",
              "    <tr>\n",
              "      <th>2</th>\n",
              "      <td>11</td>\n",
              "      <td>1</td>\n",
              "      <td>35</td>\n",
              "      <td>8</td>\n",
              "      <td>15</td>\n",
              "      <td>880</td>\n",
              "      <td>1.760444</td>\n",
              "    </tr>\n",
              "    <tr>\n",
              "      <th>3</th>\n",
              "      <td>11</td>\n",
              "      <td>0</td>\n",
              "      <td>46</td>\n",
              "      <td>2</td>\n",
              "      <td>6</td>\n",
              "      <td>3500</td>\n",
              "      <td>1.783158</td>\n",
              "    </tr>\n",
              "    <tr>\n",
              "      <th>4</th>\n",
              "      <td>11</td>\n",
              "      <td>1</td>\n",
              "      <td>47</td>\n",
              "      <td>8</td>\n",
              "      <td>9</td>\n",
              "      <td>150</td>\n",
              "      <td>1.690631</td>\n",
              "    </tr>\n",
              "  </tbody>\n",
              "</table>\n",
              "</div>\n",
              "      <button class=\"colab-df-convert\" onclick=\"convertToInteractive('df-051ee237-b6d6-4354-8d46-0d4c5a92f967')\"\n",
              "              title=\"Convert this dataframe to an interactive table.\"\n",
              "              style=\"display:none;\">\n",
              "        \n",
              "  <svg xmlns=\"http://www.w3.org/2000/svg\" height=\"24px\"viewBox=\"0 0 24 24\"\n",
              "       width=\"24px\">\n",
              "    <path d=\"M0 0h24v24H0V0z\" fill=\"none\"/>\n",
              "    <path d=\"M18.56 5.44l.94 2.06.94-2.06 2.06-.94-2.06-.94-.94-2.06-.94 2.06-2.06.94zm-11 1L8.5 8.5l.94-2.06 2.06-.94-2.06-.94L8.5 2.5l-.94 2.06-2.06.94zm10 10l.94 2.06.94-2.06 2.06-.94-2.06-.94-.94-2.06-.94 2.06-2.06.94z\"/><path d=\"M17.41 7.96l-1.37-1.37c-.4-.4-.92-.59-1.43-.59-.52 0-1.04.2-1.43.59L10.3 9.45l-7.72 7.72c-.78.78-.78 2.05 0 2.83L4 21.41c.39.39.9.59 1.41.59.51 0 1.02-.2 1.41-.59l7.78-7.78 2.81-2.81c.8-.78.8-2.07 0-2.86zM5.41 20L4 18.59l7.72-7.72 1.47 1.35L5.41 20z\"/>\n",
              "  </svg>\n",
              "      </button>\n",
              "      \n",
              "  <style>\n",
              "    .colab-df-container {\n",
              "      display:flex;\n",
              "      flex-wrap:wrap;\n",
              "      gap: 12px;\n",
              "    }\n",
              "\n",
              "    .colab-df-convert {\n",
              "      background-color: #E8F0FE;\n",
              "      border: none;\n",
              "      border-radius: 50%;\n",
              "      cursor: pointer;\n",
              "      display: none;\n",
              "      fill: #1967D2;\n",
              "      height: 32px;\n",
              "      padding: 0 0 0 0;\n",
              "      width: 32px;\n",
              "    }\n",
              "\n",
              "    .colab-df-convert:hover {\n",
              "      background-color: #E2EBFA;\n",
              "      box-shadow: 0px 1px 2px rgba(60, 64, 67, 0.3), 0px 1px 3px 1px rgba(60, 64, 67, 0.15);\n",
              "      fill: #174EA6;\n",
              "    }\n",
              "\n",
              "    [theme=dark] .colab-df-convert {\n",
              "      background-color: #3B4455;\n",
              "      fill: #D2E3FC;\n",
              "    }\n",
              "\n",
              "    [theme=dark] .colab-df-convert:hover {\n",
              "      background-color: #434B5C;\n",
              "      box-shadow: 0px 1px 3px 1px rgba(0, 0, 0, 0.15);\n",
              "      filter: drop-shadow(0px 1px 2px rgba(0, 0, 0, 0.3));\n",
              "      fill: #FFFFFF;\n",
              "    }\n",
              "  </style>\n",
              "\n",
              "      <script>\n",
              "        const buttonEl =\n",
              "          document.querySelector('#df-051ee237-b6d6-4354-8d46-0d4c5a92f967 button.colab-df-convert');\n",
              "        buttonEl.style.display =\n",
              "          google.colab.kernel.accessAllowed ? 'block' : 'none';\n",
              "\n",
              "        async function convertToInteractive(key) {\n",
              "          const element = document.querySelector('#df-051ee237-b6d6-4354-8d46-0d4c5a92f967');\n",
              "          const dataTable =\n",
              "            await google.colab.kernel.invokeFunction('convertToInteractive',\n",
              "                                                     [key], {});\n",
              "          if (!dataTable) return;\n",
              "\n",
              "          const docLinkHtml = 'Like what you see? Visit the ' +\n",
              "            '<a target=\"_blank\" href=https://colab.research.google.com/notebooks/data_table.ipynb>data table notebook</a>'\n",
              "            + ' to learn more about interactive tables.';\n",
              "          element.innerHTML = '';\n",
              "          dataTable['output_type'] = 'display_data';\n",
              "          await google.colab.output.renderOutput(dataTable, element);\n",
              "          const docLink = document.createElement('div');\n",
              "          docLink.innerHTML = docLinkHtml;\n",
              "          element.appendChild(docLink);\n",
              "        }\n",
              "      </script>\n",
              "    </div>\n",
              "  </div>\n",
              "  "
            ],
            "text/plain": [
              "   UF  Sexo  Idade  Cor  Anos de Estudo  Renda    Altura\n",
              "0  11     0     23    8              12    800  1.603808\n",
              "1  11     1     23    2              12   1150  1.739790\n",
              "2  11     1     35    8              15    880  1.760444\n",
              "3  11     0     46    2               6   3500  1.783158\n",
              "4  11     1     47    8               9    150  1.690631"
            ]
          },
          "metadata": {},
          "execution_count": 3
        }
      ],
      "source": [
        "dados.head()"
      ]
    },
    {
      "cell_type": "markdown",
      "metadata": {
        "id": "HDrFJQitTg1n"
      },
      "source": [
        "### Para avaliarmos o comportamento da variável RENDA vamos construir uma tabela de frequências considerando as seguintes classes em salários mínimos (SM)\n",
        "#### <font color='blue'>Descreva os pontos mais relevantes que você observa na tabela e no gráfico.</font>\n",
        "\n",
        "Classes de renda:\n",
        "\n",
        "<b>A</b> ► Acima de 25 SM\n",
        "\n",
        "<b>B</b> ► De 15 a 25 SM\n",
        "\n",
        "<b>C</b> ► De 5 a 15 SM\n",
        "\n",
        "<b>D</b> ► De 2 a 5 SM\n",
        "\n",
        "<b>E</b> ► Até 2 SM\n",
        "\n",
        "Para construir as classes de renda considere que o salário mínimo na época da pesquisa era de <b>R$ 788,00</b>.\n",
        "\n",
        "#### Siga os passos abaixo:"
      ]
    },
    {
      "cell_type": "markdown",
      "metadata": {
        "id": "zJBkeGxiTg1o"
      },
      "source": [
        "### 1º Definir os intevalos das classes em reais (R$)"
      ]
    },
    {
      "cell_type": "code",
      "execution_count": 4,
      "metadata": {
        "id": "-Ct3QUj6Tg1p"
      },
      "outputs": [],
      "source": [
        "bins = [\n",
        "  dados.Renda.min(),\n",
        "  788 * 2,\n",
        "  788 * 5,\n",
        "  788 * 15,\n",
        "  788 * 25,\n",
        "  dados.Renda.max()\n",
        "]"
      ]
    },
    {
      "cell_type": "markdown",
      "metadata": {
        "id": "dZ7X37CGTg1t"
      },
      "source": [
        "### 2º Definir os labels das classes"
      ]
    },
    {
      "cell_type": "code",
      "execution_count": 5,
      "metadata": {
        "id": "4UFOzitTTg1u"
      },
      "outputs": [],
      "source": [
        "labels = ['E','D','C','B','A']"
      ]
    },
    {
      "cell_type": "markdown",
      "metadata": {
        "id": "umFq1o-UTg1w"
      },
      "source": [
        "### 3º Construir a coluna de frequências"
      ]
    },
    {
      "cell_type": "code",
      "execution_count": 6,
      "metadata": {
        "colab": {
          "base_uri": "https://localhost:8080/"
        },
        "id": "uSztBoqOTg1x",
        "outputId": "3696919c-f2dc-43be-803d-995de5ea570e"
      },
      "outputs": [
        {
          "output_type": "execute_result",
          "data": {
            "text/plain": [
              "E    49755\n",
              "D    18602\n",
              "C     7241\n",
              "B      822\n",
              "A      420\n",
              "Name: Renda, dtype: int64"
            ]
          },
          "metadata": {},
          "execution_count": 6
        }
      ],
      "source": [
        "frequencia = pd.value_counts(\n",
        "    pd.cut(x=dados.Renda,\n",
        "        bins=bins,\n",
        "        labels=labels,\n",
        "        include_lowest=True))\n",
        "frequencia"
      ]
    },
    {
      "cell_type": "markdown",
      "metadata": {
        "id": "2k6nGUZKTg11"
      },
      "source": [
        "\n",
        "### 4º Construir a coluna de percentuais"
      ]
    },
    {
      "cell_type": "code",
      "execution_count": 7,
      "metadata": {
        "colab": {
          "base_uri": "https://localhost:8080/"
        },
        "id": "rdwUABsnTg12",
        "outputId": "64c895a1-3526-4267-c667-01c6622b677d"
      },
      "outputs": [
        {
          "output_type": "execute_result",
          "data": {
            "text/plain": [
              "E    64.751432\n",
              "D    24.208745\n",
              "C     9.423477\n",
              "B     1.069755\n",
              "A     0.546590\n",
              "Name: Renda, dtype: float64"
            ]
          },
          "metadata": {},
          "execution_count": 7
        }
      ],
      "source": [
        "percentual = pd.value_counts(\n",
        "    pd.cut(x=dados.Renda,\n",
        "           bins=bins,\n",
        "           labels=labels,\n",
        "           include_lowest=True),\n",
        "           normalize=True) * 100\n",
        "percentual"
      ]
    },
    {
      "cell_type": "markdown",
      "metadata": {
        "id": "9dvk6-9_Tg16"
      },
      "source": [
        "### 5º Juntar as colunas de frequência e percentuais e ordenar as linhas de acordo com os labels das classes"
      ]
    },
    {
      "cell_type": "code",
      "execution_count": 8,
      "metadata": {
        "colab": {
          "base_uri": "https://localhost:8080/",
          "height": 206
        },
        "id": "tO_bcMmgTg16",
        "outputId": "3c0c8a3e-1aed-4197-e585-d12301d22b91"
      },
      "outputs": [
        {
          "output_type": "execute_result",
          "data": {
            "text/html": [
              "\n",
              "  <div id=\"df-8ef3124d-b0fd-47c1-a124-f09da2830d08\">\n",
              "    <div class=\"colab-df-container\">\n",
              "      <div>\n",
              "<style scoped>\n",
              "    .dataframe tbody tr th:only-of-type {\n",
              "        vertical-align: middle;\n",
              "    }\n",
              "\n",
              "    .dataframe tbody tr th {\n",
              "        vertical-align: top;\n",
              "    }\n",
              "\n",
              "    .dataframe thead th {\n",
              "        text-align: right;\n",
              "    }\n",
              "</style>\n",
              "<table border=\"1\" class=\"dataframe\">\n",
              "  <thead>\n",
              "    <tr style=\"text-align: right;\">\n",
              "      <th></th>\n",
              "      <th>Frequência</th>\n",
              "      <th>Percentual (%)</th>\n",
              "    </tr>\n",
              "  </thead>\n",
              "  <tbody>\n",
              "    <tr>\n",
              "      <th>A</th>\n",
              "      <td>420</td>\n",
              "      <td>0.546590</td>\n",
              "    </tr>\n",
              "    <tr>\n",
              "      <th>B</th>\n",
              "      <td>822</td>\n",
              "      <td>1.069755</td>\n",
              "    </tr>\n",
              "    <tr>\n",
              "      <th>C</th>\n",
              "      <td>7241</td>\n",
              "      <td>9.423477</td>\n",
              "    </tr>\n",
              "    <tr>\n",
              "      <th>D</th>\n",
              "      <td>18602</td>\n",
              "      <td>24.208745</td>\n",
              "    </tr>\n",
              "    <tr>\n",
              "      <th>E</th>\n",
              "      <td>49755</td>\n",
              "      <td>64.751432</td>\n",
              "    </tr>\n",
              "  </tbody>\n",
              "</table>\n",
              "</div>\n",
              "      <button class=\"colab-df-convert\" onclick=\"convertToInteractive('df-8ef3124d-b0fd-47c1-a124-f09da2830d08')\"\n",
              "              title=\"Convert this dataframe to an interactive table.\"\n",
              "              style=\"display:none;\">\n",
              "        \n",
              "  <svg xmlns=\"http://www.w3.org/2000/svg\" height=\"24px\"viewBox=\"0 0 24 24\"\n",
              "       width=\"24px\">\n",
              "    <path d=\"M0 0h24v24H0V0z\" fill=\"none\"/>\n",
              "    <path d=\"M18.56 5.44l.94 2.06.94-2.06 2.06-.94-2.06-.94-.94-2.06-.94 2.06-2.06.94zm-11 1L8.5 8.5l.94-2.06 2.06-.94-2.06-.94L8.5 2.5l-.94 2.06-2.06.94zm10 10l.94 2.06.94-2.06 2.06-.94-2.06-.94-.94-2.06-.94 2.06-2.06.94z\"/><path d=\"M17.41 7.96l-1.37-1.37c-.4-.4-.92-.59-1.43-.59-.52 0-1.04.2-1.43.59L10.3 9.45l-7.72 7.72c-.78.78-.78 2.05 0 2.83L4 21.41c.39.39.9.59 1.41.59.51 0 1.02-.2 1.41-.59l7.78-7.78 2.81-2.81c.8-.78.8-2.07 0-2.86zM5.41 20L4 18.59l7.72-7.72 1.47 1.35L5.41 20z\"/>\n",
              "  </svg>\n",
              "      </button>\n",
              "      \n",
              "  <style>\n",
              "    .colab-df-container {\n",
              "      display:flex;\n",
              "      flex-wrap:wrap;\n",
              "      gap: 12px;\n",
              "    }\n",
              "\n",
              "    .colab-df-convert {\n",
              "      background-color: #E8F0FE;\n",
              "      border: none;\n",
              "      border-radius: 50%;\n",
              "      cursor: pointer;\n",
              "      display: none;\n",
              "      fill: #1967D2;\n",
              "      height: 32px;\n",
              "      padding: 0 0 0 0;\n",
              "      width: 32px;\n",
              "    }\n",
              "\n",
              "    .colab-df-convert:hover {\n",
              "      background-color: #E2EBFA;\n",
              "      box-shadow: 0px 1px 2px rgba(60, 64, 67, 0.3), 0px 1px 3px 1px rgba(60, 64, 67, 0.15);\n",
              "      fill: #174EA6;\n",
              "    }\n",
              "\n",
              "    [theme=dark] .colab-df-convert {\n",
              "      background-color: #3B4455;\n",
              "      fill: #D2E3FC;\n",
              "    }\n",
              "\n",
              "    [theme=dark] .colab-df-convert:hover {\n",
              "      background-color: #434B5C;\n",
              "      box-shadow: 0px 1px 3px 1px rgba(0, 0, 0, 0.15);\n",
              "      filter: drop-shadow(0px 1px 2px rgba(0, 0, 0, 0.3));\n",
              "      fill: #FFFFFF;\n",
              "    }\n",
              "  </style>\n",
              "\n",
              "      <script>\n",
              "        const buttonEl =\n",
              "          document.querySelector('#df-8ef3124d-b0fd-47c1-a124-f09da2830d08 button.colab-df-convert');\n",
              "        buttonEl.style.display =\n",
              "          google.colab.kernel.accessAllowed ? 'block' : 'none';\n",
              "\n",
              "        async function convertToInteractive(key) {\n",
              "          const element = document.querySelector('#df-8ef3124d-b0fd-47c1-a124-f09da2830d08');\n",
              "          const dataTable =\n",
              "            await google.colab.kernel.invokeFunction('convertToInteractive',\n",
              "                                                     [key], {});\n",
              "          if (!dataTable) return;\n",
              "\n",
              "          const docLinkHtml = 'Like what you see? Visit the ' +\n",
              "            '<a target=\"_blank\" href=https://colab.research.google.com/notebooks/data_table.ipynb>data table notebook</a>'\n",
              "            + ' to learn more about interactive tables.';\n",
              "          element.innerHTML = '';\n",
              "          dataTable['output_type'] = 'display_data';\n",
              "          await google.colab.output.renderOutput(dataTable, element);\n",
              "          const docLink = document.createElement('div');\n",
              "          docLink.innerHTML = docLinkHtml;\n",
              "          element.appendChild(docLink);\n",
              "        }\n",
              "      </script>\n",
              "    </div>\n",
              "  </div>\n",
              "  "
            ],
            "text/plain": [
              "   Frequência  Percentual (%)\n",
              "A         420        0.546590\n",
              "B         822        1.069755\n",
              "C        7241        9.423477\n",
              "D       18602       24.208745\n",
              "E       49755       64.751432"
            ]
          },
          "metadata": {},
          "execution_count": 8
        }
      ],
      "source": [
        "dist_freq_e_perc_renda = pd.DataFrame({'Frequência': frequencia, 'Percentual (%)': percentual})\n",
        "dist_freq_e_perc_renda.sort_index(ascending=False)"
      ]
    },
    {
      "cell_type": "markdown",
      "metadata": {
        "id": "DOYtXuSbTg18"
      },
      "source": [
        "### Construa um gráfico de barras para visualizar as informações da tabela de frequências acima"
      ]
    },
    {
      "cell_type": "code",
      "execution_count": 9,
      "metadata": {
        "colab": {
          "base_uri": "https://localhost:8080/",
          "height": 430
        },
        "id": "e4mDPKf1Tg18",
        "outputId": "2d67e83c-a613-4fbf-d4d3-fe08d0d5e4fa"
      },
      "outputs": [
        {
          "output_type": "execute_result",
          "data": {
            "text/plain": [
              "<matplotlib.axes._subplots.AxesSubplot at 0x7f56437fc2d0>"
            ]
          },
          "metadata": {},
          "execution_count": 9
        },
        {
          "output_type": "display_data",
          "data": {
            "image/png": "[encoded data removed]",
            "text/plain": [
              "<Figure size 1008x432 with 1 Axes>"
            ]
          },
          "metadata": {
            "needs_background": "light"
          }
        }
      ],
      "source": [
        "ax = dist_freq_e_perc_renda['Frequência'].plot.bar(width=1, alpha=0.2)\n",
        "ax.figure.set_size_inches(14,6)\n",
        "ax.set_title('Distribuição de Frequência de Renda', fontsize=18)\n",
        "ax.set_xlabel('Frequência', fontsize=14)\n",
        "ax"
      ]
    },
    {
      "cell_type": "markdown",
      "metadata": {
        "id": "9ppt5JevTg1-"
      },
      "source": [
        "> ### Conclusões\n",
        "\n",
        "A frequência de pessoas que possuem salários na classe E é extremamente maior que qualquer outra."
      ]
    },
    {
      "cell_type": "markdown",
      "metadata": {
        "id": "yt-gFm93Tg1-"
      },
      "source": [
        "### Crie um histograma para as variáveis QUANTITATIVAS de nosso dataset\n",
        "#### <font color='blue'>Descreva os pontos mais relevantes que você observa nos gráficos (assimetrias e seus tipos, possíveis causas para determinados comportamentos etc.)</font>"
      ]
    },
    {
      "cell_type": "code",
      "execution_count": 10,
      "metadata": {
        "colab": {
          "base_uri": "https://localhost:8080/",
          "height": 206
        },
        "id": "DYjq9xasTg1_",
        "outputId": "3529bff0-8348-41b2-abf9-cdf441b6b21a"
      },
      "outputs": [
        {
          "output_type": "execute_result",
          "data": {
            "text/html": [
              "\n",
              "  <div id=\"df-33b0cfa4-7830-4d3b-b9c1-9a9ef486dedc\">\n",
              "    <div class=\"colab-df-container\">\n",
              "      <div>\n",
              "<style scoped>\n",
              "    .dataframe tbody tr th:only-of-type {\n",
              "        vertical-align: middle;\n",
              "    }\n",
              "\n",
              "    .dataframe tbody tr th {\n",
              "        vertical-align: top;\n",
              "    }\n",
              "\n",
              "    .dataframe thead th {\n",
              "        text-align: right;\n",
              "    }\n",
              "</style>\n",
              "<table border=\"1\" class=\"dataframe\">\n",
              "  <thead>\n",
              "    <tr style=\"text-align: right;\">\n",
              "      <th></th>\n",
              "      <th>UF</th>\n",
              "      <th>Sexo</th>\n",
              "      <th>Idade</th>\n",
              "      <th>Cor</th>\n",
              "      <th>Anos de Estudo</th>\n",
              "      <th>Renda</th>\n",
              "      <th>Altura</th>\n",
              "    </tr>\n",
              "  </thead>\n",
              "  <tbody>\n",
              "    <tr>\n",
              "      <th>0</th>\n",
              "      <td>11</td>\n",
              "      <td>0</td>\n",
              "      <td>23</td>\n",
              "      <td>8</td>\n",
              "      <td>12</td>\n",
              "      <td>800</td>\n",
              "      <td>1.603808</td>\n",
              "    </tr>\n",
              "    <tr>\n",
              "      <th>1</th>\n",
              "      <td>11</td>\n",
              "      <td>1</td>\n",
              "      <td>23</td>\n",
              "      <td>2</td>\n",
              "      <td>12</td>\n",
              "      <td>1150</td>\n",
              "      <td>1.739790</td>\n",
              "    </tr>\n",
              "    <tr>\n",
              "      <th>2</th>\n",
              "      <td>11</td>\n",
              "      <td>1</td>\n",
              "      <td>35</td>\n",
              "      <td>8</td>\n",
              "      <td>15</td>\n",
              "      <td>880</td>\n",
              "      <td>1.760444</td>\n",
              "    </tr>\n",
              "    <tr>\n",
              "      <th>3</th>\n",
              "      <td>11</td>\n",
              "      <td>0</td>\n",
              "      <td>46</td>\n",
              "      <td>2</td>\n",
              "      <td>6</td>\n",
              "      <td>3500</td>\n",
              "      <td>1.783158</td>\n",
              "    </tr>\n",
              "    <tr>\n",
              "      <th>4</th>\n",
              "      <td>11</td>\n",
              "      <td>1</td>\n",
              "      <td>47</td>\n",
              "      <td>8</td>\n",
              "      <td>9</td>\n",
              "      <td>150</td>\n",
              "      <td>1.690631</td>\n",
              "    </tr>\n",
              "  </tbody>\n",
              "</table>\n",
              "</div>\n",
              "      <button class=\"colab-df-convert\" onclick=\"convertToInteractive('df-33b0cfa4-7830-4d3b-b9c1-9a9ef486dedc')\"\n",
              "              title=\"Convert this dataframe to an interactive table.\"\n",
              "              style=\"display:none;\">\n",
              "        \n",
              "  <svg xmlns=\"http://www.w3.org/2000/svg\" height=\"24px\"viewBox=\"0 0 24 24\"\n",
              "       width=\"24px\">\n",
              "    <path d=\"M0 0h24v24H0V0z\" fill=\"none\"/>\n",
              "    <path d=\"M18.56 5.44l.94 2.06.94-2.06 2.06-.94-2.06-.94-.94-2.06-.94 2.06-2.06.94zm-11 1L8.5 8.5l.94-2.06 2.06-.94-2.06-.94L8.5 2.5l-.94 2.06-2.06.94zm10 10l.94 2.06.94-2.06 2.06-.94-2.06-.94-.94-2.06-.94 2.06-2.06.94z\"/><path d=\"M17.41 7.96l-1.37-1.37c-.4-.4-.92-.59-1.43-.59-.52 0-1.04.2-1.43.59L10.3 9.45l-7.72 7.72c-.78.78-.78 2.05 0 2.83L4 21.41c.39.39.9.59 1.41.59.51 0 1.02-.2 1.41-.59l7.78-7.78 2.81-2.81c.8-.78.8-2.07 0-2.86zM5.41 20L4 18.59l7.72-7.72 1.47 1.35L5.41 20z\"/>\n",
              "  </svg>\n",
              "      </button>\n",
              "      \n",
              "  <style>\n",
              "    .colab-df-container {\n",
              "      display:flex;\n",
              "      flex-wrap:wrap;\n",
              "      gap: 12px;\n",
              "    }\n",
              "\n",
              "    .colab-df-convert {\n",
              "      background-color: #E8F0FE;\n",
              "      border: none;\n",
              "      border-radius: 50%;\n",
              "      cursor: pointer;\n",
              "      display: none;\n",
              "      fill: #1967D2;\n",
              "      height: 32px;\n",
              "      padding: 0 0 0 0;\n",
              "      width: 32px;\n",
              "    }\n",
              "\n",
              "    .colab-df-convert:hover {\n",
              "      background-color: #E2EBFA;\n",
              "      box-shadow: 0px 1px 2px rgba(60, 64, 67, 0.3), 0px 1px 3px 1px rgba(60, 64, 67, 0.15);\n",
              "      fill: #174EA6;\n",
              "    }\n",
              "\n",
              "    [theme=dark] .colab-df-convert {\n",
              "      background-color: #3B4455;\n",
              "      fill: #D2E3FC;\n",
              "    }\n",
              "\n",
              "    [theme=dark] .colab-df-convert:hover {\n",
              "      background-color: #434B5C;\n",
              "      box-shadow: 0px 1px 3px 1px rgba(0, 0, 0, 0.15);\n",
              "      filter: drop-shadow(0px 1px 2px rgba(0, 0, 0, 0.3));\n",
              "      fill: #FFFFFF;\n",
              "    }\n",
              "  </style>\n",
              "\n",
              "      <script>\n",
              "        const buttonEl =\n",
              "          document.querySelector('#df-33b0cfa4-7830-4d3b-b9c1-9a9ef486dedc button.colab-df-convert');\n",
              "        buttonEl.style.display =\n",
              "          google.colab.kernel.accessAllowed ? 'block' : 'none';\n",
              "\n",
              "        async function convertToInteractive(key) {\n",
              "          const element = document.querySelector('#df-33b0cfa4-7830-4d3b-b9c1-9a9ef486dedc');\n",
              "          const dataTable =\n",
              "            await google.colab.kernel.invokeFunction('convertToInteractive',\n",
              "                                                     [key], {});\n",
              "          if (!dataTable) return;\n",
              "\n",
              "          const docLinkHtml = 'Like what you see? Visit the ' +\n",
              "            '<a target=\"_blank\" href=https://colab.research.google.com/notebooks/data_table.ipynb>data table notebook</a>'\n",
              "            + ' to learn more about interactive tables.';\n",
              "          element.innerHTML = '';\n",
              "          dataTable['output_type'] = 'display_data';\n",
              "          await google.colab.output.renderOutput(dataTable, element);\n",
              "          const docLink = document.createElement('div');\n",
              "          docLink.innerHTML = docLinkHtml;\n",
              "          element.appendChild(docLink);\n",
              "        }\n",
              "      </script>\n",
              "    </div>\n",
              "  </div>\n",
              "  "
            ],
            "text/plain": [
              "   UF  Sexo  Idade  Cor  Anos de Estudo  Renda    Altura\n",
              "0  11     0     23    8              12    800  1.603808\n",
              "1  11     1     23    2              12   1150  1.739790\n",
              "2  11     1     35    8              15    880  1.760444\n",
              "3  11     0     46    2               6   3500  1.783158\n",
              "4  11     1     47    8               9    150  1.690631"
            ]
          },
          "metadata": {},
          "execution_count": 10
        }
      ],
      "source": [
        "dados.head()"
      ]
    },
    {
      "cell_type": "code",
      "execution_count": 34,
      "metadata": {
        "colab": {
          "base_uri": "https://localhost:8080/",
          "height": 488
        },
        "id": "uh2CWIG8Tg2A",
        "outputId": "5935b10c-3417-40ad-a0e3-968c12d85bc2"
      },
      "outputs": [
        {
          "output_type": "stream",
          "name": "stderr",
          "text": [
            "/usr/local/lib/python3.7/dist-packages/seaborn/distributions.py:2619: FutureWarning: `distplot` is a deprecated function and will be removed in a future version. Please adapt your code to use either `displot` (a figure-level function with similar flexibility) or `histplot` (an axes-level function for histograms).\n",
            "  warnings.warn(msg, FutureWarning)\n"
          ]
        },
        {
          "output_type": "execute_result",
          "data": {
            "text/plain": [
              "<matplotlib.axes._subplots.AxesSubplot at 0x7f563ccd6a10>"
            ]
          },
          "metadata": {},
          "execution_count": 34
        },
        {
          "output_type": "display_data",
          "data": {
            "image/png": "[encoded data removed]",
            "text/plain": [
              "<Figure size 1008x432 with 1 Axes>"
            ]
          },
          "metadata": {
            "needs_background": "light"
          }
        }
      ],
      "source": [
        "ax = sns.distplot(dados.Renda)\n",
        "ax.figure.set_size_inches(14,6)\n",
        "ax.set_title('Distribuição de Frequência - RENDA', fontsize=18)\n",
        "ax.set_xlabel('Renda (R$)', fontsize=14)\n",
        "ax"
      ]
    },
    {
      "cell_type": "code",
      "execution_count": 35,
      "metadata": {
        "colab": {
          "base_uri": "https://localhost:8080/",
          "height": 488
        },
        "id": "s55WPk1aTg2C",
        "outputId": "5762d21f-ab2e-4d94-82d3-603566032bd4"
      },
      "outputs": [
        {
          "output_type": "stream",
          "name": "stderr",
          "text": [
            "/usr/local/lib/python3.7/dist-packages/seaborn/distributions.py:2619: FutureWarning: `distplot` is a deprecated function and will be removed in a future version. Please adapt your code to use either `displot` (a figure-level function with similar flexibility) or `histplot` (an axes-level function for histograms).\n",
            "  warnings.warn(msg, FutureWarning)\n"
          ]
        },
        {
          "output_type": "execute_result",
          "data": {
            "text/plain": [
              "<matplotlib.axes._subplots.AxesSubplot at 0x7f563cc0c690>"
            ]
          },
          "metadata": {},
          "execution_count": 35
        },
        {
          "output_type": "display_data",
          "data": {
            "image/png": "[encoded data removed]",
            "text/plain": [
              "<Figure size 1008x432 with 1 Axes>"
            ]
          },
          "metadata": {
            "needs_background": "light"
          }
        }
      ],
      "source": [
        "ax = sns.distplot(dados.Altura)\n",
        "ax.figure.set_size_inches(14,6)\n",
        "ax.set_title('Distribuição de Frequência - ALTURA', fontsize=18)\n",
        "ax.set_xlabel('Altura (Metros)', fontsize=14)\n",
        "ax"
      ]
    },
    {
      "cell_type": "code",
      "source": [
        "ax = sns.distplot(dados.Idade)\n",
        "ax.figure.set_size_inches(14,6)\n",
        "ax.set_title('Distribuição de Frequência - IDADE', fontsize=18)\n",
        "ax.set_xlabel('Idade', fontsize=14)\n",
        "ax"
      ],
      "metadata": {
        "colab": {
          "base_uri": "https://localhost:8080/",
          "height": 488
        },
        "id": "sz-i_mKIVbTq",
        "outputId": "c9a78adf-b98b-4a3e-d594-fb77baae0446"
      },
      "execution_count": 36,
      "outputs": [
        {
          "output_type": "stream",
          "name": "stderr",
          "text": [
            "/usr/local/lib/python3.7/dist-packages/seaborn/distributions.py:2619: FutureWarning: `distplot` is a deprecated function and will be removed in a future version. Please adapt your code to use either `displot` (a figure-level function with similar flexibility) or `histplot` (an axes-level function for histograms).\n",
            "  warnings.warn(msg, FutureWarning)\n"
          ]
        },
        {
          "output_type": "execute_result",
          "data": {
            "text/plain": [
              "<matplotlib.axes._subplots.AxesSubplot at 0x7f563ccf7190>"
            ]
          },
          "metadata": {},
          "execution_count": 36
        },
        {
          "output_type": "display_data",
          "data": {
            "image/png": "[encoded data removed]",
            "text/plain": [
              "<Figure size 1008x432 with 1 Axes>"
            ]
          },
          "metadata": {
            "needs_background": "light"
          }
        }
      ]
    },
    {
      "cell_type": "markdown",
      "metadata": {
        "id": "w45i-qJ1Tg2E"
      },
      "source": [
        "> ### Conclusões\n",
        "\n",
        "Escreva suas conclusões aqui..."
      ]
    },
    {
      "cell_type": "markdown",
      "metadata": {
        "id": "pnAH1T5fTg2F"
      },
      "source": [
        "### Para a variável RENDA, construa um histograma somente com as informações das pessoas com rendimento até R$ 20.000,00"
      ]
    },
    {
      "cell_type": "code",
      "execution_count": 37,
      "metadata": {
        "colab": {
          "base_uri": "https://localhost:8080/",
          "height": 488
        },
        "id": "C7zHF1vPTg2G",
        "outputId": "2d405f89-62dd-4b5c-81af-22e803f376fd"
      },
      "outputs": [
        {
          "output_type": "stream",
          "name": "stderr",
          "text": [
            "/usr/local/lib/python3.7/dist-packages/seaborn/distributions.py:2619: FutureWarning: `distplot` is a deprecated function and will be removed in a future version. Please adapt your code to use either `displot` (a figure-level function with similar flexibility) or `histplot` (an axes-level function for histograms).\n",
            "  warnings.warn(msg, FutureWarning)\n"
          ]
        },
        {
          "output_type": "execute_result",
          "data": {
            "text/plain": [
              "<matplotlib.axes._subplots.AxesSubplot at 0x7f563e663fd0>"
            ]
          },
          "metadata": {},
          "execution_count": 37
        },
        {
          "output_type": "display_data",
          "data": {
            "image/png": "[encoded data removed]",
            "text/plain": [
              "<Figure size 1008x432 with 1 Axes>"
            ]
          },
          "metadata": {
            "needs_background": "light"
          }
        }
      ],
      "source": [
        "ax = sns.distplot(dados.query('Renda < 20000').Renda)\n",
        "ax.figure.set_size_inches(14,6)\n",
        "ax.set_title('Distribuição de Frequência - RENDA - Abaixo de R$20k', fontsize=18)\n",
        "ax.set_xlabel('Renda', fontsize=14)\n",
        "ax"
      ]
    },
    {
      "cell_type": "markdown",
      "metadata": {
        "id": "vvtzLOUKTg2H"
      },
      "source": [
        "### Construa uma tabela de frequências e uma com os percentuais do cruzando das variáveis SEXO e COR\n",
        "#### <font color='blue'>Avalie o resultado da tabela e escreva suas principais conclusões</font>\n",
        "#### <font color='red'>Utilize os dicionários abaixo para renomear as linha e colunas das tabelas de frequências e dos gráficos em nosso projeto</font>"
      ]
    },
    {
      "cell_type": "code",
      "execution_count": 15,
      "metadata": {
        "id": "sChJRo_qTg2I"
      },
      "outputs": [],
      "source": [
        "sexo = {\n",
        "    0: 'Masculino', \n",
        "    1: 'Feminino'\n",
        "}\n",
        "cor = {\n",
        "    0: 'Indígena', \n",
        "    2: 'Branca', \n",
        "    4: 'Preta', \n",
        "    6: 'Amarela', \n",
        "    8: 'Parda', \n",
        "    9: 'Sem declaração'\n",
        "}\n",
        "anos_de_estudo = {\n",
        "    1: 'Sem instrução e menos de 1 ano', \n",
        "    2: '1 ano', \n",
        "    3: '2 anos', \n",
        "    4: '3 anos', \n",
        "    5: '4 anos', \n",
        "    6: '5 anos', \n",
        "    7: '6 anos', \n",
        "    8: '7 anos', \n",
        "    9: '8 anos', \n",
        "    10: '9 anos', \n",
        "    11: '10 anos', \n",
        "    12: '11 anos', \n",
        "    13: '12 anos', \n",
        "    14: '13 anos', \n",
        "    15: '14 anos', \n",
        "    16: '15 anos ou mais', \n",
        "    17: 'Não determinados'\n",
        "}\n",
        "uf = {\n",
        "    11: 'Rondônia', \n",
        "    12: 'Acre', \n",
        "    13: 'Amazonas', \n",
        "    14: 'Roraima', \n",
        "    15: 'Pará', \n",
        "    16: 'Amapá', \n",
        "    17: 'Tocantins', \n",
        "    21: 'Maranhão', \n",
        "    22: 'Piauí', \n",
        "    23: 'Ceará', \n",
        "    24: 'Rio Grande do Norte', \n",
        "    25: 'Paraíba', \n",
        "    26: 'Pernambuco', \n",
        "    27: 'Alagoas', \n",
        "    28: 'Sergipe', \n",
        "    29: 'Bahia', \n",
        "    31: 'Minas Gerais', \n",
        "    32: 'Espírito Santo', \n",
        "    33: 'Rio de Janeiro', \n",
        "    35: 'São Paulo', \n",
        "    41: 'Paraná', \n",
        "    42: 'Santa Catarina', \n",
        "    43: 'Rio Grande do Sul', \n",
        "    50: 'Mato Grosso do Sul', \n",
        "    51: 'Mato Grosso', \n",
        "    52: 'Goiás', \n",
        "    53: 'Distrito Federal'\n",
        "}"
      ]
    },
    {
      "cell_type": "code",
      "execution_count": 16,
      "metadata": {
        "colab": {
          "base_uri": "https://localhost:8080/",
          "height": 143
        },
        "id": "KbeFXAGSTg2K",
        "outputId": "6f95684c-e8a6-4d5e-c205-4f196d1ef834"
      },
      "outputs": [
        {
          "output_type": "execute_result",
          "data": {
            "text/html": [
              "\n",
              "  <div id=\"df-58b50fd8-6e93-43ef-857b-3cdb915f74ac\">\n",
              "    <div class=\"colab-df-container\">\n",
              "      <div>\n",
              "<style scoped>\n",
              "    .dataframe tbody tr th:only-of-type {\n",
              "        vertical-align: middle;\n",
              "    }\n",
              "\n",
              "    .dataframe tbody tr th {\n",
              "        vertical-align: top;\n",
              "    }\n",
              "\n",
              "    .dataframe thead th {\n",
              "        text-align: right;\n",
              "    }\n",
              "</style>\n",
              "<table border=\"1\" class=\"dataframe\">\n",
              "  <thead>\n",
              "    <tr style=\"text-align: right;\">\n",
              "      <th>Cor</th>\n",
              "      <th>Indígena</th>\n",
              "      <th>Branca</th>\n",
              "      <th>Preta</th>\n",
              "      <th>Amarela</th>\n",
              "      <th>Parda</th>\n",
              "    </tr>\n",
              "    <tr>\n",
              "      <th>Sexo</th>\n",
              "      <th></th>\n",
              "      <th></th>\n",
              "      <th></th>\n",
              "      <th></th>\n",
              "      <th></th>\n",
              "    </tr>\n",
              "  </thead>\n",
              "  <tbody>\n",
              "    <tr>\n",
              "      <th>Masculino</th>\n",
              "      <td>256</td>\n",
              "      <td>22194</td>\n",
              "      <td>5502</td>\n",
              "      <td>235</td>\n",
              "      <td>25063</td>\n",
              "    </tr>\n",
              "    <tr>\n",
              "      <th>Feminino</th>\n",
              "      <td>101</td>\n",
              "      <td>9621</td>\n",
              "      <td>2889</td>\n",
              "      <td>117</td>\n",
              "      <td>10862</td>\n",
              "    </tr>\n",
              "  </tbody>\n",
              "</table>\n",
              "</div>\n",
              "      <button class=\"colab-df-convert\" onclick=\"convertToInteractive('df-58b50fd8-6e93-43ef-857b-3cdb915f74ac')\"\n",
              "              title=\"Convert this dataframe to an interactive table.\"\n",
              "              style=\"display:none;\">\n",
              "        \n",
              "  <svg xmlns=\"http://www.w3.org/2000/svg\" height=\"24px\"viewBox=\"0 0 24 24\"\n",
              "       width=\"24px\">\n",
              "    <path d=\"M0 0h24v24H0V0z\" fill=\"none\"/>\n",
              "    <path d=\"M18.56 5.44l.94 2.06.94-2.06 2.06-.94-2.06-.94-.94-2.06-.94 2.06-2.06.94zm-11 1L8.5 8.5l.94-2.06 2.06-.94-2.06-.94L8.5 2.5l-.94 2.06-2.06.94zm10 10l.94 2.06.94-2.06 2.06-.94-2.06-.94-.94-2.06-.94 2.06-2.06.94z\"/><path d=\"M17.41 7.96l-1.37-1.37c-.4-.4-.92-.59-1.43-.59-.52 0-1.04.2-1.43.59L10.3 9.45l-7.72 7.72c-.78.78-.78 2.05 0 2.83L4 21.41c.39.39.9.59 1.41.59.51 0 1.02-.2 1.41-.59l7.78-7.78 2.81-2.81c.8-.78.8-2.07 0-2.86zM5.41 20L4 18.59l7.72-7.72 1.47 1.35L5.41 20z\"/>\n",
              "  </svg>\n",
              "      </button>\n",
              "      \n",
              "  <style>\n",
              "    .colab-df-container {\n",
              "      display:flex;\n",
              "      flex-wrap:wrap;\n",
              "      gap: 12px;\n",
              "    }\n",
              "\n",
              "    .colab-df-convert {\n",
              "      background-color: #E8F0FE;\n",
              "      border: none;\n",
              "      border-radius: 50%;\n",
              "      cursor: pointer;\n",
              "      display: none;\n",
              "      fill: #1967D2;\n",
              "      height: 32px;\n",
              "      padding: 0 0 0 0;\n",
              "      width: 32px;\n",
              "    }\n",
              "\n",
              "    .colab-df-convert:hover {\n",
              "      background-color: #E2EBFA;\n",
              "      box-shadow: 0px 1px 2px rgba(60, 64, 67, 0.3), 0px 1px 3px 1px rgba(60, 64, 67, 0.15);\n",
              "      fill: #174EA6;\n",
              "    }\n",
              "\n",
              "    [theme=dark] .colab-df-convert {\n",
              "      background-color: #3B4455;\n",
              "      fill: #D2E3FC;\n",
              "    }\n",
              "\n",
              "    [theme=dark] .colab-df-convert:hover {\n",
              "      background-color: #434B5C;\n",
              "      box-shadow: 0px 1px 3px 1px rgba(0, 0, 0, 0.15);\n",
              "      filter: drop-shadow(0px 1px 2px rgba(0, 0, 0, 0.3));\n",
              "      fill: #FFFFFF;\n",
              "    }\n",
              "  </style>\n",
              "\n",
              "      <script>\n",
              "        const buttonEl =\n",
              "          document.querySelector('#df-58b50fd8-6e93-43ef-857b-3cdb915f74ac button.colab-df-convert');\n",
              "        buttonEl.style.display =\n",
              "          google.colab.kernel.accessAllowed ? 'block' : 'none';\n",
              "\n",
              "        async function convertToInteractive(key) {\n",
              "          const element = document.querySelector('#df-58b50fd8-6e93-43ef-857b-3cdb915f74ac');\n",
              "          const dataTable =\n",
              "            await google.colab.kernel.invokeFunction('convertToInteractive',\n",
              "                                                     [key], {});\n",
              "          if (!dataTable) return;\n",
              "\n",
              "          const docLinkHtml = 'Like what you see? Visit the ' +\n",
              "            '<a target=\"_blank\" href=https://colab.research.google.com/notebooks/data_table.ipynb>data table notebook</a>'\n",
              "            + ' to learn more about interactive tables.';\n",
              "          element.innerHTML = '';\n",
              "          dataTable['output_type'] = 'display_data';\n",
              "          await google.colab.output.renderOutput(dataTable, element);\n",
              "          const docLink = document.createElement('div');\n",
              "          docLink.innerHTML = docLinkHtml;\n",
              "          element.appendChild(docLink);\n",
              "        }\n",
              "      </script>\n",
              "    </div>\n",
              "  </div>\n",
              "  "
            ],
            "text/plain": [
              "Cor        Indígena  Branca  Preta  Amarela  Parda\n",
              "Sexo                                              \n",
              "Masculino       256   22194   5502      235  25063\n",
              "Feminino        101    9621   2889      117  10862"
            ]
          },
          "metadata": {},
          "execution_count": 16
        }
      ],
      "source": [
        "freq_sexo_por_cor = pd.crosstab(dados.Sexo, dados.Cor)\n",
        "freq_sexo_por_cor.rename(index=sexo, inplace=True)\n",
        "freq_sexo_por_cor.rename(columns=cor, inplace=True)\n",
        "freq_sexo_por_cor"
      ]
    },
    {
      "cell_type": "code",
      "execution_count": 17,
      "metadata": {
        "colab": {
          "base_uri": "https://localhost:8080/",
          "height": 143
        },
        "id": "csL1jaeSTg2M",
        "outputId": "c1f2e1b9-057e-4769-9c5d-f245755da014"
      },
      "outputs": [
        {
          "output_type": "execute_result",
          "data": {
            "text/html": [
              "\n",
              "  <div id=\"df-1578a8cc-2da5-4fca-93ac-39ed905a68d4\">\n",
              "    <div class=\"colab-df-container\">\n",
              "      <div>\n",
              "<style scoped>\n",
              "    .dataframe tbody tr th:only-of-type {\n",
              "        vertical-align: middle;\n",
              "    }\n",
              "\n",
              "    .dataframe tbody tr th {\n",
              "        vertical-align: top;\n",
              "    }\n",
              "\n",
              "    .dataframe thead th {\n",
              "        text-align: right;\n",
              "    }\n",
              "</style>\n",
              "<table border=\"1\" class=\"dataframe\">\n",
              "  <thead>\n",
              "    <tr style=\"text-align: right;\">\n",
              "      <th>Cor</th>\n",
              "      <th>Indígena</th>\n",
              "      <th>Branca</th>\n",
              "      <th>Preta</th>\n",
              "      <th>Amarela</th>\n",
              "      <th>Parda</th>\n",
              "    </tr>\n",
              "    <tr>\n",
              "      <th>Sexo</th>\n",
              "      <th></th>\n",
              "      <th></th>\n",
              "      <th></th>\n",
              "      <th></th>\n",
              "      <th></th>\n",
              "    </tr>\n",
              "  </thead>\n",
              "  <tbody>\n",
              "    <tr>\n",
              "      <th>Masculino</th>\n",
              "      <td>0.333160</td>\n",
              "      <td>28.883394</td>\n",
              "      <td>7.160333</td>\n",
              "      <td>0.305830</td>\n",
              "      <td>32.617126</td>\n",
              "    </tr>\n",
              "    <tr>\n",
              "      <th>Feminino</th>\n",
              "      <td>0.131442</td>\n",
              "      <td>12.520822</td>\n",
              "      <td>3.759761</td>\n",
              "      <td>0.152264</td>\n",
              "      <td>14.135867</td>\n",
              "    </tr>\n",
              "  </tbody>\n",
              "</table>\n",
              "</div>\n",
              "      <button class=\"colab-df-convert\" onclick=\"convertToInteractive('df-1578a8cc-2da5-4fca-93ac-39ed905a68d4')\"\n",
              "              title=\"Convert this dataframe to an interactive table.\"\n",
              "              style=\"display:none;\">\n",
              "        \n",
              "  <svg xmlns=\"http://www.w3.org/2000/svg\" height=\"24px\"viewBox=\"0 0 24 24\"\n",
              "       width=\"24px\">\n",
              "    <path d=\"M0 0h24v24H0V0z\" fill=\"none\"/>\n",
              "    <path d=\"M18.56 5.44l.94 2.06.94-2.06 2.06-.94-2.06-.94-.94-2.06-.94 2.06-2.06.94zm-11 1L8.5 8.5l.94-2.06 2.06-.94-2.06-.94L8.5 2.5l-.94 2.06-2.06.94zm10 10l.94 2.06.94-2.06 2.06-.94-2.06-.94-.94-2.06-.94 2.06-2.06.94z\"/><path d=\"M17.41 7.96l-1.37-1.37c-.4-.4-.92-.59-1.43-.59-.52 0-1.04.2-1.43.59L10.3 9.45l-7.72 7.72c-.78.78-.78 2.05 0 2.83L4 21.41c.39.39.9.59 1.41.59.51 0 1.02-.2 1.41-.59l7.78-7.78 2.81-2.81c.8-.78.8-2.07 0-2.86zM5.41 20L4 18.59l7.72-7.72 1.47 1.35L5.41 20z\"/>\n",
              "  </svg>\n",
              "      </button>\n",
              "      \n",
              "  <style>\n",
              "    .colab-df-container {\n",
              "      display:flex;\n",
              "      flex-wrap:wrap;\n",
              "      gap: 12px;\n",
              "    }\n",
              "\n",
              "    .colab-df-convert {\n",
              "      background-color: #E8F0FE;\n",
              "      border: none;\n",
              "      border-radius: 50%;\n",
              "      cursor: pointer;\n",
              "      display: none;\n",
              "      fill: #1967D2;\n",
              "      height: 32px;\n",
              "      padding: 0 0 0 0;\n",
              "      width: 32px;\n",
              "    }\n",
              "\n",
              "    .colab-df-convert:hover {\n",
              "      background-color: #E2EBFA;\n",
              "      box-shadow: 0px 1px 2px rgba(60, 64, 67, 0.3), 0px 1px 3px 1px rgba(60, 64, 67, 0.15);\n",
              "      fill: #174EA6;\n",
              "    }\n",
              "\n",
              "    [theme=dark] .colab-df-convert {\n",
              "      background-color: #3B4455;\n",
              "      fill: #D2E3FC;\n",
              "    }\n",
              "\n",
              "    [theme=dark] .colab-df-convert:hover {\n",
              "      background-color: #434B5C;\n",
              "      box-shadow: 0px 1px 3px 1px rgba(0, 0, 0, 0.15);\n",
              "      filter: drop-shadow(0px 1px 2px rgba(0, 0, 0, 0.3));\n",
              "      fill: #FFFFFF;\n",
              "    }\n",
              "  </style>\n",
              "\n",
              "      <script>\n",
              "        const buttonEl =\n",
              "          document.querySelector('#df-1578a8cc-2da5-4fca-93ac-39ed905a68d4 button.colab-df-convert');\n",
              "        buttonEl.style.display =\n",
              "          google.colab.kernel.accessAllowed ? 'block' : 'none';\n",
              "\n",
              "        async function convertToInteractive(key) {\n",
              "          const element = document.querySelector('#df-1578a8cc-2da5-4fca-93ac-39ed905a68d4');\n",
              "          const dataTable =\n",
              "            await google.colab.kernel.invokeFunction('convertToInteractive',\n",
              "                                                     [key], {});\n",
              "          if (!dataTable) return;\n",
              "\n",
              "          const docLinkHtml = 'Like what you see? Visit the ' +\n",
              "            '<a target=\"_blank\" href=https://colab.research.google.com/notebooks/data_table.ipynb>data table notebook</a>'\n",
              "            + ' to learn more about interactive tables.';\n",
              "          element.innerHTML = '';\n",
              "          dataTable['output_type'] = 'display_data';\n",
              "          await google.colab.output.renderOutput(dataTable, element);\n",
              "          const docLink = document.createElement('div');\n",
              "          docLink.innerHTML = docLinkHtml;\n",
              "          element.appendChild(docLink);\n",
              "        }\n",
              "      </script>\n",
              "    </div>\n",
              "  </div>\n",
              "  "
            ],
            "text/plain": [
              "Cor        Indígena     Branca     Preta   Amarela      Parda\n",
              "Sexo                                                         \n",
              "Masculino  0.333160  28.883394  7.160333  0.305830  32.617126\n",
              "Feminino   0.131442  12.520822  3.759761  0.152264  14.135867"
            ]
          },
          "metadata": {},
          "execution_count": 17
        }
      ],
      "source": [
        "perc_sexo_por_cor = pd.crosstab(dados.Sexo, dados.Cor, normalize=True) * 100\n",
        "perc_sexo_por_cor.rename(index=sexo, inplace=True)\n",
        "perc_sexo_por_cor.rename(columns=cor, inplace=True)\n",
        "perc_sexo_por_cor"
      ]
    },
    {
      "cell_type": "markdown",
      "metadata": {
        "id": "2jLZmww2Tg2O"
      },
      "source": [
        "> ### Conclusões\n",
        "\n",
        "A frequencia de pessoas pardas e brancas tanto em homens quanto mulheres são as maiores."
      ]
    },
    {
      "cell_type": "markdown",
      "metadata": {
        "id": "Aoeayf6zTg2P"
      },
      "source": [
        "## Realize, para a variável RENDA, uma análise descritiva com as ferramentas que aprendemos em nosso treinamento"
      ]
    },
    {
      "cell_type": "markdown",
      "metadata": {
        "id": "c2CtT71oTg2P"
      },
      "source": [
        "### Obtenha a média aritimética"
      ]
    },
    {
      "cell_type": "code",
      "execution_count": 18,
      "metadata": {
        "colab": {
          "base_uri": "https://localhost:8080/"
        },
        "id": "qlJESCU6Tg2P",
        "outputId": "ff5da4ac-b28c-42b7-c6f8-60979a692030"
      },
      "outputs": [
        {
          "output_type": "execute_result",
          "data": {
            "text/plain": [
              "2000.3831988547631"
            ]
          },
          "metadata": {},
          "execution_count": 18
        }
      ],
      "source": [
        "dados.Renda.mean()"
      ]
    },
    {
      "cell_type": "markdown",
      "metadata": {
        "id": "Xd4saPBCTg2R"
      },
      "source": [
        "### Obtenha a mediana"
      ]
    },
    {
      "cell_type": "code",
      "execution_count": 19,
      "metadata": {
        "colab": {
          "base_uri": "https://localhost:8080/"
        },
        "id": "vHTqX-UATg2R",
        "outputId": "d685f59c-cd54-47c6-9133-a125f573e9eb"
      },
      "outputs": [
        {
          "output_type": "execute_result",
          "data": {
            "text/plain": [
              "1200.0"
            ]
          },
          "metadata": {},
          "execution_count": 19
        }
      ],
      "source": [
        "dados.Renda.median()"
      ]
    },
    {
      "cell_type": "markdown",
      "metadata": {
        "id": "_e40rDSwTg2U"
      },
      "source": [
        "### Obtenha a moda"
      ]
    },
    {
      "cell_type": "code",
      "execution_count": 20,
      "metadata": {
        "colab": {
          "base_uri": "https://localhost:8080/"
        },
        "id": "BFOOdYOvTg2V",
        "outputId": "0c1c7f03-8adf-4b12-f57d-dcfd595e676c"
      },
      "outputs": [
        {
          "output_type": "execute_result",
          "data": {
            "text/plain": [
              "0    788\n",
              "dtype: int64"
            ]
          },
          "metadata": {},
          "execution_count": 20
        }
      ],
      "source": [
        "dados.Renda.mode()"
      ]
    },
    {
      "cell_type": "markdown",
      "metadata": {
        "id": "Rnr1gOCMTg2X"
      },
      "source": [
        "### Obtenha o desvio médio absoluto"
      ]
    },
    {
      "cell_type": "code",
      "execution_count": 21,
      "metadata": {
        "colab": {
          "base_uri": "https://localhost:8080/"
        },
        "id": "TmE_1QDGTg2Y",
        "outputId": "74c51f23-f96a-46c7-e5c1-e16a7298197d"
      },
      "outputs": [
        {
          "output_type": "execute_result",
          "data": {
            "text/plain": [
              "1526.4951371644931"
            ]
          },
          "metadata": {},
          "execution_count": 21
        }
      ],
      "source": [
        "dados.Renda.mad()"
      ]
    },
    {
      "cell_type": "markdown",
      "metadata": {
        "id": "hCgV_XaQTg2Z"
      },
      "source": [
        "### Obtenha a variância"
      ]
    },
    {
      "cell_type": "code",
      "execution_count": 22,
      "metadata": {
        "colab": {
          "base_uri": "https://localhost:8080/"
        },
        "id": "SwRgACeGTg2a",
        "outputId": "532a1500-5560-4170-80c6-a11bc6873933"
      },
      "outputs": [
        {
          "output_type": "execute_result",
          "data": {
            "text/plain": [
              "11044906.00622118"
            ]
          },
          "metadata": {},
          "execution_count": 22
        }
      ],
      "source": [
        "dados.Renda.var()"
      ]
    },
    {
      "cell_type": "markdown",
      "metadata": {
        "id": "gsO6MKOcTg2c"
      },
      "source": [
        "### Obtenha o desvio-padrão"
      ]
    },
    {
      "cell_type": "code",
      "execution_count": 23,
      "metadata": {
        "colab": {
          "base_uri": "https://localhost:8080/"
        },
        "id": "gR-LVTRYTg2d",
        "outputId": "330fde9c-8b5d-4b71-e345-3cfa39bf75c2"
      },
      "outputs": [
        {
          "output_type": "execute_result",
          "data": {
            "text/plain": [
              "3323.3877303470294"
            ]
          },
          "metadata": {},
          "execution_count": 23
        }
      ],
      "source": [
        "dados.Renda.std()"
      ]
    },
    {
      "cell_type": "markdown",
      "metadata": {
        "id": "vG-rdO5fTg2f"
      },
      "source": [
        "### Obtenha a média, mediana e valor máximo da variável RENDA segundo SEXO e COR\n",
        "#### <font color='blue'>Destaque os pontos mais importante que você observa nas tabulações</font>\n",
        "#### <font color='red'>O parâmento <i>aggfunc</i> da função <i>crosstab()</i> pode receber uma lista de funções. Exemplo: <i>aggfunc = {'mean', 'median', 'max'}</i></font>"
      ]
    },
    {
      "cell_type": "code",
      "execution_count": 39,
      "metadata": {
        "colab": {
          "base_uri": "https://localhost:8080/",
          "height": 268
        },
        "id": "VgxygKWXTg2g",
        "outputId": "18624953-1753-4da8-bd70-3c93cb76a055"
      },
      "outputs": [
        {
          "output_type": "execute_result",
          "data": {
            "text/html": [
              "\n",
              "  <div id=\"df-1bb27dd4-7806-4859-a9be-bfb81d02e20e\">\n",
              "    <div class=\"colab-df-container\">\n",
              "      <div>\n",
              "<style scoped>\n",
              "    .dataframe tbody tr th:only-of-type {\n",
              "        vertical-align: middle;\n",
              "    }\n",
              "\n",
              "    .dataframe tbody tr th {\n",
              "        vertical-align: top;\n",
              "    }\n",
              "\n",
              "    .dataframe thead tr th {\n",
              "        text-align: left;\n",
              "    }\n",
              "\n",
              "    .dataframe thead tr:last-of-type th {\n",
              "        text-align: right;\n",
              "    }\n",
              "</style>\n",
              "<table border=\"1\" class=\"dataframe\">\n",
              "  <thead>\n",
              "    <tr>\n",
              "      <th></th>\n",
              "      <th colspan=\"2\" halign=\"left\">max</th>\n",
              "      <th colspan=\"2\" halign=\"left\">mean</th>\n",
              "      <th colspan=\"2\" halign=\"left\">median</th>\n",
              "    </tr>\n",
              "    <tr>\n",
              "      <th>Sexo</th>\n",
              "      <th>Masculino</th>\n",
              "      <th>Feminino</th>\n",
              "      <th>Masculino</th>\n",
              "      <th>Feminino</th>\n",
              "      <th>Masculino</th>\n",
              "      <th>Feminino</th>\n",
              "    </tr>\n",
              "    <tr>\n",
              "      <th>Cor</th>\n",
              "      <th></th>\n",
              "      <th></th>\n",
              "      <th></th>\n",
              "      <th></th>\n",
              "      <th></th>\n",
              "      <th></th>\n",
              "    </tr>\n",
              "  </thead>\n",
              "  <tbody>\n",
              "    <tr>\n",
              "      <th>Indígena</th>\n",
              "      <td>10000.0</td>\n",
              "      <td>120000.0</td>\n",
              "      <td>1081.710938</td>\n",
              "      <td>2464.386139</td>\n",
              "      <td>797.5</td>\n",
              "      <td>788.0</td>\n",
              "    </tr>\n",
              "    <tr>\n",
              "      <th>Branca</th>\n",
              "      <td>200000.0</td>\n",
              "      <td>100000.0</td>\n",
              "      <td>2925.744435</td>\n",
              "      <td>2109.866750</td>\n",
              "      <td>1700.0</td>\n",
              "      <td>1200.0</td>\n",
              "    </tr>\n",
              "    <tr>\n",
              "      <th>Preta</th>\n",
              "      <td>50000.0</td>\n",
              "      <td>23000.0</td>\n",
              "      <td>1603.861687</td>\n",
              "      <td>1134.596400</td>\n",
              "      <td>1200.0</td>\n",
              "      <td>800.0</td>\n",
              "    </tr>\n",
              "    <tr>\n",
              "      <th>Amarela</th>\n",
              "      <td>50000.0</td>\n",
              "      <td>20000.0</td>\n",
              "      <td>4758.251064</td>\n",
              "      <td>3027.341880</td>\n",
              "      <td>2800.0</td>\n",
              "      <td>1500.0</td>\n",
              "    </tr>\n",
              "    <tr>\n",
              "      <th>Parda</th>\n",
              "      <td>100000.0</td>\n",
              "      <td>30000.0</td>\n",
              "      <td>1659.577425</td>\n",
              "      <td>1176.758516</td>\n",
              "      <td>1200.0</td>\n",
              "      <td>800.0</td>\n",
              "    </tr>\n",
              "  </tbody>\n",
              "</table>\n",
              "</div>\n",
              "      <button class=\"colab-df-convert\" onclick=\"convertToInteractive('df-1bb27dd4-7806-4859-a9be-bfb81d02e20e')\"\n",
              "              title=\"Convert this dataframe to an interactive table.\"\n",
              "              style=\"display:none;\">\n",
              "        \n",
              "  <svg xmlns=\"http://www.w3.org/2000/svg\" height=\"24px\"viewBox=\"0 0 24 24\"\n",
              "       width=\"24px\">\n",
              "    <path d=\"M0 0h24v24H0V0z\" fill=\"none\"/>\n",
              "    <path d=\"M18.56 5.44l.94 2.06.94-2.06 2.06-.94-2.06-.94-.94-2.06-.94 2.06-2.06.94zm-11 1L8.5 8.5l.94-2.06 2.06-.94-2.06-.94L8.5 2.5l-.94 2.06-2.06.94zm10 10l.94 2.06.94-2.06 2.06-.94-2.06-.94-.94-2.06-.94 2.06-2.06.94z\"/><path d=\"M17.41 7.96l-1.37-1.37c-.4-.4-.92-.59-1.43-.59-.52 0-1.04.2-1.43.59L10.3 9.45l-7.72 7.72c-.78.78-.78 2.05 0 2.83L4 21.41c.39.39.9.59 1.41.59.51 0 1.02-.2 1.41-.59l7.78-7.78 2.81-2.81c.8-.78.8-2.07 0-2.86zM5.41 20L4 18.59l7.72-7.72 1.47 1.35L5.41 20z\"/>\n",
              "  </svg>\n",
              "      </button>\n",
              "      \n",
              "  <style>\n",
              "    .colab-df-container {\n",
              "      display:flex;\n",
              "      flex-wrap:wrap;\n",
              "      gap: 12px;\n",
              "    }\n",
              "\n",
              "    .colab-df-convert {\n",
              "      background-color: #E8F0FE;\n",
              "      border: none;\n",
              "      border-radius: 50%;\n",
              "      cursor: pointer;\n",
              "      display: none;\n",
              "      fill: #1967D2;\n",
              "      height: 32px;\n",
              "      padding: 0 0 0 0;\n",
              "      width: 32px;\n",
              "    }\n",
              "\n",
              "    .colab-df-convert:hover {\n",
              "      background-color: #E2EBFA;\n",
              "      box-shadow: 0px 1px 2px rgba(60, 64, 67, 0.3), 0px 1px 3px 1px rgba(60, 64, 67, 0.15);\n",
              "      fill: #174EA6;\n",
              "    }\n",
              "\n",
              "    [theme=dark] .colab-df-convert {\n",
              "      background-color: #3B4455;\n",
              "      fill: #D2E3FC;\n",
              "    }\n",
              "\n",
              "    [theme=dark] .colab-df-convert:hover {\n",
              "      background-color: #434B5C;\n",
              "      box-shadow: 0px 1px 3px 1px rgba(0, 0, 0, 0.15);\n",
              "      filter: drop-shadow(0px 1px 2px rgba(0, 0, 0, 0.3));\n",
              "      fill: #FFFFFF;\n",
              "    }\n",
              "  </style>\n",
              "\n",
              "      <script>\n",
              "        const buttonEl =\n",
              "          document.querySelector('#df-1bb27dd4-7806-4859-a9be-bfb81d02e20e button.colab-df-convert');\n",
              "        buttonEl.style.display =\n",
              "          google.colab.kernel.accessAllowed ? 'block' : 'none';\n",
              "\n",
              "        async function convertToInteractive(key) {\n",
              "          const element = document.querySelector('#df-1bb27dd4-7806-4859-a9be-bfb81d02e20e');\n",
              "          const dataTable =\n",
              "            await google.colab.kernel.invokeFunction('convertToInteractive',\n",
              "                                                     [key], {});\n",
              "          if (!dataTable) return;\n",
              "\n",
              "          const docLinkHtml = 'Like what you see? Visit the ' +\n",
              "            '<a target=\"_blank\" href=https://colab.research.google.com/notebooks/data_table.ipynb>data table notebook</a>'\n",
              "            + ' to learn more about interactive tables.';\n",
              "          element.innerHTML = '';\n",
              "          dataTable['output_type'] = 'display_data';\n",
              "          await google.colab.output.renderOutput(dataTable, element);\n",
              "          const docLink = document.createElement('div');\n",
              "          docLink.innerHTML = docLinkHtml;\n",
              "          element.appendChild(docLink);\n",
              "        }\n",
              "      </script>\n",
              "    </div>\n",
              "  </div>\n",
              "  "
            ],
            "text/plain": [
              "               max                   mean                 median         \n",
              "Sexo     Masculino  Feminino    Masculino     Feminino Masculino Feminino\n",
              "Cor                                                                      \n",
              "Indígena   10000.0  120000.0  1081.710938  2464.386139     797.5    788.0\n",
              "Branca    200000.0  100000.0  2925.744435  2109.866750    1700.0   1200.0\n",
              "Preta      50000.0   23000.0  1603.861687  1134.596400    1200.0    800.0\n",
              "Amarela    50000.0   20000.0  4758.251064  3027.341880    2800.0   1500.0\n",
              "Parda     100000.0   30000.0  1659.577425  1176.758516    1200.0    800.0"
            ]
          },
          "metadata": {},
          "execution_count": 39
        }
      ],
      "source": [
        "estatisticas_da_renda_por_sexo_e_cor = pd.crosstab(dados.Cor,\n",
        "                                                   dados.Sexo,\n",
        "                                                   values=dados.Renda,\n",
        "                                                   aggfunc={'mean','median','max'})\n",
        "estatisticas_da_renda_por_sexo_e_cor.rename(index=cor, inplace=True)\n",
        "estatisticas_da_renda_por_sexo_e_cor.rename(columns=sexo, inplace=True)\n",
        "estatisticas_da_renda_por_sexo_e_cor"
      ]
    },
    {
      "cell_type": "markdown",
      "metadata": {
        "id": "ibndm9iwTg2i"
      },
      "source": [
        "> ### Conclusões\n",
        "\n",
        "Escreva suas conclusões aqui..."
      ]
    },
    {
      "cell_type": "markdown",
      "metadata": {
        "id": "CleJ6c1rTg2i"
      },
      "source": [
        "### Obtenha as medidas de dispersão da variável RENDA segundo SEXO e COR\n",
        "#### <font color='blue'>Destaque os pontos mais importante que você observa nas tabulações</font>\n",
        "#### <font color='red'>O parâmento <i>aggfunc</i> da função <i>crosstab()</i> pode receber uma lista de funções. Exemplo: <i>aggfunc = {'mad', 'var', 'std'}</i></font>"
      ]
    },
    {
      "cell_type": "code",
      "execution_count": 40,
      "metadata": {
        "colab": {
          "base_uri": "https://localhost:8080/",
          "height": 268
        },
        "id": "bNv-eWZ3Tg2j",
        "outputId": "caa229af-575e-407c-b021-501543066829"
      },
      "outputs": [
        {
          "output_type": "execute_result",
          "data": {
            "text/html": [
              "\n",
              "  <div id=\"df-8285f167-263d-4624-b79d-b233926935ba\">\n",
              "    <div class=\"colab-df-container\">\n",
              "      <div>\n",
              "<style scoped>\n",
              "    .dataframe tbody tr th:only-of-type {\n",
              "        vertical-align: middle;\n",
              "    }\n",
              "\n",
              "    .dataframe tbody tr th {\n",
              "        vertical-align: top;\n",
              "    }\n",
              "\n",
              "    .dataframe thead tr th {\n",
              "        text-align: left;\n",
              "    }\n",
              "\n",
              "    .dataframe thead tr:last-of-type th {\n",
              "        text-align: right;\n",
              "    }\n",
              "</style>\n",
              "<table border=\"1\" class=\"dataframe\">\n",
              "  <thead>\n",
              "    <tr>\n",
              "      <th></th>\n",
              "      <th colspan=\"2\" halign=\"left\">mad</th>\n",
              "      <th colspan=\"2\" halign=\"left\">std</th>\n",
              "      <th colspan=\"2\" halign=\"left\">var</th>\n",
              "    </tr>\n",
              "    <tr>\n",
              "      <th>Sexo</th>\n",
              "      <th>Masculino</th>\n",
              "      <th>Feminino</th>\n",
              "      <th>Masculino</th>\n",
              "      <th>Feminino</th>\n",
              "      <th>Masculino</th>\n",
              "      <th>Feminino</th>\n",
              "    </tr>\n",
              "    <tr>\n",
              "      <th>Cor</th>\n",
              "      <th></th>\n",
              "      <th></th>\n",
              "      <th></th>\n",
              "      <th></th>\n",
              "      <th></th>\n",
              "      <th></th>\n",
              "    </tr>\n",
              "  </thead>\n",
              "  <tbody>\n",
              "    <tr>\n",
              "      <th>Indígena</th>\n",
              "      <td>798.91</td>\n",
              "      <td>3007.89</td>\n",
              "      <td>1204.09</td>\n",
              "      <td>11957.50</td>\n",
              "      <td>1449841.13</td>\n",
              "      <td>1.429818e+08</td>\n",
              "    </tr>\n",
              "    <tr>\n",
              "      <th>Branca</th>\n",
              "      <td>2261.01</td>\n",
              "      <td>1670.97</td>\n",
              "      <td>4750.79</td>\n",
              "      <td>3251.01</td>\n",
              "      <td>22570023.41</td>\n",
              "      <td>1.056909e+07</td>\n",
              "    </tr>\n",
              "    <tr>\n",
              "      <th>Preta</th>\n",
              "      <td>975.60</td>\n",
              "      <td>705.45</td>\n",
              "      <td>1936.31</td>\n",
              "      <td>1349.80</td>\n",
              "      <td>3749293.59</td>\n",
              "      <td>1.821960e+06</td>\n",
              "    </tr>\n",
              "    <tr>\n",
              "      <th>Amarela</th>\n",
              "      <td>3709.60</td>\n",
              "      <td>2549.15</td>\n",
              "      <td>5740.82</td>\n",
              "      <td>3731.17</td>\n",
              "      <td>32957069.62</td>\n",
              "      <td>1.392166e+07</td>\n",
              "    </tr>\n",
              "    <tr>\n",
              "      <th>Parda</th>\n",
              "      <td>1125.83</td>\n",
              "      <td>811.58</td>\n",
              "      <td>2312.09</td>\n",
              "      <td>1596.23</td>\n",
              "      <td>5345747.15</td>\n",
              "      <td>2.547960e+06</td>\n",
              "    </tr>\n",
              "  </tbody>\n",
              "</table>\n",
              "</div>\n",
              "      <button class=\"colab-df-convert\" onclick=\"convertToInteractive('df-8285f167-263d-4624-b79d-b233926935ba')\"\n",
              "              title=\"Convert this dataframe to an interactive table.\"\n",
              "              style=\"display:none;\">\n",
              "        \n",
              "  <svg xmlns=\"http://www.w3.org/2000/svg\" height=\"24px\"viewBox=\"0 0 24 24\"\n",
              "       width=\"24px\">\n",
              "    <path d=\"M0 0h24v24H0V0z\" fill=\"none\"/>\n",
              "    <path d=\"M18.56 5.44l.94 2.06.94-2.06 2.06-.94-2.06-.94-.94-2.06-.94 2.06-2.06.94zm-11 1L8.5 8.5l.94-2.06 2.06-.94-2.06-.94L8.5 2.5l-.94 2.06-2.06.94zm10 10l.94 2.06.94-2.06 2.06-.94-2.06-.94-.94-2.06-.94 2.06-2.06.94z\"/><path d=\"M17.41 7.96l-1.37-1.37c-.4-.4-.92-.59-1.43-.59-.52 0-1.04.2-1.43.59L10.3 9.45l-7.72 7.72c-.78.78-.78 2.05 0 2.83L4 21.41c.39.39.9.59 1.41.59.51 0 1.02-.2 1.41-.59l7.78-7.78 2.81-2.81c.8-.78.8-2.07 0-2.86zM5.41 20L4 18.59l7.72-7.72 1.47 1.35L5.41 20z\"/>\n",
              "  </svg>\n",
              "      </button>\n",
              "      \n",
              "  <style>\n",
              "    .colab-df-container {\n",
              "      display:flex;\n",
              "      flex-wrap:wrap;\n",
              "      gap: 12px;\n",
              "    }\n",
              "\n",
              "    .colab-df-convert {\n",
              "      background-color: #E8F0FE;\n",
              "      border: none;\n",
              "      border-radius: 50%;\n",
              "      cursor: pointer;\n",
              "      display: none;\n",
              "      fill: #1967D2;\n",
              "      height: 32px;\n",
              "      padding: 0 0 0 0;\n",
              "      width: 32px;\n",
              "    }\n",
              "\n",
              "    .colab-df-convert:hover {\n",
              "      background-color: #E2EBFA;\n",
              "      box-shadow: 0px 1px 2px rgba(60, 64, 67, 0.3), 0px 1px 3px 1px rgba(60, 64, 67, 0.15);\n",
              "      fill: #174EA6;\n",
              "    }\n",
              "\n",
              "    [theme=dark] .colab-df-convert {\n",
              "      background-color: #3B4455;\n",
              "      fill: #D2E3FC;\n",
              "    }\n",
              "\n",
              "    [theme=dark] .colab-df-convert:hover {\n",
              "      background-color: #434B5C;\n",
              "      box-shadow: 0px 1px 3px 1px rgba(0, 0, 0, 0.15);\n",
              "      filter: drop-shadow(0px 1px 2px rgba(0, 0, 0, 0.3));\n",
              "      fill: #FFFFFF;\n",
              "    }\n",
              "  </style>\n",
              "\n",
              "      <script>\n",
              "        const buttonEl =\n",
              "          document.querySelector('#df-8285f167-263d-4624-b79d-b233926935ba button.colab-df-convert');\n",
              "        buttonEl.style.display =\n",
              "          google.colab.kernel.accessAllowed ? 'block' : 'none';\n",
              "\n",
              "        async function convertToInteractive(key) {\n",
              "          const element = document.querySelector('#df-8285f167-263d-4624-b79d-b233926935ba');\n",
              "          const dataTable =\n",
              "            await google.colab.kernel.invokeFunction('convertToInteractive',\n",
              "                                                     [key], {});\n",
              "          if (!dataTable) return;\n",
              "\n",
              "          const docLinkHtml = 'Like what you see? Visit the ' +\n",
              "            '<a target=\"_blank\" href=https://colab.research.google.com/notebooks/data_table.ipynb>data table notebook</a>'\n",
              "            + ' to learn more about interactive tables.';\n",
              "          element.innerHTML = '';\n",
              "          dataTable['output_type'] = 'display_data';\n",
              "          await google.colab.output.renderOutput(dataTable, element);\n",
              "          const docLink = document.createElement('div');\n",
              "          docLink.innerHTML = docLinkHtml;\n",
              "          element.appendChild(docLink);\n",
              "        }\n",
              "      </script>\n",
              "    </div>\n",
              "  </div>\n",
              "  "
            ],
            "text/plain": [
              "               mad                std                    var              \n",
              "Sexo     Masculino Feminino Masculino  Feminino    Masculino      Feminino\n",
              "Cor                                                                       \n",
              "Indígena    798.91  3007.89   1204.09  11957.50   1449841.13  1.429818e+08\n",
              "Branca     2261.01  1670.97   4750.79   3251.01  22570023.41  1.056909e+07\n",
              "Preta       975.60   705.45   1936.31   1349.80   3749293.59  1.821960e+06\n",
              "Amarela    3709.60  2549.15   5740.82   3731.17  32957069.62  1.392166e+07\n",
              "Parda      1125.83   811.58   2312.09   1596.23   5345747.15  2.547960e+06"
            ]
          },
          "metadata": {},
          "execution_count": 40
        }
      ],
      "source": [
        "dispersao_da_renda_por_sexo_e_cor = pd.crosstab(dados.Cor,\n",
        "                                                   dados.Sexo,\n",
        "                                                   values=dados.Renda,\n",
        "                                                   aggfunc={'mad','var','std'}).round(2)\n",
        "dispersao_da_renda_por_sexo_e_cor.rename(index=cor, inplace=True)\n",
        "dispersao_da_renda_por_sexo_e_cor.rename(columns=sexo, inplace=True)\n",
        "dispersao_da_renda_por_sexo_e_cor"
      ]
    },
    {
      "cell_type": "markdown",
      "metadata": {
        "id": "57aHvJMSTg2l"
      },
      "source": [
        "> ### Conclusões\n",
        "\n",
        "Escreva suas conclusões aqui..."
      ]
    },
    {
      "cell_type": "markdown",
      "metadata": {
        "id": "QSYjkdyOTg2l"
      },
      "source": [
        "### Construa um box plot da variável RENDA segundo SEXO e COR\n",
        "#### <font color='blue'>É possível verificar algum comportamento diferenciado no rendimento entre os grupos de pessoas analisados? Avalie o gráfico e destaque os pontos mais importantes.</font>\n",
        "#### <font color='red'>1º - Utilize somente as informações de pessoas com renda abaixo de R$ 10.000</font>\n",
        "#### <font color='red'>2º - Para incluir uma terceira variável na construção de um boxplot utilize o parâmetro <i>hue</i> e indique a variável que quer incluir na subdivisão.</font>\n",
        "#### Mais informações: https://seaborn.pydata.org/generated/seaborn.boxplot.html"
      ]
    },
    {
      "cell_type": "code",
      "execution_count": 26,
      "metadata": {
        "colab": {
          "base_uri": "https://localhost:8080/",
          "height": 540
        },
        "id": "8hGa4SMRTg2m",
        "outputId": "c0cfb13c-26e0-4671-9cef-540f79b17148"
      },
      "outputs": [
        {
          "output_type": "execute_result",
          "data": {
            "text/plain": [
              "<matplotlib.axes._subplots.AxesSubplot at 0x7f563edaed10>"
            ]
          },
          "metadata": {},
          "execution_count": 26
        },
        {
          "output_type": "display_data",
          "data": {
            "image/png": "[encoded data removed]",
            "text/plain": [
              "<Figure size 1008x576 with 1 Axes>"
            ]
          },
          "metadata": {
            "needs_background": "light"
          }
        }
      ],
      "source": [
        "ax = sns.boxplot(x='Renda', y='Cor', hue='Sexo', data=dados.query('Renda < 10000'), orient='h')\n",
        "ax.figure.set_size_inches(14,8)\n",
        "ax.set_title('Distribuição da Renda por cor e sexo com renda abaixo de R$10.000,00', fontsize=18)\n",
        "ax.set_ylabel('Cor', fontsize=16)\n",
        "ax.set_yticklabels(['Indígena', 'Branca', 'Preta', 'Amarela', 'Parda', 'Sem declaração'], fontsize=14)\n",
        "ax.set_xlabel('Renda', fontsize=16)\n",
        "handles, _ = ax.get_legend_handles_labels()\n",
        "ax.legend(handles, ['Masculino', 'Feminino'], fontsize=12)\n",
        "ax"
      ]
    },
    {
      "cell_type": "markdown",
      "metadata": {
        "id": "ROiIQRFhTg2o"
      },
      "source": [
        "> ### Conclusões\n",
        "\n",
        "Escreva suas conclusões aqui..."
      ]
    },
    {
      "cell_type": "markdown",
      "metadata": {
        "id": "zi4BaGooTg2o"
      },
      "source": [
        "# <font color=\"red\">DESAFIO<font>\n",
        "### Qual percentual de pessoas de nosso <i>dataset</i> ganham um salário mínimo (R$ 788,00) ou menos?\n",
        "#### <font color='red'>Utilize a função <i>percentileofscore()</i> do <i>scipy</i> para realizar estas análises.</font>\n",
        "#### Mais informações: https://docs.scipy.org/doc/scipy/reference/generated/scipy.stats.percentileofscore.html\n"
      ]
    },
    {
      "cell_type": "code",
      "execution_count": 41,
      "metadata": {
        "colab": {
          "base_uri": "https://localhost:8080/"
        },
        "id": "9DwXo2yITg2p",
        "outputId": "3379ffe1-1884-4fb9-8f5e-c8a982cd88e7"
      },
      "outputs": [
        {
          "output_type": "execute_result",
          "data": {
            "text/plain": [
              "0.0       0.0\n",
              "0.1     350.0\n",
              "0.2     788.0\n",
              "0.3     800.0\n",
              "0.4    1000.0\n",
              "0.5    1200.0\n",
              "0.6    1500.0\n",
              "0.7    1900.0\n",
              "0.8    2500.0\n",
              "0.9    4000.0\n",
              "Name: Renda, dtype: float64"
            ]
          },
          "metadata": {},
          "execution_count": 41
        }
      ],
      "source": [
        "# Essa Foi a minha resolução, mas não está 100% correta. Fiz sem olhar as dicas acima\n",
        "from scipy import stats\n",
        "\n",
        "dados.Renda.quantile([i/10 for i in range(10)])"
      ]
    },
    {
      "cell_type": "code",
      "source": [
        "# Essa é a correção a partir da aula de correção do professor\n",
        "percentual = stats.percentileofscore(dados.Renda, 788, kind='weak')\n",
        "print(f'{percentual:.2f}%')"
      ],
      "metadata": {
        "colab": {
          "base_uri": "https://localhost:8080/"
        },
        "id": "poBHSCwTiBNl",
        "outputId": "dbad210d-d623-4321-ddb4-e6990bb820ea"
      },
      "execution_count": 44,
      "outputs": [
        {
          "output_type": "stream",
          "name": "stdout",
          "text": [
            "28.87%\n"
          ]
        }
      ]
    },
    {
      "cell_type": "markdown",
      "metadata": {
        "id": "bl0fOMuKTg2q"
      },
      "source": [
        "### Qual o valor máximo ganho por 99% das pessoas de nosso <i>dataset</i>?\n",
        "#### <font color='red'>Utilize o método <i>quantile()</i> do <i>pandas</i> para realizar estas análises.</font>"
      ]
    },
    {
      "cell_type": "code",
      "execution_count": 45,
      "metadata": {
        "colab": {
          "base_uri": "https://localhost:8080/"
        },
        "id": "cIVwy8bKTg2q",
        "outputId": "3392c5ac-e9b9-4023-bce3-5693ae5a06e4"
      },
      "outputs": [
        {
          "output_type": "stream",
          "name": "stdout",
          "text": [
            "R$15000.00\n"
          ]
        }
      ],
      "source": [
        "valor = dados.Renda.quantile(.99)\n",
        "print(f'R${valor:.2f}')"
      ]
    },
    {
      "cell_type": "markdown",
      "metadata": {
        "id": "zeRhvtngTg2r"
      },
      "source": [
        "### Obtenha a média, mediana, valor máximo e desvio-padrão da variável RENDA segundo ANOS DE ESTUDO e SEXO\n",
        "#### <font color='blue'>Destaque os pontos mais importante que você observa nas tabulações</font>\n",
        "#### <font color='red'>O parâmento <i>aggfunc</i> da função <i>crosstab()</i> pode receber uma lista de funções. Exemplo: <i>aggfunc = ['mean', 'median', 'max', 'std']</i></font>"
      ]
    },
    {
      "cell_type": "code",
      "execution_count": 46,
      "metadata": {
        "colab": {
          "base_uri": "https://localhost:8080/",
          "height": 644
        },
        "id": "8nxGdQIpTg2s",
        "outputId": "bba18396-c8a4-4f1a-f7b4-777dd49c41e1"
      },
      "outputs": [
        {
          "output_type": "execute_result",
          "data": {
            "text/html": [
              "\n",
              "  <div id=\"df-0abc34d7-5666-43cd-8698-195cc83bd9cc\">\n",
              "    <div class=\"colab-df-container\">\n",
              "      <div>\n",
              "<style scoped>\n",
              "    .dataframe tbody tr th:only-of-type {\n",
              "        vertical-align: middle;\n",
              "    }\n",
              "\n",
              "    .dataframe tbody tr th {\n",
              "        vertical-align: top;\n",
              "    }\n",
              "\n",
              "    .dataframe thead tr th {\n",
              "        text-align: left;\n",
              "    }\n",
              "\n",
              "    .dataframe thead tr:last-of-type th {\n",
              "        text-align: right;\n",
              "    }\n",
              "</style>\n",
              "<table border=\"1\" class=\"dataframe\">\n",
              "  <thead>\n",
              "    <tr>\n",
              "      <th></th>\n",
              "      <th colspan=\"2\" halign=\"left\">mean</th>\n",
              "      <th colspan=\"2\" halign=\"left\">median</th>\n",
              "      <th colspan=\"2\" halign=\"left\">max</th>\n",
              "      <th colspan=\"2\" halign=\"left\">std</th>\n",
              "    </tr>\n",
              "    <tr>\n",
              "      <th>Sexo</th>\n",
              "      <th>Masculino</th>\n",
              "      <th>Feminino</th>\n",
              "      <th>Masculino</th>\n",
              "      <th>Feminino</th>\n",
              "      <th>Masculino</th>\n",
              "      <th>Feminino</th>\n",
              "      <th>Masculino</th>\n",
              "      <th>Feminino</th>\n",
              "    </tr>\n",
              "    <tr>\n",
              "      <th>Anos de Estudo</th>\n",
              "      <th></th>\n",
              "      <th></th>\n",
              "      <th></th>\n",
              "      <th></th>\n",
              "      <th></th>\n",
              "      <th></th>\n",
              "      <th></th>\n",
              "      <th></th>\n",
              "    </tr>\n",
              "  </thead>\n",
              "  <tbody>\n",
              "    <tr>\n",
              "      <th>Sem instrução e menos de 1 ano</th>\n",
              "      <td>799.49</td>\n",
              "      <td>516.20</td>\n",
              "      <td>700</td>\n",
              "      <td>390</td>\n",
              "      <td>30000</td>\n",
              "      <td>10000</td>\n",
              "      <td>1023.90</td>\n",
              "      <td>639.31</td>\n",
              "    </tr>\n",
              "    <tr>\n",
              "      <th>1 ano</th>\n",
              "      <td>895.63</td>\n",
              "      <td>492.77</td>\n",
              "      <td>788</td>\n",
              "      <td>400</td>\n",
              "      <td>30000</td>\n",
              "      <td>2000</td>\n",
              "      <td>1331.95</td>\n",
              "      <td>425.29</td>\n",
              "    </tr>\n",
              "    <tr>\n",
              "      <th>2 anos</th>\n",
              "      <td>931.18</td>\n",
              "      <td>529.91</td>\n",
              "      <td>788</td>\n",
              "      <td>450</td>\n",
              "      <td>40000</td>\n",
              "      <td>4000</td>\n",
              "      <td>1435.17</td>\n",
              "      <td>498.23</td>\n",
              "    </tr>\n",
              "    <tr>\n",
              "      <th>3 anos</th>\n",
              "      <td>1109.20</td>\n",
              "      <td>546.85</td>\n",
              "      <td>800</td>\n",
              "      <td>500</td>\n",
              "      <td>80000</td>\n",
              "      <td>3500</td>\n",
              "      <td>2143.80</td>\n",
              "      <td>424.12</td>\n",
              "    </tr>\n",
              "    <tr>\n",
              "      <th>4 anos</th>\n",
              "      <td>1302.33</td>\n",
              "      <td>704.28</td>\n",
              "      <td>1000</td>\n",
              "      <td>788</td>\n",
              "      <td>50000</td>\n",
              "      <td>10000</td>\n",
              "      <td>1419.82</td>\n",
              "      <td>629.55</td>\n",
              "    </tr>\n",
              "    <tr>\n",
              "      <th>5 anos</th>\n",
              "      <td>1338.65</td>\n",
              "      <td>781.39</td>\n",
              "      <td>1045</td>\n",
              "      <td>788</td>\n",
              "      <td>35000</td>\n",
              "      <td>8000</td>\n",
              "      <td>1484.65</td>\n",
              "      <td>635.78</td>\n",
              "    </tr>\n",
              "    <tr>\n",
              "      <th>6 anos</th>\n",
              "      <td>1448.88</td>\n",
              "      <td>833.73</td>\n",
              "      <td>1200</td>\n",
              "      <td>788</td>\n",
              "      <td>25000</td>\n",
              "      <td>6000</td>\n",
              "      <td>1476.63</td>\n",
              "      <td>574.55</td>\n",
              "    </tr>\n",
              "    <tr>\n",
              "      <th>7 anos</th>\n",
              "      <td>1465.50</td>\n",
              "      <td>830.75</td>\n",
              "      <td>1200</td>\n",
              "      <td>788</td>\n",
              "      <td>40000</td>\n",
              "      <td>9000</td>\n",
              "      <td>1419.71</td>\n",
              "      <td>602.04</td>\n",
              "    </tr>\n",
              "    <tr>\n",
              "      <th>8 anos</th>\n",
              "      <td>1639.40</td>\n",
              "      <td>933.62</td>\n",
              "      <td>1300</td>\n",
              "      <td>800</td>\n",
              "      <td>30000</td>\n",
              "      <td>18000</td>\n",
              "      <td>1515.58</td>\n",
              "      <td>896.78</td>\n",
              "    </tr>\n",
              "    <tr>\n",
              "      <th>9 anos</th>\n",
              "      <td>1508.04</td>\n",
              "      <td>868.02</td>\n",
              "      <td>1200</td>\n",
              "      <td>788</td>\n",
              "      <td>60000</td>\n",
              "      <td>20000</td>\n",
              "      <td>2137.66</td>\n",
              "      <td>973.22</td>\n",
              "    </tr>\n",
              "    <tr>\n",
              "      <th>10 anos</th>\n",
              "      <td>1731.27</td>\n",
              "      <td>925.92</td>\n",
              "      <td>1218</td>\n",
              "      <td>800</td>\n",
              "      <td>45000</td>\n",
              "      <td>6000</td>\n",
              "      <td>2078.61</td>\n",
              "      <td>620.61</td>\n",
              "    </tr>\n",
              "    <tr>\n",
              "      <th>11 anos</th>\n",
              "      <td>2117.06</td>\n",
              "      <td>1286.79</td>\n",
              "      <td>1500</td>\n",
              "      <td>1000</td>\n",
              "      <td>200000</td>\n",
              "      <td>100000</td>\n",
              "      <td>2676.54</td>\n",
              "      <td>1819.04</td>\n",
              "    </tr>\n",
              "    <tr>\n",
              "      <th>12 anos</th>\n",
              "      <td>2470.33</td>\n",
              "      <td>1682.31</td>\n",
              "      <td>1800</td>\n",
              "      <td>1200</td>\n",
              "      <td>30000</td>\n",
              "      <td>120000</td>\n",
              "      <td>2268.08</td>\n",
              "      <td>4851.83</td>\n",
              "    </tr>\n",
              "    <tr>\n",
              "      <th>13 anos</th>\n",
              "      <td>3195.10</td>\n",
              "      <td>1911.73</td>\n",
              "      <td>2400</td>\n",
              "      <td>1300</td>\n",
              "      <td>25000</td>\n",
              "      <td>20000</td>\n",
              "      <td>2797.12</td>\n",
              "      <td>2053.79</td>\n",
              "    </tr>\n",
              "    <tr>\n",
              "      <th>14 anos</th>\n",
              "      <td>3706.62</td>\n",
              "      <td>2226.46</td>\n",
              "      <td>2500</td>\n",
              "      <td>1600</td>\n",
              "      <td>50000</td>\n",
              "      <td>20000</td>\n",
              "      <td>3987.21</td>\n",
              "      <td>2064.08</td>\n",
              "    </tr>\n",
              "    <tr>\n",
              "      <th>15 anos ou mais</th>\n",
              "      <td>6134.28</td>\n",
              "      <td>3899.51</td>\n",
              "      <td>4000</td>\n",
              "      <td>2800</td>\n",
              "      <td>200000</td>\n",
              "      <td>100000</td>\n",
              "      <td>7447.61</td>\n",
              "      <td>4212.77</td>\n",
              "    </tr>\n",
              "    <tr>\n",
              "      <th>Não determinados</th>\n",
              "      <td>1295.76</td>\n",
              "      <td>798.17</td>\n",
              "      <td>1200</td>\n",
              "      <td>788</td>\n",
              "      <td>7000</td>\n",
              "      <td>3000</td>\n",
              "      <td>979.65</td>\n",
              "      <td>459.99</td>\n",
              "    </tr>\n",
              "  </tbody>\n",
              "</table>\n",
              "</div>\n",
              "      <button class=\"colab-df-convert\" onclick=\"convertToInteractive('df-0abc34d7-5666-43cd-8698-195cc83bd9cc')\"\n",
              "              title=\"Convert this dataframe to an interactive table.\"\n",
              "              style=\"display:none;\">\n",
              "        \n",
              "  <svg xmlns=\"http://www.w3.org/2000/svg\" height=\"24px\"viewBox=\"0 0 24 24\"\n",
              "       width=\"24px\">\n",
              "    <path d=\"M0 0h24v24H0V0z\" fill=\"none\"/>\n",
              "    <path d=\"M18.56 5.44l.94 2.06.94-2.06 2.06-.94-2.06-.94-.94-2.06-.94 2.06-2.06.94zm-11 1L8.5 8.5l.94-2.06 2.06-.94-2.06-.94L8.5 2.5l-.94 2.06-2.06.94zm10 10l.94 2.06.94-2.06 2.06-.94-2.06-.94-.94-2.06-.94 2.06-2.06.94z\"/><path d=\"M17.41 7.96l-1.37-1.37c-.4-.4-.92-.59-1.43-.59-.52 0-1.04.2-1.43.59L10.3 9.45l-7.72 7.72c-.78.78-.78 2.05 0 2.83L4 21.41c.39.39.9.59 1.41.59.51 0 1.02-.2 1.41-.59l7.78-7.78 2.81-2.81c.8-.78.8-2.07 0-2.86zM5.41 20L4 18.59l7.72-7.72 1.47 1.35L5.41 20z\"/>\n",
              "  </svg>\n",
              "      </button>\n",
              "      \n",
              "  <style>\n",
              "    .colab-df-container {\n",
              "      display:flex;\n",
              "      flex-wrap:wrap;\n",
              "      gap: 12px;\n",
              "    }\n",
              "\n",
              "    .colab-df-convert {\n",
              "      background-color: #E8F0FE;\n",
              "      border: none;\n",
              "      border-radius: 50%;\n",
              "      cursor: pointer;\n",
              "      display: none;\n",
              "      fill: #1967D2;\n",
              "      height: 32px;\n",
              "      padding: 0 0 0 0;\n",
              "      width: 32px;\n",
              "    }\n",
              "\n",
              "    .colab-df-convert:hover {\n",
              "      background-color: #E2EBFA;\n",
              "      box-shadow: 0px 1px 2px rgba(60, 64, 67, 0.3), 0px 1px 3px 1px rgba(60, 64, 67, 0.15);\n",
              "      fill: #174EA6;\n",
              "    }\n",
              "\n",
              "    [theme=dark] .colab-df-convert {\n",
              "      background-color: #3B4455;\n",
              "      fill: #D2E3FC;\n",
              "    }\n",
              "\n",
              "    [theme=dark] .colab-df-convert:hover {\n",
              "      background-color: #434B5C;\n",
              "      box-shadow: 0px 1px 3px 1px rgba(0, 0, 0, 0.15);\n",
              "      filter: drop-shadow(0px 1px 2px rgba(0, 0, 0, 0.3));\n",
              "      fill: #FFFFFF;\n",
              "    }\n",
              "  </style>\n",
              "\n",
              "      <script>\n",
              "        const buttonEl =\n",
              "          document.querySelector('#df-0abc34d7-5666-43cd-8698-195cc83bd9cc button.colab-df-convert');\n",
              "        buttonEl.style.display =\n",
              "          google.colab.kernel.accessAllowed ? 'block' : 'none';\n",
              "\n",
              "        async function convertToInteractive(key) {\n",
              "          const element = document.querySelector('#df-0abc34d7-5666-43cd-8698-195cc83bd9cc');\n",
              "          const dataTable =\n",
              "            await google.colab.kernel.invokeFunction('convertToInteractive',\n",
              "                                                     [key], {});\n",
              "          if (!dataTable) return;\n",
              "\n",
              "          const docLinkHtml = 'Like what you see? Visit the ' +\n",
              "            '<a target=\"_blank\" href=https://colab.research.google.com/notebooks/data_table.ipynb>data table notebook</a>'\n",
              "            + ' to learn more about interactive tables.';\n",
              "          element.innerHTML = '';\n",
              "          dataTable['output_type'] = 'display_data';\n",
              "          await google.colab.output.renderOutput(dataTable, element);\n",
              "          const docLink = document.createElement('div');\n",
              "          docLink.innerHTML = docLinkHtml;\n",
              "          element.appendChild(docLink);\n",
              "        }\n",
              "      </script>\n",
              "    </div>\n",
              "  </div>\n",
              "  "
            ],
            "text/plain": [
              "                                    mean           ...       std         \n",
              "Sexo                           Masculino Feminino  ... Masculino Feminino\n",
              "Anos de Estudo                                     ...                   \n",
              "Sem instrução e menos de 1 ano    799.49   516.20  ...   1023.90   639.31\n",
              "1 ano                             895.63   492.77  ...   1331.95   425.29\n",
              "2 anos                            931.18   529.91  ...   1435.17   498.23\n",
              "3 anos                           1109.20   546.85  ...   2143.80   424.12\n",
              "4 anos                           1302.33   704.28  ...   1419.82   629.55\n",
              "5 anos                           1338.65   781.39  ...   1484.65   635.78\n",
              "6 anos                           1448.88   833.73  ...   1476.63   574.55\n",
              "7 anos                           1465.50   830.75  ...   1419.71   602.04\n",
              "8 anos                           1639.40   933.62  ...   1515.58   896.78\n",
              "9 anos                           1508.04   868.02  ...   2137.66   973.22\n",
              "10 anos                          1731.27   925.92  ...   2078.61   620.61\n",
              "11 anos                          2117.06  1286.79  ...   2676.54  1819.04\n",
              "12 anos                          2470.33  1682.31  ...   2268.08  4851.83\n",
              "13 anos                          3195.10  1911.73  ...   2797.12  2053.79\n",
              "14 anos                          3706.62  2226.46  ...   3987.21  2064.08\n",
              "15 anos ou mais                  6134.28  3899.51  ...   7447.61  4212.77\n",
              "Não determinados                 1295.76   798.17  ...    979.65   459.99\n",
              "\n",
              "[17 rows x 8 columns]"
            ]
          },
          "metadata": {},
          "execution_count": 46
        }
      ],
      "source": [
        "estatisticas_da_renda_por_anos_de_estudo_e_sexo = pd.crosstab(dados['Anos de Estudo'],\n",
        "                                                              dados.Sexo,\n",
        "                                                              values=dados.Renda,\n",
        "                                                              aggfunc=['mean','median','max','std']).round(2)\n",
        "\n",
        "estatisticas_da_renda_por_anos_de_estudo_e_sexo.rename(index=anos_de_estudo, inplace=True)\n",
        "estatisticas_da_renda_por_anos_de_estudo_e_sexo.rename(columns=sexo, inplace=True)\n",
        "estatisticas_da_renda_por_anos_de_estudo_e_sexo"
      ]
    },
    {
      "cell_type": "markdown",
      "metadata": {
        "id": "1Rm1n7a_Tg2u"
      },
      "source": [
        "### Construa um box plot da variável RENDA segundo ANOS DE ESTUDO e SEXO\n",
        "#### <font color='blue'>É possível verificar algum comportamento diferenciado no rendimento entre os grupos de pessoas analisados? Avalie o gráfico e destaque os pontos mais importantes.</font>\n",
        "#### <font color='red'>1º - Utilize somente as informações de pessoas com renda abaixo de R$ 10.000</font>\n",
        "#### <font color='red'>2º - Utilize a variável IDADE para identificar se a desigualdade se verifica para pessoas de mesma idade. Exemplo: <i>data=dados.query('Renda < 10000 and Idade == 40')</i> ou <i>data=dados.query('Renda < 10000 and Idade == 50')</i></font>\n",
        "#### <font color='red'>3º - Para incluir uma terceira variável na construção de um boxplot utilize o parâmetro <i>hue</i> e indique a variável que quer incluir na subdivisão.</font>\n",
        "#### Mais informações: https://seaborn.pydata.org/generated/seaborn.boxplot.html"
      ]
    },
    {
      "cell_type": "code",
      "execution_count": 30,
      "metadata": {
        "colab": {
          "base_uri": "https://localhost:8080/",
          "height": 431
        },
        "id": "rgMU0WyJTg2v",
        "outputId": "53b84e0d-e0b6-4809-b4cc-fa747e26fcfc"
      },
      "outputs": [
        {
          "output_type": "execute_result",
          "data": {
            "text/plain": [
              "<matplotlib.axes._subplots.AxesSubplot at 0x7f563f103650>"
            ]
          },
          "metadata": {},
          "execution_count": 30
        },
        {
          "output_type": "display_data",
          "data": {
            "image/png": "[encoded data removed]",
            "text/plain": [
              "<Figure size 1008x432 with 1 Axes>"
            ]
          },
          "metadata": {
            "needs_background": "light"
          }
        }
      ],
      "source": [
        "ax = sns.boxplot(x='Renda', y='Anos de Estudo', hue='Sexo', data=dados.query('Renda < 10000 and Idade == 40'), orient='h')\n",
        "ax.figure.set_size_inches(14,6)\n",
        "ax.set_title('Box-plot da RENDA por SEXO e ANOS DE ESTUDO', fontsize=18)\n",
        "ax.set_xlabel('Renda (R$)', fontsize=16)\n",
        "ax.set_ylabel('Anos de Estudo', fontsize=16)\n",
        "ax.set_yticklabels([key for key in anos_de_estudo.values()], fontsize=14)\n",
        "handles, _ = ax.get_legend_handles_labels()\n",
        "ax.legend(handles, ['Masculino', 'Feminino'], fontsize=12)\n",
        "ax"
      ]
    },
    {
      "cell_type": "markdown",
      "metadata": {
        "id": "LrEECOmNTg2w"
      },
      "source": [
        "> ### Conclusões\n",
        "\n",
        "Escreva suas conclusões aqui..."
      ]
    },
    {
      "cell_type": "markdown",
      "metadata": {
        "id": "0fIFSxj8Tg2x"
      },
      "source": [
        "### Obtenha a média, mediana, valor máximo e desvio-padrão da variável RENDA segundo as UNIDADES DA FEDERAÇÃO\n",
        "#### <font color='blue'>Destaque os pontos mais importante que você observa nas tabulações</font>\n",
        "#### <font color='red'>Utilize o método <i>groupby()</i> do <i>pandas</i> juntamente com o método <i>agg()</i> para contruir a tabulação. O método <i>agg()</i> pode receber um dicionário especificando qual coluna do DataFrame deve ser utilizada e qual lista de funções estatísticas queremos obter, por exemplo: <i>dados.groupby(['UF']).agg({'Renda': ['mean', 'median', 'max', 'std']})</i></font>"
      ]
    },
    {
      "cell_type": "code",
      "execution_count": 31,
      "metadata": {
        "colab": {
          "base_uri": "https://localhost:8080/",
          "height": 957
        },
        "id": "91IxQFJoTg2x",
        "outputId": "33eabbf4-4502-4dab-c061-bd470399a702"
      },
      "outputs": [
        {
          "output_type": "execute_result",
          "data": {
            "text/html": [
              "\n",
              "  <div id=\"df-c3821158-35a8-43f2-85ac-871503f76416\">\n",
              "    <div class=\"colab-df-container\">\n",
              "      <div>\n",
              "<style scoped>\n",
              "    .dataframe tbody tr th:only-of-type {\n",
              "        vertical-align: middle;\n",
              "    }\n",
              "\n",
              "    .dataframe tbody tr th {\n",
              "        vertical-align: top;\n",
              "    }\n",
              "\n",
              "    .dataframe thead tr th {\n",
              "        text-align: left;\n",
              "    }\n",
              "\n",
              "    .dataframe thead tr:last-of-type th {\n",
              "        text-align: right;\n",
              "    }\n",
              "</style>\n",
              "<table border=\"1\" class=\"dataframe\">\n",
              "  <thead>\n",
              "    <tr>\n",
              "      <th></th>\n",
              "      <th colspan=\"4\" halign=\"left\">Renda</th>\n",
              "    </tr>\n",
              "    <tr>\n",
              "      <th></th>\n",
              "      <th>mean</th>\n",
              "      <th>median</th>\n",
              "      <th>max</th>\n",
              "      <th>std</th>\n",
              "    </tr>\n",
              "    <tr>\n",
              "      <th>UF</th>\n",
              "      <th></th>\n",
              "      <th></th>\n",
              "      <th></th>\n",
              "      <th></th>\n",
              "    </tr>\n",
              "  </thead>\n",
              "  <tbody>\n",
              "    <tr>\n",
              "      <th>Rondônia</th>\n",
              "      <td>1789.761223</td>\n",
              "      <td>1200.0</td>\n",
              "      <td>50000</td>\n",
              "      <td>2406.161161</td>\n",
              "    </tr>\n",
              "    <tr>\n",
              "      <th>Acre</th>\n",
              "      <td>1506.091782</td>\n",
              "      <td>900.0</td>\n",
              "      <td>30000</td>\n",
              "      <td>2276.233415</td>\n",
              "    </tr>\n",
              "    <tr>\n",
              "      <th>Amazonas</th>\n",
              "      <td>1445.130100</td>\n",
              "      <td>900.0</td>\n",
              "      <td>22000</td>\n",
              "      <td>1757.935591</td>\n",
              "    </tr>\n",
              "    <tr>\n",
              "      <th>Roraima</th>\n",
              "      <td>1783.588889</td>\n",
              "      <td>1000.0</td>\n",
              "      <td>20000</td>\n",
              "      <td>2079.659238</td>\n",
              "    </tr>\n",
              "    <tr>\n",
              "      <th>Pará</th>\n",
              "      <td>1399.076871</td>\n",
              "      <td>850.0</td>\n",
              "      <td>50000</td>\n",
              "      <td>2053.779555</td>\n",
              "    </tr>\n",
              "    <tr>\n",
              "      <th>Amapá</th>\n",
              "      <td>1861.353516</td>\n",
              "      <td>1200.0</td>\n",
              "      <td>15580</td>\n",
              "      <td>2020.688632</td>\n",
              "    </tr>\n",
              "    <tr>\n",
              "      <th>Tocantins</th>\n",
              "      <td>1771.094946</td>\n",
              "      <td>1000.0</td>\n",
              "      <td>60000</td>\n",
              "      <td>2934.590741</td>\n",
              "    </tr>\n",
              "    <tr>\n",
              "      <th>Maranhão</th>\n",
              "      <td>1019.432009</td>\n",
              "      <td>700.0</td>\n",
              "      <td>30000</td>\n",
              "      <td>1887.816905</td>\n",
              "    </tr>\n",
              "    <tr>\n",
              "      <th>Piauí</th>\n",
              "      <td>1074.550784</td>\n",
              "      <td>750.0</td>\n",
              "      <td>40000</td>\n",
              "      <td>2373.355726</td>\n",
              "    </tr>\n",
              "    <tr>\n",
              "      <th>Ceará</th>\n",
              "      <td>1255.403692</td>\n",
              "      <td>789.0</td>\n",
              "      <td>25000</td>\n",
              "      <td>1821.963536</td>\n",
              "    </tr>\n",
              "    <tr>\n",
              "      <th>Rio Grande do Norte</th>\n",
              "      <td>1344.721480</td>\n",
              "      <td>800.0</td>\n",
              "      <td>15500</td>\n",
              "      <td>1651.805500</td>\n",
              "    </tr>\n",
              "    <tr>\n",
              "      <th>Paraíba</th>\n",
              "      <td>1293.370487</td>\n",
              "      <td>788.0</td>\n",
              "      <td>30000</td>\n",
              "      <td>1950.272431</td>\n",
              "    </tr>\n",
              "    <tr>\n",
              "      <th>Pernambuco</th>\n",
              "      <td>1527.079319</td>\n",
              "      <td>900.0</td>\n",
              "      <td>50000</td>\n",
              "      <td>2389.622497</td>\n",
              "    </tr>\n",
              "    <tr>\n",
              "      <th>Alagoas</th>\n",
              "      <td>1144.552602</td>\n",
              "      <td>788.0</td>\n",
              "      <td>11000</td>\n",
              "      <td>1237.856197</td>\n",
              "    </tr>\n",
              "    <tr>\n",
              "      <th>Sergipe</th>\n",
              "      <td>1109.111111</td>\n",
              "      <td>788.0</td>\n",
              "      <td>16000</td>\n",
              "      <td>1478.997878</td>\n",
              "    </tr>\n",
              "    <tr>\n",
              "      <th>Bahia</th>\n",
              "      <td>1429.645094</td>\n",
              "      <td>800.0</td>\n",
              "      <td>200000</td>\n",
              "      <td>3507.917248</td>\n",
              "    </tr>\n",
              "    <tr>\n",
              "      <th>Minas Gerais</th>\n",
              "      <td>2056.432084</td>\n",
              "      <td>1200.0</td>\n",
              "      <td>100000</td>\n",
              "      <td>3584.721547</td>\n",
              "    </tr>\n",
              "    <tr>\n",
              "      <th>Espírito Santo</th>\n",
              "      <td>2026.383852</td>\n",
              "      <td>1274.0</td>\n",
              "      <td>100000</td>\n",
              "      <td>3513.846868</td>\n",
              "    </tr>\n",
              "    <tr>\n",
              "      <th>Rio de Janeiro</th>\n",
              "      <td>2496.403168</td>\n",
              "      <td>1400.0</td>\n",
              "      <td>200000</td>\n",
              "      <td>5214.583518</td>\n",
              "    </tr>\n",
              "    <tr>\n",
              "      <th>São Paulo</th>\n",
              "      <td>2638.104986</td>\n",
              "      <td>1600.0</td>\n",
              "      <td>80000</td>\n",
              "      <td>3503.777366</td>\n",
              "    </tr>\n",
              "    <tr>\n",
              "      <th>Paraná</th>\n",
              "      <td>2493.870753</td>\n",
              "      <td>1500.0</td>\n",
              "      <td>200000</td>\n",
              "      <td>4302.937995</td>\n",
              "    </tr>\n",
              "    <tr>\n",
              "      <th>Santa Catarina</th>\n",
              "      <td>2470.854945</td>\n",
              "      <td>1800.0</td>\n",
              "      <td>80000</td>\n",
              "      <td>3137.651112</td>\n",
              "    </tr>\n",
              "    <tr>\n",
              "      <th>Rio Grande do Sul</th>\n",
              "      <td>2315.158336</td>\n",
              "      <td>1500.0</td>\n",
              "      <td>35000</td>\n",
              "      <td>2913.335783</td>\n",
              "    </tr>\n",
              "    <tr>\n",
              "      <th>Mato Grosso do Sul</th>\n",
              "      <td>2262.604167</td>\n",
              "      <td>1500.0</td>\n",
              "      <td>42000</td>\n",
              "      <td>3031.419122</td>\n",
              "    </tr>\n",
              "    <tr>\n",
              "      <th>Mato Grosso</th>\n",
              "      <td>2130.652778</td>\n",
              "      <td>1500.0</td>\n",
              "      <td>35000</td>\n",
              "      <td>2542.630178</td>\n",
              "    </tr>\n",
              "    <tr>\n",
              "      <th>Goiás</th>\n",
              "      <td>1994.580794</td>\n",
              "      <td>1500.0</td>\n",
              "      <td>30000</td>\n",
              "      <td>2221.933065</td>\n",
              "    </tr>\n",
              "    <tr>\n",
              "      <th>Distrito Federal</th>\n",
              "      <td>4241.954722</td>\n",
              "      <td>2000.0</td>\n",
              "      <td>100000</td>\n",
              "      <td>5550.463338</td>\n",
              "    </tr>\n",
              "  </tbody>\n",
              "</table>\n",
              "</div>\n",
              "      <button class=\"colab-df-convert\" onclick=\"convertToInteractive('df-c3821158-35a8-43f2-85ac-871503f76416')\"\n",
              "              title=\"Convert this dataframe to an interactive table.\"\n",
              "              style=\"display:none;\">\n",
              "        \n",
              "  <svg xmlns=\"http://www.w3.org/2000/svg\" height=\"24px\"viewBox=\"0 0 24 24\"\n",
              "       width=\"24px\">\n",
              "    <path d=\"M0 0h24v24H0V0z\" fill=\"none\"/>\n",
              "    <path d=\"M18.56 5.44l.94 2.06.94-2.06 2.06-.94-2.06-.94-.94-2.06-.94 2.06-2.06.94zm-11 1L8.5 8.5l.94-2.06 2.06-.94-2.06-.94L8.5 2.5l-.94 2.06-2.06.94zm10 10l.94 2.06.94-2.06 2.06-.94-2.06-.94-.94-2.06-.94 2.06-2.06.94z\"/><path d=\"M17.41 7.96l-1.37-1.37c-.4-.4-.92-.59-1.43-.59-.52 0-1.04.2-1.43.59L10.3 9.45l-7.72 7.72c-.78.78-.78 2.05 0 2.83L4 21.41c.39.39.9.59 1.41.59.51 0 1.02-.2 1.41-.59l7.78-7.78 2.81-2.81c.8-.78.8-2.07 0-2.86zM5.41 20L4 18.59l7.72-7.72 1.47 1.35L5.41 20z\"/>\n",
              "  </svg>\n",
              "      </button>\n",
              "      \n",
              "  <style>\n",
              "    .colab-df-container {\n",
              "      display:flex;\n",
              "      flex-wrap:wrap;\n",
              "      gap: 12px;\n",
              "    }\n",
              "\n",
              "    .colab-df-convert {\n",
              "      background-color: #E8F0FE;\n",
              "      border: none;\n",
              "      border-radius: 50%;\n",
              "      cursor: pointer;\n",
              "      display: none;\n",
              "      fill: #1967D2;\n",
              "      height: 32px;\n",
              "      padding: 0 0 0 0;\n",
              "      width: 32px;\n",
              "    }\n",
              "\n",
              "    .colab-df-convert:hover {\n",
              "      background-color: #E2EBFA;\n",
              "      box-shadow: 0px 1px 2px rgba(60, 64, 67, 0.3), 0px 1px 3px 1px rgba(60, 64, 67, 0.15);\n",
              "      fill: #174EA6;\n",
              "    }\n",
              "\n",
              "    [theme=dark] .colab-df-convert {\n",
              "      background-color: #3B4455;\n",
              "      fill: #D2E3FC;\n",
              "    }\n",
              "\n",
              "    [theme=dark] .colab-df-convert:hover {\n",
              "      background-color: #434B5C;\n",
              "      box-shadow: 0px 1px 3px 1px rgba(0, 0, 0, 0.15);\n",
              "      filter: drop-shadow(0px 1px 2px rgba(0, 0, 0, 0.3));\n",
              "      fill: #FFFFFF;\n",
              "    }\n",
              "  </style>\n",
              "\n",
              "      <script>\n",
              "        const buttonEl =\n",
              "          document.querySelector('#df-c3821158-35a8-43f2-85ac-871503f76416 button.colab-df-convert');\n",
              "        buttonEl.style.display =\n",
              "          google.colab.kernel.accessAllowed ? 'block' : 'none';\n",
              "\n",
              "        async function convertToInteractive(key) {\n",
              "          const element = document.querySelector('#df-c3821158-35a8-43f2-85ac-871503f76416');\n",
              "          const dataTable =\n",
              "            await google.colab.kernel.invokeFunction('convertToInteractive',\n",
              "                                                     [key], {});\n",
              "          if (!dataTable) return;\n",
              "\n",
              "          const docLinkHtml = 'Like what you see? Visit the ' +\n",
              "            '<a target=\"_blank\" href=https://colab.research.google.com/notebooks/data_table.ipynb>data table notebook</a>'\n",
              "            + ' to learn more about interactive tables.';\n",
              "          element.innerHTML = '';\n",
              "          dataTable['output_type'] = 'display_data';\n",
              "          await google.colab.output.renderOutput(dataTable, element);\n",
              "          const docLink = document.createElement('div');\n",
              "          docLink.innerHTML = docLinkHtml;\n",
              "          element.appendChild(docLink);\n",
              "        }\n",
              "      </script>\n",
              "    </div>\n",
              "  </div>\n",
              "  "
            ],
            "text/plain": [
              "                           Renda                             \n",
              "                            mean  median     max          std\n",
              "UF                                                           \n",
              "Rondônia             1789.761223  1200.0   50000  2406.161161\n",
              "Acre                 1506.091782   900.0   30000  2276.233415\n",
              "Amazonas             1445.130100   900.0   22000  1757.935591\n",
              "Roraima              1783.588889  1000.0   20000  2079.659238\n",
              "Pará                 1399.076871   850.0   50000  2053.779555\n",
              "Amapá                1861.353516  1200.0   15580  2020.688632\n",
              "Tocantins            1771.094946  1000.0   60000  2934.590741\n",
              "Maranhão             1019.432009   700.0   30000  1887.816905\n",
              "Piauí                1074.550784   750.0   40000  2373.355726\n",
              "Ceará                1255.403692   789.0   25000  1821.963536\n",
              "Rio Grande do Norte  1344.721480   800.0   15500  1651.805500\n",
              "Paraíba              1293.370487   788.0   30000  1950.272431\n",
              "Pernambuco           1527.079319   900.0   50000  2389.622497\n",
              "Alagoas              1144.552602   788.0   11000  1237.856197\n",
              "Sergipe              1109.111111   788.0   16000  1478.997878\n",
              "Bahia                1429.645094   800.0  200000  3507.917248\n",
              "Minas Gerais         2056.432084  1200.0  100000  3584.721547\n",
              "Espírito Santo       2026.383852  1274.0  100000  3513.846868\n",
              "Rio de Janeiro       2496.403168  1400.0  200000  5214.583518\n",
              "São Paulo            2638.104986  1600.0   80000  3503.777366\n",
              "Paraná               2493.870753  1500.0  200000  4302.937995\n",
              "Santa Catarina       2470.854945  1800.0   80000  3137.651112\n",
              "Rio Grande do Sul    2315.158336  1500.0   35000  2913.335783\n",
              "Mato Grosso do Sul   2262.604167  1500.0   42000  3031.419122\n",
              "Mato Grosso          2130.652778  1500.0   35000  2542.630178\n",
              "Goiás                1994.580794  1500.0   30000  2221.933065\n",
              "Distrito Federal     4241.954722  2000.0  100000  5550.463338"
            ]
          },
          "metadata": {},
          "execution_count": 31
        }
      ],
      "source": [
        "estatisticas_da_renda_por_uf = dados.groupby('UF').agg({'Renda': ['mean','median','max','std']})\n",
        "estatisticas_da_renda_por_uf.rename(index=uf, inplace=True)\n",
        "estatisticas_da_renda_por_uf"
      ]
    },
    {
      "cell_type": "markdown",
      "metadata": {
        "id": "6NfAKimkTg2y"
      },
      "source": [
        "### Construa um box plot da variável RENDA segundo as UNIDADES DA FEDERAÇÃO\n",
        "#### <font color='blue'>É possível verificar algum comportamento diferenciado no rendimento entre os grupos analisados? Avalie o gráfico e destaque os pontos mais importantes.</font>\n",
        "#### <font color='red'>1º - Utilize somente as informações de pessoas com renda abaixo de R$ 10.000</font>"
      ]
    },
    {
      "cell_type": "code",
      "execution_count": 47,
      "metadata": {
        "colab": {
          "base_uri": "https://localhost:8080/",
          "height": 540
        },
        "id": "XdEGG3blTg2z",
        "outputId": "7408e337-3656-406e-fada-53ec2de4a420"
      },
      "outputs": [
        {
          "output_type": "execute_result",
          "data": {
            "text/plain": [
              "<matplotlib.axes._subplots.AxesSubplot at 0x7f563c69c6d0>"
            ]
          },
          "metadata": {},
          "execution_count": 47
        },
        {
          "output_type": "display_data",
          "data": {
            "image/png": "[encoded data removed]",
            "text/plain": [
              "<Figure size 1008x576 with 1 Axes>"
            ]
          },
          "metadata": {
            "needs_background": "light"
          }
        }
      ],
      "source": [
        "ax = sns.boxplot(x='Renda', y='UF', data=dados.query('Renda < 10000'), orient='h')\n",
        "ax.figure.set_size_inches(14,8)\n",
        "ax.set_title('Box-plot da RENDA por UF', fontsize=18)\n",
        "ax.set_xlabel('Renda (R$)', fontsize=16)\n",
        "ax.set_ylabel('Anos de Estudo', fontsize=16)\n",
        "ax.set_yticklabels([key for key in uf.values()], fontsize=14)\n",
        "ax"
      ]
    },
    {
      "cell_type": "markdown",
      "metadata": {
        "id": "7ssOt3MRTg22"
      },
      "source": [
        "> ### Conclusões\n",
        "\n",
        "Escreva suas conclusões aqui..."
      ]
    }
  ],
  "metadata": {
    "colab": {
      "name": "Análise_Descritiva.ipynb",
      "provenance": [],
      "collapsed_sections": [
        "9ppt5JevTg1-",
        "w45i-qJ1Tg2E",
        "2jLZmww2Tg2O",
        "ibndm9iwTg2i",
        "57aHvJMSTg2l",
        "ROiIQRFhTg2o",
        "LrEECOmNTg2w",
        "7ssOt3MRTg22"
      ]
    },
    "kernelspec": {
      "display_name": "Python 3",
      "language": "python",
      "name": "python3"
    },
    "language_info": {
      "codemirror_mode": {
        "name": "ipython",
        "version": 3
      },
      "file_extension": ".py",
      "mimetype": "text/x-python",
      "name": "python",
      "nbconvert_exporter": "python",
      "pygments_lexer": "ipython3",
      "version": "3.6.5"
    }
  },
  "nbformat": 4,
  "nbformat_minor": 0
}