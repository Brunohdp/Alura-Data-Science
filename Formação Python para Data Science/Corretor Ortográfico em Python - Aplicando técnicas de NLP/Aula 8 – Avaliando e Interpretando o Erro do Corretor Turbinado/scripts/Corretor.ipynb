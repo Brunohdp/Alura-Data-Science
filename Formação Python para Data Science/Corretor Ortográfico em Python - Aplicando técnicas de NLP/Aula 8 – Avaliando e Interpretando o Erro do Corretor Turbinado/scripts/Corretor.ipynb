{
  "nbformat": 4,
  "nbformat_minor": 0,
  "metadata": {
    "colab": {
      "name": "Corretor",
      "provenance": [],
      "collapsed_sections": []
    },
    "kernelspec": {
      "name": "python3",
      "display_name": "Python 3"
    },
    "language_info": {
      "name": "python"
    }
  },
  "cells": [
    {
      "cell_type": "markdown",
      "metadata": {
        "id": "OffPBUdug5F8"
      },
      "source": [
        "# <font color = green>Aula 1 – Explorando Um Projeto De NLP"
      ]
    },
    {
      "cell_type": "markdown",
      "metadata": {
        "id": "9UIlUeVTg5DT"
      },
      "source": [
        "## <font color = blackpink>Importando Um Corpus Textual"
      ]
    },
    {
      "cell_type": "code",
      "metadata": {
        "colab": {
          "base_uri": "https://localhost:8080/"
        },
        "id": "aQGGVLP7g29P",
        "outputId": "2dd38c33-4cc9-4d29-8eef-7b9f777848a5"
      },
      "source": [
        "with open('artigos.txt', 'r') as f:\n",
        "  artigos = f.read()\n",
        "\n",
        "print(artigos[:500])"
      ],
      "execution_count": 112,
      "outputs": [
        {
          "output_type": "stream",
          "name": "stdout",
          "text": [
            "\n",
            "\n",
            "\n",
            "imagem \n",
            "\n",
            "Temos a seguinte classe que representa um usuário no nosso sistema:\n",
            "\n",
            "java\n",
            "\n",
            "Para salvar um novo usuário, várias validações são feitas, como por exemplo: Ver se o nome só contém letras, [**o CPF só números**] e ver se o usuário possui no mínimo 18 anos. Veja o método que faz essa validação:\n",
            "\n",
            "java \n",
            "\n",
            "Suponha agora que eu tenha outra classe, a classe `Produto`, que contém um atributo nome e eu quero fazer a mesma validação que fiz para o nome do usuário: Ver se só contém letras. E aí? Vou\n"
          ]
        }
      ]
    },
    {
      "cell_type": "markdown",
      "metadata": {
        "id": "5jq7iCOvj1wA"
      },
      "source": [
        "---"
      ]
    },
    {
      "cell_type": "markdown",
      "metadata": {
        "id": "JJkfFlm0j1to"
      },
      "source": [
        "## <font color = blackpink>Tokenização"
      ]
    },
    {
      "cell_type": "code",
      "metadata": {
        "colab": {
          "base_uri": "https://localhost:8080/"
        },
        "id": "M3z6hg20i8FJ",
        "outputId": "930dfb74-1aef-42c7-fe4f-142a004b92e1"
      },
      "source": [
        "len(artigos)"
      ],
      "execution_count": 113,
      "outputs": [
        {
          "output_type": "execute_result",
          "data": {
            "text/plain": [
              "2605046"
            ]
          },
          "metadata": {},
          "execution_count": 113
        }
      ]
    },
    {
      "cell_type": "code",
      "metadata": {
        "colab": {
          "base_uri": "https://localhost:8080/"
        },
        "id": "05vq79U0k2IZ",
        "outputId": "b17352cf-48c8-4efc-9c48-472c70355656"
      },
      "source": [
        "texto_exemplo = 'Olá, tudo bem?'\n",
        "tokens = texto_exemplo.split()\n",
        "print(tokens)"
      ],
      "execution_count": 114,
      "outputs": [
        {
          "output_type": "stream",
          "name": "stdout",
          "text": [
            "['Olá,', 'tudo', 'bem?']\n"
          ]
        }
      ]
    },
    {
      "cell_type": "code",
      "metadata": {
        "colab": {
          "base_uri": "https://localhost:8080/"
        },
        "id": "D8g0iuYMkbi0",
        "outputId": "8f227743-97b9-4618-a154-7ac691dd6f42"
      },
      "source": [
        "len(artigos.split())"
      ],
      "execution_count": 115,
      "outputs": [
        {
          "output_type": "execute_result",
          "data": {
            "text/plain": [
              "416903"
            ]
          },
          "metadata": {},
          "execution_count": 115
        }
      ]
    },
    {
      "cell_type": "markdown",
      "metadata": {
        "id": "9p1gvkLmnCLA"
      },
      "source": [
        "---\n",
        "---"
      ]
    },
    {
      "cell_type": "markdown",
      "metadata": {
        "id": "8men_EdGnCIg"
      },
      "source": [
        "# <font color = green>Aula 2 – Utilizando NLTK Para Tokenizar Um Texto"
      ]
    },
    {
      "cell_type": "markdown",
      "metadata": {
        "id": "j1i6G8FenCF-"
      },
      "source": [
        "## <font color = blackpink>Refinando a Tokenização"
      ]
    },
    {
      "cell_type": "code",
      "metadata": {
        "colab": {
          "base_uri": "https://localhost:8080/"
        },
        "id": "uKE9Irfdkc3H",
        "outputId": "e53ca4e3-53c4-4831-f5fe-3fb775271b6d"
      },
      "source": [
        "import nltk\n",
        "nltk.download('punkt')"
      ],
      "execution_count": 116,
      "outputs": [
        {
          "output_type": "stream",
          "name": "stdout",
          "text": [
            "[nltk_data] Downloading package punkt to /root/nltk_data...\n",
            "[nltk_data]   Package punkt is already up-to-date!\n"
          ]
        },
        {
          "output_type": "execute_result",
          "data": {
            "text/plain": [
              "True"
            ]
          },
          "metadata": {},
          "execution_count": 116
        }
      ]
    },
    {
      "cell_type": "code",
      "metadata": {
        "colab": {
          "base_uri": "https://localhost:8080/"
        },
        "id": "w0l3kZomxg4v",
        "outputId": "ce083dc5-9785-43fd-e4a5-55f4091a2e5b"
      },
      "source": [
        "palavras_separadas = nltk.tokenize.word_tokenize(texto_exemplo)\n",
        "palavras_separadas"
      ],
      "execution_count": 117,
      "outputs": [
        {
          "output_type": "execute_result",
          "data": {
            "text/plain": [
              "['Olá', ',', 'tudo', 'bem', '?']"
            ]
          },
          "metadata": {},
          "execution_count": 117
        }
      ]
    },
    {
      "cell_type": "markdown",
      "metadata": {
        "id": "vRjuVlUVyxQ_"
      },
      "source": [
        "---"
      ]
    },
    {
      "cell_type": "markdown",
      "metadata": {
        "id": "XvIZGlvOyxOY"
      },
      "source": [
        "## <font color = blackpink>Separando Palavras De Tokens"
      ]
    },
    {
      "cell_type": "code",
      "metadata": {
        "colab": {
          "base_uri": "https://localhost:8080/"
        },
        "id": "3Kfyg0nGy1Fo",
        "outputId": "d7a8a519-935b-43c1-f316-b40c4e4ab597"
      },
      "source": [
        "'palavra'.isalpha()"
      ],
      "execution_count": 118,
      "outputs": [
        {
          "output_type": "execute_result",
          "data": {
            "text/plain": [
              "True"
            ]
          },
          "metadata": {},
          "execution_count": 118
        }
      ]
    },
    {
      "cell_type": "code",
      "metadata": {
        "id": "Ua060IT_xui1"
      },
      "source": [
        "def separa_palavras(lista_tokens: list):\n",
        "  lista_palavras = []\n",
        "  for token in lista_tokens:\n",
        "    if token.isalpha():\n",
        "      lista_palavras.append(token)\n",
        "  return lista_palavras"
      ],
      "execution_count": 119,
      "outputs": []
    },
    {
      "cell_type": "code",
      "metadata": {
        "colab": {
          "base_uri": "https://localhost:8080/"
        },
        "id": "vcAU3c4CzwbA",
        "outputId": "4c6d5277-9e73-430d-e301-2895742dd8d9"
      },
      "source": [
        "separa_palavras(palavras_separadas)"
      ],
      "execution_count": 120,
      "outputs": [
        {
          "output_type": "execute_result",
          "data": {
            "text/plain": [
              "['Olá', 'tudo', 'bem']"
            ]
          },
          "metadata": {},
          "execution_count": 120
        }
      ]
    },
    {
      "cell_type": "markdown",
      "metadata": {
        "id": "y5VfVeuT1SXW"
      },
      "source": [
        "---"
      ]
    },
    {
      "cell_type": "markdown",
      "metadata": {
        "id": "jIy6Tb4K1SRD"
      },
      "source": [
        "## <font color=blackpink>Contando Palavras Do Corpus"
      ]
    },
    {
      "cell_type": "code",
      "metadata": {
        "colab": {
          "base_uri": "https://localhost:8080/"
        },
        "id": "jo-iT_Qo1BcE",
        "outputId": "53b5d1d6-43f1-4a87-b745-0194d459e244"
      },
      "source": [
        "lista_tokens = nltk.tokenize.word_tokenize(artigos)\n",
        "lista_palavras = separa_palavras(lista_tokens)\n",
        "print(f'O número de palavras é: {len(lista_palavras)}')"
      ],
      "execution_count": 121,
      "outputs": [
        {
          "output_type": "stream",
          "name": "stdout",
          "text": [
            "O número de palavras é: 393914\n"
          ]
        }
      ]
    },
    {
      "cell_type": "markdown",
      "metadata": {
        "id": "_Fbc2Hoa3WcY"
      },
      "source": [
        "---"
      ]
    },
    {
      "cell_type": "markdown",
      "metadata": {
        "id": "fpbmtW0n3WaH"
      },
      "source": [
        "## <font color = blackpink>Normalização"
      ]
    },
    {
      "cell_type": "code",
      "metadata": {
        "colab": {
          "base_uri": "https://localhost:8080/"
        },
        "id": "HgAcamfT1-El",
        "outputId": "b00f9ea7-6ca7-405d-f126-44d0a701d887"
      },
      "source": [
        "print(lista_palavras[:5])"
      ],
      "execution_count": 122,
      "outputs": [
        {
          "output_type": "stream",
          "name": "stdout",
          "text": [
            "['imagem', 'Temos', 'a', 'seguinte', 'classe']\n"
          ]
        }
      ]
    },
    {
      "cell_type": "code",
      "metadata": {
        "id": "lmDJgaoP4La3"
      },
      "source": [
        "def normalizacao(lista_palavras: list):\n",
        "  lista_normalizada = []\n",
        "  for palavra in lista_palavras:\n",
        "    lista_normalizada.append(palavra.lower())\n",
        "  return lista_normalizada"
      ],
      "execution_count": 123,
      "outputs": []
    },
    {
      "cell_type": "code",
      "metadata": {
        "colab": {
          "base_uri": "https://localhost:8080/"
        },
        "id": "Q3_rxrle5A8z",
        "outputId": "7e8601d8-e35f-4862-ce43-a61ab9f7fec4"
      },
      "source": [
        "lista_normalizada = normalizacao(lista_palavras)\n",
        "lista_normalizada[:5]"
      ],
      "execution_count": 124,
      "outputs": [
        {
          "output_type": "execute_result",
          "data": {
            "text/plain": [
              "['imagem', 'temos', 'a', 'seguinte', 'classe']"
            ]
          },
          "metadata": {},
          "execution_count": 124
        }
      ]
    },
    {
      "cell_type": "markdown",
      "metadata": {
        "id": "-OEtxia45wUP"
      },
      "source": [
        "---"
      ]
    },
    {
      "cell_type": "markdown",
      "metadata": {
        "id": "tabXnR_q5wRm"
      },
      "source": [
        "## <font color=blackpink>Tipos De Palavras"
      ]
    },
    {
      "cell_type": "code",
      "metadata": {
        "colab": {
          "base_uri": "https://localhost:8080/"
        },
        "id": "MNrpJFJd5Gs4",
        "outputId": "b6c75253-8235-4cc8-9a18-b82898f379d3"
      },
      "source": [
        "set([1,1,1,3,4,4,5,8,2,4,5,5,6,6])"
      ],
      "execution_count": 125,
      "outputs": [
        {
          "output_type": "execute_result",
          "data": {
            "text/plain": [
              "{1, 2, 3, 4, 5, 6, 8}"
            ]
          },
          "metadata": {},
          "execution_count": 125
        }
      ]
    },
    {
      "cell_type": "code",
      "metadata": {
        "colab": {
          "base_uri": "https://localhost:8080/"
        },
        "id": "9TIAEvdf6Rxp",
        "outputId": "4f3005d2-da40-48ed-b2eb-da101afc0753"
      },
      "source": [
        "len(set(lista_normalizada))"
      ],
      "execution_count": 126,
      "outputs": [
        {
          "output_type": "execute_result",
          "data": {
            "text/plain": [
              "17652"
            ]
          },
          "metadata": {},
          "execution_count": 126
        }
      ]
    },
    {
      "cell_type": "markdown",
      "metadata": {
        "id": "cqXXUqme8G3t"
      },
      "source": [
        "---\n",
        "---"
      ]
    },
    {
      "cell_type": "markdown",
      "metadata": {
        "id": "LMMnPb5B8G1-"
      },
      "source": [
        "# <font color=green>Aula 3 – Desenvolvendo e Testando o Corretor"
      ]
    },
    {
      "cell_type": "markdown",
      "metadata": {
        "id": "4a-_pJw98GyI"
      },
      "source": [
        "## <font color=blackpink>Fatiando Strings"
      ]
    },
    {
      "cell_type": "code",
      "metadata": {
        "colab": {
          "base_uri": "https://localhost:8080/"
        },
        "id": "dI-EX6rN_tiG",
        "outputId": "b56b7b4e-4d0e-4cc7-9f65-44f65b8ccc8f"
      },
      "source": [
        "lista = 'lgica'\n",
        "(lista[:1],lista[1:])"
      ],
      "execution_count": 127,
      "outputs": [
        {
          "output_type": "execute_result",
          "data": {
            "text/plain": [
              "('l', 'gica')"
            ]
          },
          "metadata": {},
          "execution_count": 127
        }
      ]
    },
    {
      "cell_type": "code",
      "metadata": {
        "id": "qFXMajRI6ZJ5"
      },
      "source": [
        "palavra_exemplo = 'lgica'\n",
        "\n",
        "def gerador_palavras(palavra):\n",
        "  fatias = []\n",
        "  for i in range(len(palavra) + 1):\n",
        "    fatias.append((lista[:i],lista[i:]))\n",
        "  print(fatias)\n",
        "  # palavras_geradas = insere_letras(fatias)\n",
        "  # return palavras_geradas"
      ],
      "execution_count": 128,
      "outputs": []
    },
    {
      "cell_type": "code",
      "metadata": {
        "colab": {
          "base_uri": "https://localhost:8080/"
        },
        "id": "8qLDHNidAwBd",
        "outputId": "5c3c8f84-5dd8-4cd2-f467-86d585f492b4"
      },
      "source": [
        "gerador_palavras(palavra_exemplo)"
      ],
      "execution_count": 129,
      "outputs": [
        {
          "output_type": "stream",
          "name": "stdout",
          "text": [
            "[('', 'lgica'), ('l', 'gica'), ('lg', 'ica'), ('lgi', 'ca'), ('lgic', 'a'), ('lgica', '')]\n"
          ]
        }
      ]
    },
    {
      "cell_type": "markdown",
      "metadata": {
        "id": "DNg-J_JPCas6"
      },
      "source": [
        "---"
      ]
    },
    {
      "cell_type": "markdown",
      "metadata": {
        "id": "UcwYqxZsCaph"
      },
      "source": [
        "## <font color=blackpink>Operação De Inserção"
      ]
    },
    {
      "cell_type": "code",
      "metadata": {
        "colab": {
          "base_uri": "https://localhost:8080/"
        },
        "id": "GWH22pgm_bTy",
        "outputId": "32148add-af10-4fcb-dddd-baaf0e3806a4"
      },
      "source": [
        "palavra_exemplo = 'lgica'\n",
        "\n",
        "\n",
        "def insere_letras(fatias):\n",
        "  novas_palavras = []\n",
        "  letras = 'abcdefghijklmnopqrstuvwxyzàáâãèéêìíîòóôõùúûç'\n",
        "  for E, D in fatias:\n",
        "    for letra in letras:\n",
        "      novas_palavras.append(E + letra + D)\n",
        "  return novas_palavras\n",
        "\n",
        "\n",
        "def gerador_palavras(palavra):\n",
        "  fatias = []\n",
        "  for i in range(len(palavra) + 1):\n",
        "    fatias.append((palavra[:i],palavra[i:]))\n",
        "  palavras_geradas = insere_letras(fatias)\n",
        "  return palavras_geradas\n",
        "\n",
        "\n",
        "palavras_geradas = gerador_palavras(palavra_exemplo)\n",
        "palavras_geradas"
      ],
      "execution_count": 130,
      "outputs": [
        {
          "output_type": "execute_result",
          "data": {
            "text/plain": [
              "['algica',\n",
              " 'blgica',\n",
              " 'clgica',\n",
              " 'dlgica',\n",
              " 'elgica',\n",
              " 'flgica',\n",
              " 'glgica',\n",
              " 'hlgica',\n",
              " 'ilgica',\n",
              " 'jlgica',\n",
              " 'klgica',\n",
              " 'llgica',\n",
              " 'mlgica',\n",
              " 'nlgica',\n",
              " 'olgica',\n",
              " 'plgica',\n",
              " 'qlgica',\n",
              " 'rlgica',\n",
              " 'slgica',\n",
              " 'tlgica',\n",
              " 'ulgica',\n",
              " 'vlgica',\n",
              " 'wlgica',\n",
              " 'xlgica',\n",
              " 'ylgica',\n",
              " 'zlgica',\n",
              " 'àlgica',\n",
              " 'álgica',\n",
              " 'âlgica',\n",
              " 'ãlgica',\n",
              " 'èlgica',\n",
              " 'élgica',\n",
              " 'êlgica',\n",
              " 'ìlgica',\n",
              " 'ílgica',\n",
              " 'îlgica',\n",
              " 'òlgica',\n",
              " 'ólgica',\n",
              " 'ôlgica',\n",
              " 'õlgica',\n",
              " 'ùlgica',\n",
              " 'úlgica',\n",
              " 'ûlgica',\n",
              " 'çlgica',\n",
              " 'lagica',\n",
              " 'lbgica',\n",
              " 'lcgica',\n",
              " 'ldgica',\n",
              " 'legica',\n",
              " 'lfgica',\n",
              " 'lggica',\n",
              " 'lhgica',\n",
              " 'ligica',\n",
              " 'ljgica',\n",
              " 'lkgica',\n",
              " 'llgica',\n",
              " 'lmgica',\n",
              " 'lngica',\n",
              " 'logica',\n",
              " 'lpgica',\n",
              " 'lqgica',\n",
              " 'lrgica',\n",
              " 'lsgica',\n",
              " 'ltgica',\n",
              " 'lugica',\n",
              " 'lvgica',\n",
              " 'lwgica',\n",
              " 'lxgica',\n",
              " 'lygica',\n",
              " 'lzgica',\n",
              " 'làgica',\n",
              " 'lágica',\n",
              " 'lâgica',\n",
              " 'lãgica',\n",
              " 'lègica',\n",
              " 'légica',\n",
              " 'lêgica',\n",
              " 'lìgica',\n",
              " 'lígica',\n",
              " 'lîgica',\n",
              " 'lògica',\n",
              " 'lógica',\n",
              " 'lôgica',\n",
              " 'lõgica',\n",
              " 'lùgica',\n",
              " 'lúgica',\n",
              " 'lûgica',\n",
              " 'lçgica',\n",
              " 'lgaica',\n",
              " 'lgbica',\n",
              " 'lgcica',\n",
              " 'lgdica',\n",
              " 'lgeica',\n",
              " 'lgfica',\n",
              " 'lggica',\n",
              " 'lghica',\n",
              " 'lgiica',\n",
              " 'lgjica',\n",
              " 'lgkica',\n",
              " 'lglica',\n",
              " 'lgmica',\n",
              " 'lgnica',\n",
              " 'lgoica',\n",
              " 'lgpica',\n",
              " 'lgqica',\n",
              " 'lgrica',\n",
              " 'lgsica',\n",
              " 'lgtica',\n",
              " 'lguica',\n",
              " 'lgvica',\n",
              " 'lgwica',\n",
              " 'lgxica',\n",
              " 'lgyica',\n",
              " 'lgzica',\n",
              " 'lgàica',\n",
              " 'lgáica',\n",
              " 'lgâica',\n",
              " 'lgãica',\n",
              " 'lgèica',\n",
              " 'lgéica',\n",
              " 'lgêica',\n",
              " 'lgìica',\n",
              " 'lgíica',\n",
              " 'lgîica',\n",
              " 'lgòica',\n",
              " 'lgóica',\n",
              " 'lgôica',\n",
              " 'lgõica',\n",
              " 'lgùica',\n",
              " 'lgúica',\n",
              " 'lgûica',\n",
              " 'lgçica',\n",
              " 'lgiaca',\n",
              " 'lgibca',\n",
              " 'lgicca',\n",
              " 'lgidca',\n",
              " 'lgieca',\n",
              " 'lgifca',\n",
              " 'lgigca',\n",
              " 'lgihca',\n",
              " 'lgiica',\n",
              " 'lgijca',\n",
              " 'lgikca',\n",
              " 'lgilca',\n",
              " 'lgimca',\n",
              " 'lginca',\n",
              " 'lgioca',\n",
              " 'lgipca',\n",
              " 'lgiqca',\n",
              " 'lgirca',\n",
              " 'lgisca',\n",
              " 'lgitca',\n",
              " 'lgiuca',\n",
              " 'lgivca',\n",
              " 'lgiwca',\n",
              " 'lgixca',\n",
              " 'lgiyca',\n",
              " 'lgizca',\n",
              " 'lgiàca',\n",
              " 'lgiáca',\n",
              " 'lgiâca',\n",
              " 'lgiãca',\n",
              " 'lgièca',\n",
              " 'lgiéca',\n",
              " 'lgiêca',\n",
              " 'lgiìca',\n",
              " 'lgiíca',\n",
              " 'lgiîca',\n",
              " 'lgiòca',\n",
              " 'lgióca',\n",
              " 'lgiôca',\n",
              " 'lgiõca',\n",
              " 'lgiùca',\n",
              " 'lgiúca',\n",
              " 'lgiûca',\n",
              " 'lgiçca',\n",
              " 'lgicaa',\n",
              " 'lgicba',\n",
              " 'lgicca',\n",
              " 'lgicda',\n",
              " 'lgicea',\n",
              " 'lgicfa',\n",
              " 'lgicga',\n",
              " 'lgicha',\n",
              " 'lgicia',\n",
              " 'lgicja',\n",
              " 'lgicka',\n",
              " 'lgicla',\n",
              " 'lgicma',\n",
              " 'lgicna',\n",
              " 'lgicoa',\n",
              " 'lgicpa',\n",
              " 'lgicqa',\n",
              " 'lgicra',\n",
              " 'lgicsa',\n",
              " 'lgicta',\n",
              " 'lgicua',\n",
              " 'lgicva',\n",
              " 'lgicwa',\n",
              " 'lgicxa',\n",
              " 'lgicya',\n",
              " 'lgicza',\n",
              " 'lgicàa',\n",
              " 'lgicáa',\n",
              " 'lgicâa',\n",
              " 'lgicãa',\n",
              " 'lgicèa',\n",
              " 'lgicéa',\n",
              " 'lgicêa',\n",
              " 'lgicìa',\n",
              " 'lgicía',\n",
              " 'lgicîa',\n",
              " 'lgicòa',\n",
              " 'lgicóa',\n",
              " 'lgicôa',\n",
              " 'lgicõa',\n",
              " 'lgicùa',\n",
              " 'lgicúa',\n",
              " 'lgicûa',\n",
              " 'lgicça',\n",
              " 'lgicaa',\n",
              " 'lgicab',\n",
              " 'lgicac',\n",
              " 'lgicad',\n",
              " 'lgicae',\n",
              " 'lgicaf',\n",
              " 'lgicag',\n",
              " 'lgicah',\n",
              " 'lgicai',\n",
              " 'lgicaj',\n",
              " 'lgicak',\n",
              " 'lgical',\n",
              " 'lgicam',\n",
              " 'lgican',\n",
              " 'lgicao',\n",
              " 'lgicap',\n",
              " 'lgicaq',\n",
              " 'lgicar',\n",
              " 'lgicas',\n",
              " 'lgicat',\n",
              " 'lgicau',\n",
              " 'lgicav',\n",
              " 'lgicaw',\n",
              " 'lgicax',\n",
              " 'lgicay',\n",
              " 'lgicaz',\n",
              " 'lgicaà',\n",
              " 'lgicaá',\n",
              " 'lgicaâ',\n",
              " 'lgicaã',\n",
              " 'lgicaè',\n",
              " 'lgicaé',\n",
              " 'lgicaê',\n",
              " 'lgicaì',\n",
              " 'lgicaí',\n",
              " 'lgicaî',\n",
              " 'lgicaò',\n",
              " 'lgicaó',\n",
              " 'lgicaô',\n",
              " 'lgicaõ',\n",
              " 'lgicaù',\n",
              " 'lgicaú',\n",
              " 'lgicaû',\n",
              " 'lgicaç']"
            ]
          },
          "metadata": {},
          "execution_count": 130
        }
      ]
    },
    {
      "cell_type": "markdown",
      "metadata": {
        "id": "sObB50gbFhMj"
      },
      "source": [
        "---"
      ]
    },
    {
      "cell_type": "markdown",
      "metadata": {
        "id": "JMWCxexKFhJz"
      },
      "source": [
        "## <font color=blackpink>Construindo a Função Corretor"
      ]
    },
    {
      "cell_type": "code",
      "metadata": {
        "id": "QJHa6wsIHYWB"
      },
      "source": [
        "def corretor(palavra):\n",
        "  palavras_geradas = gerador_palavras(palavra)\n",
        "  palavra_correta = max(palavras_geradas, key = probabilidade)\n",
        "  return palavra_correta"
      ],
      "execution_count": 131,
      "outputs": []
    },
    {
      "cell_type": "code",
      "metadata": {
        "colab": {
          "base_uri": "https://localhost:8080/"
        },
        "id": "DmUiETBgCe6f",
        "outputId": "7f5ba06a-11a3-4070-a095-d6d74f336b26"
      },
      "source": [
        "# Meu método kkk\n",
        "\n",
        "for palavra in palavras_geradas:\n",
        "  for pal in lista_unica:\n",
        "    if palavra == pal:\n",
        "      print(palavra)"
      ],
      "execution_count": 132,
      "outputs": [
        {
          "output_type": "stream",
          "name": "stdout",
          "text": [
            "lógica\n"
          ]
        }
      ]
    },
    {
      "cell_type": "markdown",
      "metadata": {
        "id": "Wr1SH09lJiFQ"
      },
      "source": [
        "---"
      ]
    },
    {
      "cell_type": "markdown",
      "metadata": {
        "id": "VE6mLL3pJiCa"
      },
      "source": [
        "## <font color=blackpink>Probabilidade Das Palavras Geradas"
      ]
    },
    {
      "cell_type": "code",
      "metadata": {
        "colab": {
          "base_uri": "https://localhost:8080/"
        },
        "id": "-j3k6LPHDJ3R",
        "outputId": "611e37ed-cb8b-4890-9661-4b25246d8b80"
      },
      "source": [
        "frequencia = nltk.FreqDist(lista_normalizada)\n",
        "total_palavras = len(lista_normalizada)\n",
        "frequencia.most_common(10)"
      ],
      "execution_count": 133,
      "outputs": [
        {
          "output_type": "execute_result",
          "data": {
            "text/plain": [
              "[('de', 15494),\n",
              " ('o', 13966),\n",
              " ('que', 12225),\n",
              " ('a', 11034),\n",
              " ('e', 10478),\n",
              " ('para', 7694),\n",
              " ('um', 6346),\n",
              " ('é', 5881),\n",
              " ('uma', 5202),\n",
              " ('do', 5116)]"
            ]
          },
          "metadata": {},
          "execution_count": 133
        }
      ]
    },
    {
      "cell_type": "code",
      "metadata": {
        "colab": {
          "base_uri": "https://localhost:8080/"
        },
        "id": "PME_Yt8cKY-i",
        "outputId": "0ce0f8c9-ce51-48fe-9ac8-ed181e17658d"
      },
      "source": [
        "frequencia[\"lógica\"]"
      ],
      "execution_count": 134,
      "outputs": [
        {
          "output_type": "execute_result",
          "data": {
            "text/plain": [
              "87"
            ]
          },
          "metadata": {},
          "execution_count": 134
        }
      ]
    },
    {
      "cell_type": "code",
      "metadata": {
        "colab": {
          "base_uri": "https://localhost:8080/"
        },
        "id": "o_RgcB0eK4Qr",
        "outputId": "fd6cce92-c558-4acb-b5ab-abb91abd7a53"
      },
      "source": [
        "def probabilidade(palavras_geradas):\n",
        "  return frequencia[palavras_geradas]/total_palavras\n",
        "\n",
        "probabilidade('logica')"
      ],
      "execution_count": 135,
      "outputs": [
        {
          "output_type": "execute_result",
          "data": {
            "text/plain": [
              "0.0"
            ]
          },
          "metadata": {},
          "execution_count": 135
        }
      ]
    },
    {
      "cell_type": "code",
      "metadata": {
        "colab": {
          "base_uri": "https://localhost:8080/",
          "height": 35
        },
        "id": "xwKvVnqCLN7P",
        "outputId": "19ed2e27-722d-4b14-f34f-ccfde2ea1115"
      },
      "source": [
        "corretor('lgica')"
      ],
      "execution_count": 136,
      "outputs": [
        {
          "output_type": "execute_result",
          "data": {
            "application/vnd.google.colaboratory.intrinsic+json": {
              "type": "string"
            },
            "text/plain": [
              "'lógica'"
            ]
          },
          "metadata": {},
          "execution_count": 136
        }
      ]
    },
    {
      "cell_type": "markdown",
      "metadata": {
        "id": "-ch4CLJvDaSY"
      },
      "source": [
        "---\n",
        "---"
      ]
    },
    {
      "cell_type": "markdown",
      "metadata": {
        "id": "pUzglVp3DaQb"
      },
      "source": [
        "# <font color=green>Aula 4 – Avaliando a Qualidade do Corretor"
      ]
    },
    {
      "cell_type": "markdown",
      "metadata": {
        "id": "pgRYQITwDaNi"
      },
      "source": [
        "## <font color=blackpink>Preparando Dados de Teste"
      ]
    },
    {
      "cell_type": "code",
      "metadata": {
        "id": "jOGGtJUrL3so"
      },
      "source": [
        "def cria_dados_teste(nome_arquivo):\n",
        "  lista_palavras_teste = []\n",
        "  f = open(nome_arquivo, 'r')\n",
        "  for linha in f:\n",
        "    correta, errada = linha.split()\n",
        "    lista_palavras_teste.append((correta, errada))\n",
        "  f.close()\n",
        "  return lista_palavras_teste"
      ],
      "execution_count": 137,
      "outputs": []
    },
    {
      "cell_type": "code",
      "metadata": {
        "id": "nlA8pZlVGY-M"
      },
      "source": [
        "lista_teste = cria_dados_teste('palavras.txt')"
      ],
      "execution_count": 138,
      "outputs": []
    },
    {
      "cell_type": "markdown",
      "metadata": {
        "id": "4jris9iXIKfl"
      },
      "source": [
        "---"
      ]
    },
    {
      "cell_type": "markdown",
      "metadata": {
        "id": "bttO6aLqIKc8"
      },
      "source": [
        "## <font color=blackpink>Avaliando o Corretor"
      ]
    },
    {
      "cell_type": "code",
      "metadata": {
        "id": "Q3qOUbsIGbgh"
      },
      "source": [
        "def avaliador(testes):\n",
        "  numero_palavras = len(testes)\n",
        "  acertou = 0\n",
        "  for correta, errada in testes:\n",
        "    palavra_corrigida = corretor(errada)\n",
        "    if palavra_corrigida == correta:\n",
        "      acertou += 1\n",
        "  taxa_acerto = acertou/numero_palavras\n",
        "  print(f'Taxa de acerto: {taxa_acerto*100:.2f}% de {numero_palavras} palavras')"
      ],
      "execution_count": 139,
      "outputs": []
    },
    {
      "cell_type": "code",
      "metadata": {
        "colab": {
          "base_uri": "https://localhost:8080/"
        },
        "id": "H0s2tPQZJ3eP",
        "outputId": "c885a037-b367-4161-f023-d45067ae8a07"
      },
      "source": [
        "avaliador(lista_teste)"
      ],
      "execution_count": 140,
      "outputs": [
        {
          "output_type": "stream",
          "name": "stdout",
          "text": [
            "Taxa de acerto: 1.08% de 186 palavras\n"
          ]
        }
      ]
    },
    {
      "cell_type": "markdown",
      "metadata": {
        "id": "SnpM8I4oOJ8b"
      },
      "source": [
        "---\n",
        "---"
      ]
    },
    {
      "cell_type": "markdown",
      "metadata": {
        "id": "aSlZEVK2OJ5S"
      },
      "source": [
        "# <font color=green>Aula 5 – Incrementando o Corretor"
      ]
    },
    {
      "cell_type": "markdown",
      "metadata": {
        "id": "_upaPLvZOJ2n"
      },
      "source": [
        "## <font color=blackpink>Implementando o Delete de Caracteres"
      ]
    },
    {
      "cell_type": "code",
      "metadata": {
        "id": "dGaZjUWCKFPU"
      },
      "source": [
        "def deletando_caracter(fatias):\n",
        "  novas_palavras = []\n",
        "  for E, D in fatias:\n",
        "    novas_palavras.append(E + D[1:])\n",
        "  return novas_palavras"
      ],
      "execution_count": 141,
      "outputs": []
    },
    {
      "cell_type": "markdown",
      "metadata": {
        "id": "zbpVL5pCZe-_"
      },
      "source": [
        "---"
      ]
    },
    {
      "cell_type": "markdown",
      "metadata": {
        "id": "bG2DtmDvZe7S"
      },
      "source": [
        "## <font color=blackpink>Avaliando o Novo Corretor"
      ]
    },
    {
      "cell_type": "code",
      "metadata": {
        "id": "fJd7b4EbYbys",
        "colab": {
          "base_uri": "https://localhost:8080/"
        },
        "outputId": "4d05f74a-83b3-4c5e-b06b-b23404c9cfae"
      },
      "source": [
        "gerador_palavras('lóigica')"
      ],
      "execution_count": 142,
      "outputs": [
        {
          "output_type": "execute_result",
          "data": {
            "text/plain": [
              "['alóigica',\n",
              " 'blóigica',\n",
              " 'clóigica',\n",
              " 'dlóigica',\n",
              " 'elóigica',\n",
              " 'flóigica',\n",
              " 'glóigica',\n",
              " 'hlóigica',\n",
              " 'ilóigica',\n",
              " 'jlóigica',\n",
              " 'klóigica',\n",
              " 'llóigica',\n",
              " 'mlóigica',\n",
              " 'nlóigica',\n",
              " 'olóigica',\n",
              " 'plóigica',\n",
              " 'qlóigica',\n",
              " 'rlóigica',\n",
              " 'slóigica',\n",
              " 'tlóigica',\n",
              " 'ulóigica',\n",
              " 'vlóigica',\n",
              " 'wlóigica',\n",
              " 'xlóigica',\n",
              " 'ylóigica',\n",
              " 'zlóigica',\n",
              " 'àlóigica',\n",
              " 'álóigica',\n",
              " 'âlóigica',\n",
              " 'ãlóigica',\n",
              " 'èlóigica',\n",
              " 'élóigica',\n",
              " 'êlóigica',\n",
              " 'ìlóigica',\n",
              " 'ílóigica',\n",
              " 'îlóigica',\n",
              " 'òlóigica',\n",
              " 'ólóigica',\n",
              " 'ôlóigica',\n",
              " 'õlóigica',\n",
              " 'ùlóigica',\n",
              " 'úlóigica',\n",
              " 'ûlóigica',\n",
              " 'çlóigica',\n",
              " 'laóigica',\n",
              " 'lbóigica',\n",
              " 'lcóigica',\n",
              " 'ldóigica',\n",
              " 'leóigica',\n",
              " 'lfóigica',\n",
              " 'lgóigica',\n",
              " 'lhóigica',\n",
              " 'lióigica',\n",
              " 'ljóigica',\n",
              " 'lkóigica',\n",
              " 'llóigica',\n",
              " 'lmóigica',\n",
              " 'lnóigica',\n",
              " 'loóigica',\n",
              " 'lpóigica',\n",
              " 'lqóigica',\n",
              " 'lróigica',\n",
              " 'lsóigica',\n",
              " 'ltóigica',\n",
              " 'luóigica',\n",
              " 'lvóigica',\n",
              " 'lwóigica',\n",
              " 'lxóigica',\n",
              " 'lyóigica',\n",
              " 'lzóigica',\n",
              " 'làóigica',\n",
              " 'láóigica',\n",
              " 'lâóigica',\n",
              " 'lãóigica',\n",
              " 'lèóigica',\n",
              " 'léóigica',\n",
              " 'lêóigica',\n",
              " 'lìóigica',\n",
              " 'líóigica',\n",
              " 'lîóigica',\n",
              " 'lòóigica',\n",
              " 'lóóigica',\n",
              " 'lôóigica',\n",
              " 'lõóigica',\n",
              " 'lùóigica',\n",
              " 'lúóigica',\n",
              " 'lûóigica',\n",
              " 'lçóigica',\n",
              " 'lóaigica',\n",
              " 'lóbigica',\n",
              " 'lócigica',\n",
              " 'lódigica',\n",
              " 'lóeigica',\n",
              " 'lófigica',\n",
              " 'lógigica',\n",
              " 'lóhigica',\n",
              " 'lóiigica',\n",
              " 'lójigica',\n",
              " 'lókigica',\n",
              " 'lóligica',\n",
              " 'lómigica',\n",
              " 'lónigica',\n",
              " 'lóoigica',\n",
              " 'lópigica',\n",
              " 'lóqigica',\n",
              " 'lórigica',\n",
              " 'lósigica',\n",
              " 'lótigica',\n",
              " 'lóuigica',\n",
              " 'lóvigica',\n",
              " 'lówigica',\n",
              " 'lóxigica',\n",
              " 'lóyigica',\n",
              " 'lózigica',\n",
              " 'lóàigica',\n",
              " 'lóáigica',\n",
              " 'lóâigica',\n",
              " 'lóãigica',\n",
              " 'lóèigica',\n",
              " 'lóéigica',\n",
              " 'lóêigica',\n",
              " 'lóìigica',\n",
              " 'lóíigica',\n",
              " 'lóîigica',\n",
              " 'lóòigica',\n",
              " 'lóóigica',\n",
              " 'lóôigica',\n",
              " 'lóõigica',\n",
              " 'lóùigica',\n",
              " 'lóúigica',\n",
              " 'lóûigica',\n",
              " 'lóçigica',\n",
              " 'lóiagica',\n",
              " 'lóibgica',\n",
              " 'lóicgica',\n",
              " 'lóidgica',\n",
              " 'lóiegica',\n",
              " 'lóifgica',\n",
              " 'lóiggica',\n",
              " 'lóihgica',\n",
              " 'lóiigica',\n",
              " 'lóijgica',\n",
              " 'lóikgica',\n",
              " 'lóilgica',\n",
              " 'lóimgica',\n",
              " 'lóingica',\n",
              " 'lóiogica',\n",
              " 'lóipgica',\n",
              " 'lóiqgica',\n",
              " 'lóirgica',\n",
              " 'lóisgica',\n",
              " 'lóitgica',\n",
              " 'lóiugica',\n",
              " 'lóivgica',\n",
              " 'lóiwgica',\n",
              " 'lóixgica',\n",
              " 'lóiygica',\n",
              " 'lóizgica',\n",
              " 'lóiàgica',\n",
              " 'lóiágica',\n",
              " 'lóiâgica',\n",
              " 'lóiãgica',\n",
              " 'lóiègica',\n",
              " 'lóiégica',\n",
              " 'lóiêgica',\n",
              " 'lóiìgica',\n",
              " 'lóiígica',\n",
              " 'lóiîgica',\n",
              " 'lóiògica',\n",
              " 'lóiógica',\n",
              " 'lóiôgica',\n",
              " 'lóiõgica',\n",
              " 'lóiùgica',\n",
              " 'lóiúgica',\n",
              " 'lóiûgica',\n",
              " 'lóiçgica',\n",
              " 'lóigaica',\n",
              " 'lóigbica',\n",
              " 'lóigcica',\n",
              " 'lóigdica',\n",
              " 'lóigeica',\n",
              " 'lóigfica',\n",
              " 'lóiggica',\n",
              " 'lóighica',\n",
              " 'lóigiica',\n",
              " 'lóigjica',\n",
              " 'lóigkica',\n",
              " 'lóiglica',\n",
              " 'lóigmica',\n",
              " 'lóignica',\n",
              " 'lóigoica',\n",
              " 'lóigpica',\n",
              " 'lóigqica',\n",
              " 'lóigrica',\n",
              " 'lóigsica',\n",
              " 'lóigtica',\n",
              " 'lóiguica',\n",
              " 'lóigvica',\n",
              " 'lóigwica',\n",
              " 'lóigxica',\n",
              " 'lóigyica',\n",
              " 'lóigzica',\n",
              " 'lóigàica',\n",
              " 'lóigáica',\n",
              " 'lóigâica',\n",
              " 'lóigãica',\n",
              " 'lóigèica',\n",
              " 'lóigéica',\n",
              " 'lóigêica',\n",
              " 'lóigìica',\n",
              " 'lóigíica',\n",
              " 'lóigîica',\n",
              " 'lóigòica',\n",
              " 'lóigóica',\n",
              " 'lóigôica',\n",
              " 'lóigõica',\n",
              " 'lóigùica',\n",
              " 'lóigúica',\n",
              " 'lóigûica',\n",
              " 'lóigçica',\n",
              " 'lóigiaca',\n",
              " 'lóigibca',\n",
              " 'lóigicca',\n",
              " 'lóigidca',\n",
              " 'lóigieca',\n",
              " 'lóigifca',\n",
              " 'lóigigca',\n",
              " 'lóigihca',\n",
              " 'lóigiica',\n",
              " 'lóigijca',\n",
              " 'lóigikca',\n",
              " 'lóigilca',\n",
              " 'lóigimca',\n",
              " 'lóiginca',\n",
              " 'lóigioca',\n",
              " 'lóigipca',\n",
              " 'lóigiqca',\n",
              " 'lóigirca',\n",
              " 'lóigisca',\n",
              " 'lóigitca',\n",
              " 'lóigiuca',\n",
              " 'lóigivca',\n",
              " 'lóigiwca',\n",
              " 'lóigixca',\n",
              " 'lóigiyca',\n",
              " 'lóigizca',\n",
              " 'lóigiàca',\n",
              " 'lóigiáca',\n",
              " 'lóigiâca',\n",
              " 'lóigiãca',\n",
              " 'lóigièca',\n",
              " 'lóigiéca',\n",
              " 'lóigiêca',\n",
              " 'lóigiìca',\n",
              " 'lóigiíca',\n",
              " 'lóigiîca',\n",
              " 'lóigiòca',\n",
              " 'lóigióca',\n",
              " 'lóigiôca',\n",
              " 'lóigiõca',\n",
              " 'lóigiùca',\n",
              " 'lóigiúca',\n",
              " 'lóigiûca',\n",
              " 'lóigiçca',\n",
              " 'lóigicaa',\n",
              " 'lóigicba',\n",
              " 'lóigicca',\n",
              " 'lóigicda',\n",
              " 'lóigicea',\n",
              " 'lóigicfa',\n",
              " 'lóigicga',\n",
              " 'lóigicha',\n",
              " 'lóigicia',\n",
              " 'lóigicja',\n",
              " 'lóigicka',\n",
              " 'lóigicla',\n",
              " 'lóigicma',\n",
              " 'lóigicna',\n",
              " 'lóigicoa',\n",
              " 'lóigicpa',\n",
              " 'lóigicqa',\n",
              " 'lóigicra',\n",
              " 'lóigicsa',\n",
              " 'lóigicta',\n",
              " 'lóigicua',\n",
              " 'lóigicva',\n",
              " 'lóigicwa',\n",
              " 'lóigicxa',\n",
              " 'lóigicya',\n",
              " 'lóigicza',\n",
              " 'lóigicàa',\n",
              " 'lóigicáa',\n",
              " 'lóigicâa',\n",
              " 'lóigicãa',\n",
              " 'lóigicèa',\n",
              " 'lóigicéa',\n",
              " 'lóigicêa',\n",
              " 'lóigicìa',\n",
              " 'lóigicía',\n",
              " 'lóigicîa',\n",
              " 'lóigicòa',\n",
              " 'lóigicóa',\n",
              " 'lóigicôa',\n",
              " 'lóigicõa',\n",
              " 'lóigicùa',\n",
              " 'lóigicúa',\n",
              " 'lóigicûa',\n",
              " 'lóigicça',\n",
              " 'lóigicaa',\n",
              " 'lóigicab',\n",
              " 'lóigicac',\n",
              " 'lóigicad',\n",
              " 'lóigicae',\n",
              " 'lóigicaf',\n",
              " 'lóigicag',\n",
              " 'lóigicah',\n",
              " 'lóigicai',\n",
              " 'lóigicaj',\n",
              " 'lóigicak',\n",
              " 'lóigical',\n",
              " 'lóigicam',\n",
              " 'lóigican',\n",
              " 'lóigicao',\n",
              " 'lóigicap',\n",
              " 'lóigicaq',\n",
              " 'lóigicar',\n",
              " 'lóigicas',\n",
              " 'lóigicat',\n",
              " 'lóigicau',\n",
              " 'lóigicav',\n",
              " 'lóigicaw',\n",
              " 'lóigicax',\n",
              " 'lóigicay',\n",
              " 'lóigicaz',\n",
              " 'lóigicaà',\n",
              " 'lóigicaá',\n",
              " 'lóigicaâ',\n",
              " 'lóigicaã',\n",
              " 'lóigicaè',\n",
              " 'lóigicaé',\n",
              " 'lóigicaê',\n",
              " 'lóigicaì',\n",
              " 'lóigicaí',\n",
              " 'lóigicaî',\n",
              " 'lóigicaò',\n",
              " 'lóigicaó',\n",
              " 'lóigicaô',\n",
              " 'lóigicaõ',\n",
              " 'lóigicaù',\n",
              " 'lóigicaú',\n",
              " 'lóigicaû',\n",
              " 'lóigicaç']"
            ]
          },
          "metadata": {},
          "execution_count": 142
        }
      ]
    },
    {
      "cell_type": "code",
      "metadata": {
        "colab": {
          "base_uri": "https://localhost:8080/",
          "height": 35
        },
        "id": "6ENeppEmZzWc",
        "outputId": "67c89892-180e-47c1-9be1-5d8b63685073"
      },
      "source": [
        "corretor('lóigica')"
      ],
      "execution_count": 143,
      "outputs": [
        {
          "output_type": "execute_result",
          "data": {
            "application/vnd.google.colaboratory.intrinsic+json": {
              "type": "string"
            },
            "text/plain": [
              "'alóigica'"
            ]
          },
          "metadata": {},
          "execution_count": 143
        }
      ]
    },
    {
      "cell_type": "code",
      "metadata": {
        "id": "se-DrlhcZ1Sa",
        "colab": {
          "base_uri": "https://localhost:8080/"
        },
        "outputId": "e95bd9e9-2451-40cb-941e-852f8a2ac1be"
      },
      "source": [
        "def gerador_palavras(palavra):\n",
        "  fatias = []\n",
        "  for i in range(len(palavra) + 1):\n",
        "    fatias.append((palavra[:i],palavra[i:]))\n",
        "  palavras_geradas = insere_letras(fatias)\n",
        "  palavras_geradas += deletando_caracter(fatias)\n",
        "  return palavras_geradas\n",
        "\n",
        "\n",
        "palavras_geradas = gerador_palavras('lóigica')\n",
        "palavras_geradas"
      ],
      "execution_count": 144,
      "outputs": [
        {
          "output_type": "execute_result",
          "data": {
            "text/plain": [
              "['alóigica',\n",
              " 'blóigica',\n",
              " 'clóigica',\n",
              " 'dlóigica',\n",
              " 'elóigica',\n",
              " 'flóigica',\n",
              " 'glóigica',\n",
              " 'hlóigica',\n",
              " 'ilóigica',\n",
              " 'jlóigica',\n",
              " 'klóigica',\n",
              " 'llóigica',\n",
              " 'mlóigica',\n",
              " 'nlóigica',\n",
              " 'olóigica',\n",
              " 'plóigica',\n",
              " 'qlóigica',\n",
              " 'rlóigica',\n",
              " 'slóigica',\n",
              " 'tlóigica',\n",
              " 'ulóigica',\n",
              " 'vlóigica',\n",
              " 'wlóigica',\n",
              " 'xlóigica',\n",
              " 'ylóigica',\n",
              " 'zlóigica',\n",
              " 'àlóigica',\n",
              " 'álóigica',\n",
              " 'âlóigica',\n",
              " 'ãlóigica',\n",
              " 'èlóigica',\n",
              " 'élóigica',\n",
              " 'êlóigica',\n",
              " 'ìlóigica',\n",
              " 'ílóigica',\n",
              " 'îlóigica',\n",
              " 'òlóigica',\n",
              " 'ólóigica',\n",
              " 'ôlóigica',\n",
              " 'õlóigica',\n",
              " 'ùlóigica',\n",
              " 'úlóigica',\n",
              " 'ûlóigica',\n",
              " 'çlóigica',\n",
              " 'laóigica',\n",
              " 'lbóigica',\n",
              " 'lcóigica',\n",
              " 'ldóigica',\n",
              " 'leóigica',\n",
              " 'lfóigica',\n",
              " 'lgóigica',\n",
              " 'lhóigica',\n",
              " 'lióigica',\n",
              " 'ljóigica',\n",
              " 'lkóigica',\n",
              " 'llóigica',\n",
              " 'lmóigica',\n",
              " 'lnóigica',\n",
              " 'loóigica',\n",
              " 'lpóigica',\n",
              " 'lqóigica',\n",
              " 'lróigica',\n",
              " 'lsóigica',\n",
              " 'ltóigica',\n",
              " 'luóigica',\n",
              " 'lvóigica',\n",
              " 'lwóigica',\n",
              " 'lxóigica',\n",
              " 'lyóigica',\n",
              " 'lzóigica',\n",
              " 'làóigica',\n",
              " 'láóigica',\n",
              " 'lâóigica',\n",
              " 'lãóigica',\n",
              " 'lèóigica',\n",
              " 'léóigica',\n",
              " 'lêóigica',\n",
              " 'lìóigica',\n",
              " 'líóigica',\n",
              " 'lîóigica',\n",
              " 'lòóigica',\n",
              " 'lóóigica',\n",
              " 'lôóigica',\n",
              " 'lõóigica',\n",
              " 'lùóigica',\n",
              " 'lúóigica',\n",
              " 'lûóigica',\n",
              " 'lçóigica',\n",
              " 'lóaigica',\n",
              " 'lóbigica',\n",
              " 'lócigica',\n",
              " 'lódigica',\n",
              " 'lóeigica',\n",
              " 'lófigica',\n",
              " 'lógigica',\n",
              " 'lóhigica',\n",
              " 'lóiigica',\n",
              " 'lójigica',\n",
              " 'lókigica',\n",
              " 'lóligica',\n",
              " 'lómigica',\n",
              " 'lónigica',\n",
              " 'lóoigica',\n",
              " 'lópigica',\n",
              " 'lóqigica',\n",
              " 'lórigica',\n",
              " 'lósigica',\n",
              " 'lótigica',\n",
              " 'lóuigica',\n",
              " 'lóvigica',\n",
              " 'lówigica',\n",
              " 'lóxigica',\n",
              " 'lóyigica',\n",
              " 'lózigica',\n",
              " 'lóàigica',\n",
              " 'lóáigica',\n",
              " 'lóâigica',\n",
              " 'lóãigica',\n",
              " 'lóèigica',\n",
              " 'lóéigica',\n",
              " 'lóêigica',\n",
              " 'lóìigica',\n",
              " 'lóíigica',\n",
              " 'lóîigica',\n",
              " 'lóòigica',\n",
              " 'lóóigica',\n",
              " 'lóôigica',\n",
              " 'lóõigica',\n",
              " 'lóùigica',\n",
              " 'lóúigica',\n",
              " 'lóûigica',\n",
              " 'lóçigica',\n",
              " 'lóiagica',\n",
              " 'lóibgica',\n",
              " 'lóicgica',\n",
              " 'lóidgica',\n",
              " 'lóiegica',\n",
              " 'lóifgica',\n",
              " 'lóiggica',\n",
              " 'lóihgica',\n",
              " 'lóiigica',\n",
              " 'lóijgica',\n",
              " 'lóikgica',\n",
              " 'lóilgica',\n",
              " 'lóimgica',\n",
              " 'lóingica',\n",
              " 'lóiogica',\n",
              " 'lóipgica',\n",
              " 'lóiqgica',\n",
              " 'lóirgica',\n",
              " 'lóisgica',\n",
              " 'lóitgica',\n",
              " 'lóiugica',\n",
              " 'lóivgica',\n",
              " 'lóiwgica',\n",
              " 'lóixgica',\n",
              " 'lóiygica',\n",
              " 'lóizgica',\n",
              " 'lóiàgica',\n",
              " 'lóiágica',\n",
              " 'lóiâgica',\n",
              " 'lóiãgica',\n",
              " 'lóiègica',\n",
              " 'lóiégica',\n",
              " 'lóiêgica',\n",
              " 'lóiìgica',\n",
              " 'lóiígica',\n",
              " 'lóiîgica',\n",
              " 'lóiògica',\n",
              " 'lóiógica',\n",
              " 'lóiôgica',\n",
              " 'lóiõgica',\n",
              " 'lóiùgica',\n",
              " 'lóiúgica',\n",
              " 'lóiûgica',\n",
              " 'lóiçgica',\n",
              " 'lóigaica',\n",
              " 'lóigbica',\n",
              " 'lóigcica',\n",
              " 'lóigdica',\n",
              " 'lóigeica',\n",
              " 'lóigfica',\n",
              " 'lóiggica',\n",
              " 'lóighica',\n",
              " 'lóigiica',\n",
              " 'lóigjica',\n",
              " 'lóigkica',\n",
              " 'lóiglica',\n",
              " 'lóigmica',\n",
              " 'lóignica',\n",
              " 'lóigoica',\n",
              " 'lóigpica',\n",
              " 'lóigqica',\n",
              " 'lóigrica',\n",
              " 'lóigsica',\n",
              " 'lóigtica',\n",
              " 'lóiguica',\n",
              " 'lóigvica',\n",
              " 'lóigwica',\n",
              " 'lóigxica',\n",
              " 'lóigyica',\n",
              " 'lóigzica',\n",
              " 'lóigàica',\n",
              " 'lóigáica',\n",
              " 'lóigâica',\n",
              " 'lóigãica',\n",
              " 'lóigèica',\n",
              " 'lóigéica',\n",
              " 'lóigêica',\n",
              " 'lóigìica',\n",
              " 'lóigíica',\n",
              " 'lóigîica',\n",
              " 'lóigòica',\n",
              " 'lóigóica',\n",
              " 'lóigôica',\n",
              " 'lóigõica',\n",
              " 'lóigùica',\n",
              " 'lóigúica',\n",
              " 'lóigûica',\n",
              " 'lóigçica',\n",
              " 'lóigiaca',\n",
              " 'lóigibca',\n",
              " 'lóigicca',\n",
              " 'lóigidca',\n",
              " 'lóigieca',\n",
              " 'lóigifca',\n",
              " 'lóigigca',\n",
              " 'lóigihca',\n",
              " 'lóigiica',\n",
              " 'lóigijca',\n",
              " 'lóigikca',\n",
              " 'lóigilca',\n",
              " 'lóigimca',\n",
              " 'lóiginca',\n",
              " 'lóigioca',\n",
              " 'lóigipca',\n",
              " 'lóigiqca',\n",
              " 'lóigirca',\n",
              " 'lóigisca',\n",
              " 'lóigitca',\n",
              " 'lóigiuca',\n",
              " 'lóigivca',\n",
              " 'lóigiwca',\n",
              " 'lóigixca',\n",
              " 'lóigiyca',\n",
              " 'lóigizca',\n",
              " 'lóigiàca',\n",
              " 'lóigiáca',\n",
              " 'lóigiâca',\n",
              " 'lóigiãca',\n",
              " 'lóigièca',\n",
              " 'lóigiéca',\n",
              " 'lóigiêca',\n",
              " 'lóigiìca',\n",
              " 'lóigiíca',\n",
              " 'lóigiîca',\n",
              " 'lóigiòca',\n",
              " 'lóigióca',\n",
              " 'lóigiôca',\n",
              " 'lóigiõca',\n",
              " 'lóigiùca',\n",
              " 'lóigiúca',\n",
              " 'lóigiûca',\n",
              " 'lóigiçca',\n",
              " 'lóigicaa',\n",
              " 'lóigicba',\n",
              " 'lóigicca',\n",
              " 'lóigicda',\n",
              " 'lóigicea',\n",
              " 'lóigicfa',\n",
              " 'lóigicga',\n",
              " 'lóigicha',\n",
              " 'lóigicia',\n",
              " 'lóigicja',\n",
              " 'lóigicka',\n",
              " 'lóigicla',\n",
              " 'lóigicma',\n",
              " 'lóigicna',\n",
              " 'lóigicoa',\n",
              " 'lóigicpa',\n",
              " 'lóigicqa',\n",
              " 'lóigicra',\n",
              " 'lóigicsa',\n",
              " 'lóigicta',\n",
              " 'lóigicua',\n",
              " 'lóigicva',\n",
              " 'lóigicwa',\n",
              " 'lóigicxa',\n",
              " 'lóigicya',\n",
              " 'lóigicza',\n",
              " 'lóigicàa',\n",
              " 'lóigicáa',\n",
              " 'lóigicâa',\n",
              " 'lóigicãa',\n",
              " 'lóigicèa',\n",
              " 'lóigicéa',\n",
              " 'lóigicêa',\n",
              " 'lóigicìa',\n",
              " 'lóigicía',\n",
              " 'lóigicîa',\n",
              " 'lóigicòa',\n",
              " 'lóigicóa',\n",
              " 'lóigicôa',\n",
              " 'lóigicõa',\n",
              " 'lóigicùa',\n",
              " 'lóigicúa',\n",
              " 'lóigicûa',\n",
              " 'lóigicça',\n",
              " 'lóigicaa',\n",
              " 'lóigicab',\n",
              " 'lóigicac',\n",
              " 'lóigicad',\n",
              " 'lóigicae',\n",
              " 'lóigicaf',\n",
              " 'lóigicag',\n",
              " 'lóigicah',\n",
              " 'lóigicai',\n",
              " 'lóigicaj',\n",
              " 'lóigicak',\n",
              " 'lóigical',\n",
              " 'lóigicam',\n",
              " 'lóigican',\n",
              " 'lóigicao',\n",
              " 'lóigicap',\n",
              " 'lóigicaq',\n",
              " 'lóigicar',\n",
              " 'lóigicas',\n",
              " 'lóigicat',\n",
              " 'lóigicau',\n",
              " 'lóigicav',\n",
              " 'lóigicaw',\n",
              " 'lóigicax',\n",
              " 'lóigicay',\n",
              " 'lóigicaz',\n",
              " 'lóigicaà',\n",
              " 'lóigicaá',\n",
              " 'lóigicaâ',\n",
              " 'lóigicaã',\n",
              " 'lóigicaè',\n",
              " 'lóigicaé',\n",
              " 'lóigicaê',\n",
              " 'lóigicaì',\n",
              " 'lóigicaí',\n",
              " 'lóigicaî',\n",
              " 'lóigicaò',\n",
              " 'lóigicaó',\n",
              " 'lóigicaô',\n",
              " 'lóigicaõ',\n",
              " 'lóigicaù',\n",
              " 'lóigicaú',\n",
              " 'lóigicaû',\n",
              " 'lóigicaç',\n",
              " 'óigica',\n",
              " 'ligica',\n",
              " 'lógica',\n",
              " 'lóiica',\n",
              " 'lóigca',\n",
              " 'lóigia',\n",
              " 'lóigic',\n",
              " 'lóigica']"
            ]
          },
          "metadata": {},
          "execution_count": 144
        }
      ]
    },
    {
      "cell_type": "code",
      "metadata": {
        "colab": {
          "base_uri": "https://localhost:8080/"
        },
        "id": "NAmMP_kUbHvZ",
        "outputId": "ea544c1f-97cb-48d6-9758-ddf4ccbca484"
      },
      "source": [
        "avaliador(lista_teste)"
      ],
      "execution_count": 145,
      "outputs": [
        {
          "output_type": "stream",
          "name": "stdout",
          "text": [
            "Taxa de acerto: 41.40% de 186 palavras\n"
          ]
        }
      ]
    },
    {
      "cell_type": "code",
      "metadata": {
        "colab": {
          "base_uri": "https://localhost:8080/",
          "height": 35
        },
        "id": "aYqrRFtmbJVw",
        "outputId": "e7ae449b-3379-4c37-9880-f9d62efb98c1"
      },
      "source": [
        "corretor('lgica')"
      ],
      "execution_count": 146,
      "outputs": [
        {
          "output_type": "execute_result",
          "data": {
            "application/vnd.google.colaboratory.intrinsic+json": {
              "type": "string"
            },
            "text/plain": [
              "'lógica'"
            ]
          },
          "metadata": {},
          "execution_count": 146
        }
      ]
    },
    {
      "cell_type": "markdown",
      "metadata": {
        "id": "WuCmAFVSeHw9"
      },
      "source": [
        "---\n",
        "---"
      ]
    },
    {
      "cell_type": "markdown",
      "metadata": {
        "id": "GfeWu-g-eHuk"
      },
      "source": [
        "# <font color=green>Aula 6 – Corrigindo os Principais Erros de Digitação"
      ]
    },
    {
      "cell_type": "markdown",
      "metadata": {
        "id": "_yGweVMueHsO"
      },
      "source": [
        "## <font color=blackpink>Implementando a Troca de Letras"
      ]
    },
    {
      "cell_type": "code",
      "metadata": {
        "id": "x9s2dh-reUYW"
      },
      "source": [
        "def insere_letras(fatias):\n",
        "  novas_palavras = []\n",
        "  letras = 'abcdefghijklmnopqrstuvwxyzàáâãèéêìíîòóôõùúûç'\n",
        "  for E, D in fatias:\n",
        "    for letra in letras:\n",
        "      novas_palavras.append(E + letra + D)\n",
        "  return novas_palavras\n",
        "\n",
        "\n",
        "def deletando_caracter(fatias):\n",
        "  novas_palavras = []\n",
        "  for E, D in fatias:\n",
        "    novas_palavras.append(E + D[1:])\n",
        "  return novas_palavras\n",
        "\n",
        "\n",
        "def troca_letra(fatias):\n",
        "  novas_palavras = []\n",
        "  letras = 'abcdefghijklmnopqrstuvwxyzàáâãèéêìíîòóôõùúûç'\n",
        "  for E, D in fatias:\n",
        "    for letra in letras:\n",
        "      novas_palavras.append(E + letra + D[1:])\n",
        "  return novas_palavras\n",
        "\n",
        "\n",
        "def gerador_palavras(palavra):\n",
        "  fatias = []\n",
        "  for i in range(len(palavra) + 1):\n",
        "    fatias.append((palavra[:i],palavra[i:]))\n",
        "  palavras_geradas = insere_letras(fatias)\n",
        "  palavras_geradas += deletando_caracter(fatias)\n",
        "  palavras_geradas += troca_letra(fatias)\n",
        "  return palavras_geradas"
      ],
      "execution_count": 147,
      "outputs": []
    },
    {
      "cell_type": "code",
      "metadata": {
        "colab": {
          "base_uri": "https://localhost:8080/",
          "height": 35
        },
        "id": "IMimoSiinDq-",
        "outputId": "c16e90a6-05c7-4e83-a76c-687178ee9e72"
      },
      "source": [
        "corretor('lóhica')"
      ],
      "execution_count": 148,
      "outputs": [
        {
          "output_type": "execute_result",
          "data": {
            "application/vnd.google.colaboratory.intrinsic+json": {
              "type": "string"
            },
            "text/plain": [
              "'lógica'"
            ]
          },
          "metadata": {},
          "execution_count": 148
        }
      ]
    },
    {
      "cell_type": "markdown",
      "metadata": {
        "id": "3BliasFLozav"
      },
      "source": [
        "---"
      ]
    },
    {
      "cell_type": "markdown",
      "metadata": {
        "id": "rgnc9Sx_ozYI"
      },
      "source": [
        "## <font color=blackpink>Implementando a Inversão de Letras"
      ]
    },
    {
      "cell_type": "code",
      "metadata": {
        "id": "gsHelZQktAad"
      },
      "source": [
        "def inverte_letra(fatias):\n",
        "  novas_palavras = []\n",
        "  for E, D in fatias:\n",
        "    if len(D) > 1:\n",
        "      novas_palavras.append(E + D[1] + D[0] + D[2:])\n",
        "  return novas_palavras"
      ],
      "execution_count": 149,
      "outputs": []
    },
    {
      "cell_type": "code",
      "metadata": {
        "id": "iH6uM5UQtB9d"
      },
      "source": [
        "def gerador_palavras(palavra):\n",
        "  fatias = []\n",
        "  for i in range(len(palavra) + 1):\n",
        "    fatias.append((palavra[:i],palavra[i:]))\n",
        "  palavras_geradas = insere_letras(fatias)\n",
        "  palavras_geradas += deletando_caracter(fatias)\n",
        "  palavras_geradas += troca_letra(fatias)\n",
        "  palavras_geradas += inverte_letra(fatias)\n",
        "  return palavras_geradas"
      ],
      "execution_count": 150,
      "outputs": []
    },
    {
      "cell_type": "code",
      "metadata": {
        "id": "IkdVuNJ7o2D5"
      },
      "source": [
        "def insere_letras(fatias):\n",
        "  novas_palavras = []\n",
        "  letras = 'abcdefghijklmnopqrstuvwxyzàáâãèéêìíîòóôõùúûç'\n",
        "  for E, D in fatias:\n",
        "    for letra in letras:\n",
        "      novas_palavras.append(E + letra + D)\n",
        "  return novas_palavras\n",
        "\n",
        "\n",
        "def deletando_caracter(fatias):\n",
        "  novas_palavras = []\n",
        "  for E, D in fatias:\n",
        "    novas_palavras.append(E + D[1:])\n",
        "  return novas_palavras\n",
        "\n",
        "\n",
        "def troca_letra(fatias):\n",
        "  novas_palavras = []\n",
        "  letras = 'abcdefghijklmnopqrstuvwxyzàáâãèéêìíîòóôõùúûç'\n",
        "  for E, D in fatias:\n",
        "    for letra in letras:\n",
        "      novas_palavras.append(E + letra + D[1:])\n",
        "  return novas_palavras\n",
        "\n",
        "\n",
        "def inverte_letra(fatias):\n",
        "  novas_palavras = []\n",
        "  for E, D in fatias:\n",
        "    if len(D) > 1:\n",
        "      novas_palavras.append(E + D[1] + D[0] + D[2:])\n",
        "  return novas_palavras\n",
        "\n",
        "\n",
        "def gerador_palavras(palavra):\n",
        "  fatias = []\n",
        "  for i in range(len(palavra) + 1):\n",
        "    fatias.append((palavra[:i],palavra[i:]))\n",
        "  palavras_geradas = insere_letras(fatias)\n",
        "  palavras_geradas += deletando_caracter(fatias)\n",
        "  palavras_geradas += troca_letra(fatias)\n",
        "  palavras_geradas += inverte_letra(fatias)\n",
        "  return palavras_geradas"
      ],
      "execution_count": 151,
      "outputs": []
    },
    {
      "cell_type": "code",
      "metadata": {
        "colab": {
          "base_uri": "https://localhost:8080/",
          "height": 35
        },
        "id": "UxlBYpq7r7qw",
        "outputId": "c01dba98-c915-43f6-d96b-30c86096bbb5"
      },
      "source": [
        "corretor('lógiac')"
      ],
      "execution_count": 152,
      "outputs": [
        {
          "output_type": "execute_result",
          "data": {
            "application/vnd.google.colaboratory.intrinsic+json": {
              "type": "string"
            },
            "text/plain": [
              "'lógica'"
            ]
          },
          "metadata": {},
          "execution_count": 152
        }
      ]
    },
    {
      "cell_type": "code",
      "metadata": {
        "id": "P3mPhIcStHLl",
        "colab": {
          "base_uri": "https://localhost:8080/"
        },
        "outputId": "307932ba-b239-4263-97b3-0b8834582ffb"
      },
      "source": [
        "avaliador(lista_teste)"
      ],
      "execution_count": 153,
      "outputs": [
        {
          "output_type": "stream",
          "name": "stdout",
          "text": [
            "Taxa de acerto: 76.34% de 186 palavras\n"
          ]
        }
      ]
    },
    {
      "cell_type": "markdown",
      "metadata": {
        "id": "KpelT4yyHxSC"
      },
      "source": [
        "---\n",
        "---"
      ]
    },
    {
      "cell_type": "markdown",
      "metadata": {
        "id": "nZNnS69CHxPu"
      },
      "source": [
        "# <font color=green>Aula 7 – Criando um Corretor Turbinado"
      ]
    },
    {
      "cell_type": "markdown",
      "metadata": {
        "id": "_mRioe2tHxNI"
      },
      "source": [
        "## <font color=blackpink>Palavras Desconhecidas Ao Vocabulário"
      ]
    },
    {
      "cell_type": "code",
      "metadata": {
        "id": "DT7Zg9BttIk7",
        "colab": {
          "base_uri": "https://localhost:8080/"
        },
        "outputId": "1dc50a2c-47c9-489c-9bc6-188f703f6e82"
      },
      "source": [
        "def avaliador(testes, vocabulario):\n",
        "  numero_palavras = len(testes)\n",
        "  acertou = 0\n",
        "  desconhecida = 0\n",
        "  \n",
        "  for correta, errada in testes:\n",
        "    palavra_corrigida = corretor(errada)\n",
        "    if palavra_corrigida == correta:\n",
        "      acertou += 1\n",
        "    else:\n",
        "      desconhecida += (correta not in vocabulario)\n",
        "  \n",
        "  taxa_acerto = acertou/numero_palavras\n",
        "  taxa_desconhecida = desconhecida/numero_palavras\n",
        "  \n",
        "  print(f'Taxa de acerto: {taxa_acerto*100:.2f}% de {numero_palavras} palavras')\n",
        "  print(f'Taxa de desconhecidas: {taxa_desconhecida*100:.2f}%')\n",
        "\n",
        "vocabulario = set(lista_normalizada)\n",
        "avaliador(lista_teste, vocabulario)"
      ],
      "execution_count": 154,
      "outputs": [
        {
          "output_type": "stream",
          "name": "stdout",
          "text": [
            "Taxa de acerto: 76.34% de 186 palavras\n",
            "Taxa de desconhecidas: 6.99%\n"
          ]
        }
      ]
    },
    {
      "cell_type": "markdown",
      "metadata": {
        "id": "UolTlsx9RJRB"
      },
      "source": [
        "---"
      ]
    },
    {
      "cell_type": "markdown",
      "metadata": {
        "id": "u8mDVHt8RJJO"
      },
      "source": [
        "## <font color=blackpink>Turbinando O Gerador De Palavras"
      ]
    },
    {
      "cell_type": "code",
      "metadata": {
        "colab": {
          "base_uri": "https://localhost:8080/"
        },
        "id": "oq_GEiB5KXf9",
        "outputId": "2285296e-9fc8-4211-b968-30a400c0e284"
      },
      "source": [
        "palavra = 'lóiigica'\n",
        "\n",
        "def gerador_turbinado(palavras_geradas):\n",
        "  novas_palavras = []\n",
        "  for palavra in palavras_geradas:\n",
        "    novas_palavras += gerador_palavras(palavra)\n",
        "  return novas_palavras\n",
        "\n",
        "palavras_g = gerador_turbinado(gerador_palavras(palavra))\n",
        "'lógica' in palavras_g"
      ],
      "execution_count": 155,
      "outputs": [
        {
          "output_type": "execute_result",
          "data": {
            "text/plain": [
              "True"
            ]
          },
          "metadata": {},
          "execution_count": 155
        }
      ]
    },
    {
      "cell_type": "code",
      "metadata": {
        "colab": {
          "base_uri": "https://localhost:8080/"
        },
        "id": "Ajim9u4rS0rq",
        "outputId": "c37fe0d1-c910-431b-d43e-c1bc82b2d3e4"
      },
      "source": [
        "len(palavras_g)"
      ],
      "execution_count": 156,
      "outputs": [
        {
          "output_type": "execute_result",
          "data": {
            "text/plain": [
              "691744"
            ]
          },
          "metadata": {},
          "execution_count": 156
        }
      ]
    },
    {
      "cell_type": "markdown",
      "metadata": {
        "id": "hNewDxQqUC7F"
      },
      "source": [
        "---"
      ]
    },
    {
      "cell_type": "markdown",
      "metadata": {
        "id": "BQwCe7AxUC4i"
      },
      "source": [
        "## <font color=blackpink>Escolhendo Os Melhores Candidatos"
      ]
    },
    {
      "cell_type": "code",
      "metadata": {
        "id": "uOVy5xsiUJhv"
      },
      "source": [
        "def novo_corretor(palavra):\n",
        "  palavras_geradas = gerador_palavras(palavra)\n",
        "  palavras_turbinado = gerador_turbinado(palavras_geradas)\n",
        "  \n",
        "  todas_palavras = set(palavras_geradas + palavras_turbinado)\n",
        "  candidatos = [palavra]\n",
        "  \n",
        "  for palavra in todas_palavras:\n",
        "    if palavra in vocabulario:\n",
        "      candidatos.append(palavra)\n",
        "  \n",
        "  palavra_correta = max(candidatos, key = probabilidade)\n",
        "  \n",
        "  return palavra_correta"
      ],
      "execution_count": 161,
      "outputs": []
    },
    {
      "cell_type": "code",
      "metadata": {
        "colab": {
          "base_uri": "https://localhost:8080/",
          "height": 35
        },
        "id": "BPlt5vz9VSd1",
        "outputId": "abf2045a-68f6-43f5-cf88-28f99206da70"
      },
      "source": [
        "novo_corretor(palavra)"
      ],
      "execution_count": 162,
      "outputs": [
        {
          "output_type": "execute_result",
          "data": {
            "application/vnd.google.colaboratory.intrinsic+json": {
              "type": "string"
            },
            "text/plain": [
              "'lógica'"
            ]
          },
          "metadata": {},
          "execution_count": 162
        }
      ]
    },
    {
      "cell_type": "markdown",
      "metadata": {
        "id": "TwzRCwGYcyEg"
      },
      "source": [
        "---\n",
        "---"
      ]
    },
    {
      "cell_type": "markdown",
      "metadata": {
        "id": "LrOARU_3cx7n"
      },
      "source": [
        "# <font color=green>Aula 8 – Avaliando e Interpretando o Erro do Corretor Turbinado"
      ]
    },
    {
      "cell_type": "markdown",
      "metadata": {
        "id": "5_9KFiWwcx5C"
      },
      "source": [
        "## <font color=blackpink>Avaliando O Resultado Dos Dois Corretores"
      ]
    },
    {
      "cell_type": "code",
      "metadata": {
        "id": "Bm0gQH5YVWdC"
      },
      "source": [
        "def avaliador(testes, vocabulario):\n",
        "  numero_palavras = len(testes)\n",
        "  acertou = 0\n",
        "  desconhecida = 0\n",
        "  \n",
        "  for correta, errada in testes:\n",
        "    palavra_corrigida = novo_corretor(errada)\n",
        "    desconhecida += (correta not in vocabulario)\n",
        "    if palavra_corrigida == correta:\n",
        "      acertou += 1\n",
        "    else:\n",
        "      print(errada + '-' + corretor(errada) + '-' + palavra_corrigida)\n",
        "  \n",
        "  taxa_acerto = acertou/numero_palavras\n",
        "  taxa_desconhecida = desconhecida/numero_palavras\n",
        "  \n",
        "  print(f'Taxa de acerto: {taxa_acerto*100:.2f}% de {numero_palavras} palavras')\n",
        "  print(f'Taxa de desconhecidas: {taxa_desconhecida*100:.2f}%')"
      ],
      "execution_count": 170,
      "outputs": []
    },
    {
      "cell_type": "code",
      "metadata": {
        "colab": {
          "base_uri": "https://localhost:8080/"
        },
        "id": "ql7_mrNudZNd",
        "outputId": "f796ced7-c4cc-484f-bb3d-4dc40d799545"
      },
      "source": [
        "avaliador(lista_teste, vocabulario)"
      ],
      "execution_count": 171,
      "outputs": [
        {
          "output_type": "stream",
          "name": "stdout",
          "text": [
            "Taxa de acerto: 76.34% de 186 palavras\n",
            "Taxa de desconhecidas: 6.99%\n"
          ]
        }
      ]
    },
    {
      "cell_type": "markdown",
      "metadata": {
        "id": "mowwOQ4NgXfR"
      },
      "source": [
        "---"
      ]
    },
    {
      "cell_type": "markdown",
      "metadata": {
        "id": "e07ohEjfgXcy"
      },
      "source": [
        "## <font color=blackpink>Avaliando o Resultado dos Dois Corretores Cont"
      ]
    },
    {
      "cell_type": "code",
      "metadata": {
        "id": "mZ_pjgXOdgc2"
      },
      "source": [
        "def avaliador(testes, vocabulario):\n",
        "  numero_palavras = len(testes)\n",
        "  acertou = 0\n",
        "  desconhecida = 0\n",
        "  \n",
        "  for correta, errada in testes:\n",
        "    palavra_corrigida = corretor(errada)\n",
        "    desconhecida += (correta not in vocabulario)\n",
        "    if palavra_corrigida == correta:\n",
        "      acertou += 1\n",
        "  \n",
        "  taxa_acerto = acertou/numero_palavras\n",
        "  taxa_desconhecida = desconhecida/numero_palavras\n",
        "  \n",
        "  print(f'Taxa de acerto: {taxa_acerto*100:.2f}% de {numero_palavras} palavras')\n",
        "  print(f'Taxa de desconhecidas: {taxa_desconhecida*100:.2f}%')"
      ],
      "execution_count": 172,
      "outputs": []
    },
    {
      "cell_type": "code",
      "metadata": {
        "colab": {
          "base_uri": "https://localhost:8080/"
        },
        "id": "MDRe2BErimel",
        "outputId": "ba6df8e4-382e-49ac-95da-498f7f9831e7"
      },
      "source": [
        "avaliador(lista_teste, vocabulario)"
      ],
      "execution_count": 173,
      "outputs": [
        {
          "output_type": "stream",
          "name": "stdout",
          "text": [
            "Taxa de acerto: 76.34% de 186 palavras\n",
            "Taxa de desconhecidas: 6.99%\n"
          ]
        }
      ]
    },
    {
      "cell_type": "code",
      "metadata": {
        "colab": {
          "base_uri": "https://localhost:8080/"
        },
        "id": "uz7HV1SximyT",
        "outputId": "95c88dfe-72ca-4753-e7db-f71ca6a0fb3f"
      },
      "source": [
        "palavra = 'ló gica'\n",
        "\n",
        "print(novo_corretor(palavra))\n",
        "print(corretor(palavra))"
      ],
      "execution_count": 177,
      "outputs": [
        {
          "output_type": "stream",
          "name": "stdout",
          "text": [
            "lógica\n",
            "lógica\n"
          ]
        }
      ]
    },
    {
      "cell_type": "code",
      "metadata": {
        "id": "exPjUYPJiw-b"
      },
      "source": [
        ""
      ],
      "execution_count": null,
      "outputs": []
    }
  ]
}