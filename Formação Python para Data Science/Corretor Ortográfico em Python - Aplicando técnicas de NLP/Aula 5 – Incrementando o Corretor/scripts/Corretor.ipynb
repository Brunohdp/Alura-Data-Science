{
  "nbformat": 4,
  "nbformat_minor": 0,
  "metadata": {
    "colab": {
      "name": "Corretor",
      "provenance": [],
      "collapsed_sections": []
    },
    "kernelspec": {
      "name": "python3",
      "display_name": "Python 3"
    },
    "language_info": {
      "name": "python"
    }
  },
  "cells": [
    {
      "cell_type": "markdown",
      "metadata": {
        "id": "OffPBUdug5F8"
      },
      "source": [
        "# <font color = green>Aula 1 – Explorando Um Projeto De NLP"
      ]
    },
    {
      "cell_type": "markdown",
      "metadata": {
        "id": "9UIlUeVTg5DT"
      },
      "source": [
        "## <font color = blackpink>Importando Um Corpus Textual"
      ]
    },
    {
      "cell_type": "code",
      "metadata": {
        "colab": {
          "base_uri": "https://localhost:8080/"
        },
        "id": "aQGGVLP7g29P",
        "outputId": "e94a778c-f24c-4665-95aa-bcc8a87e4bfa"
      },
      "source": [
        "with open('artigos.txt', 'r') as f:\n",
        "  artigos = f.read()\n",
        "\n",
        "print(artigos[:500])"
      ],
      "execution_count": 1,
      "outputs": [
        {
          "output_type": "stream",
          "name": "stdout",
          "text": [
            "\n",
            "\n",
            "\n",
            "imagem \n",
            "\n",
            "Temos a seguinte classe que representa um usuário no nosso sistema:\n",
            "\n",
            "java\n",
            "\n",
            "Para salvar um novo usuário, várias validações são feitas, como por exemplo: Ver se o nome só contém letras, [**o CPF só números**] e ver se o usuário possui no mínimo 18 anos. Veja o método que faz essa validação:\n",
            "\n",
            "java \n",
            "\n",
            "Suponha agora que eu tenha outra classe, a classe `Produto`, que contém um atributo nome e eu quero fazer a mesma validação que fiz para o nome do usuário: Ver se só contém letras. E aí? Vou\n"
          ]
        }
      ]
    },
    {
      "cell_type": "markdown",
      "metadata": {
        "id": "5jq7iCOvj1wA"
      },
      "source": [
        "---"
      ]
    },
    {
      "cell_type": "markdown",
      "metadata": {
        "id": "JJkfFlm0j1to"
      },
      "source": [
        "## <font color = blackpink>Tokenização"
      ]
    },
    {
      "cell_type": "code",
      "metadata": {
        "colab": {
          "base_uri": "https://localhost:8080/"
        },
        "id": "M3z6hg20i8FJ",
        "outputId": "0b8298be-633e-4759-cdef-17dd66305bed"
      },
      "source": [
        "len(artigos)"
      ],
      "execution_count": 2,
      "outputs": [
        {
          "output_type": "execute_result",
          "data": {
            "text/plain": [
              "1020857"
            ]
          },
          "metadata": {},
          "execution_count": 2
        }
      ]
    },
    {
      "cell_type": "code",
      "metadata": {
        "colab": {
          "base_uri": "https://localhost:8080/"
        },
        "id": "05vq79U0k2IZ",
        "outputId": "36634390-9b51-4b77-9e10-68f2695da26d"
      },
      "source": [
        "texto_exemplo = 'Olá, tudo bem?'\n",
        "tokens = texto_exemplo.split()\n",
        "print(tokens)"
      ],
      "execution_count": 3,
      "outputs": [
        {
          "output_type": "stream",
          "name": "stdout",
          "text": [
            "['Olá,', 'tudo', 'bem?']\n"
          ]
        }
      ]
    },
    {
      "cell_type": "code",
      "metadata": {
        "colab": {
          "base_uri": "https://localhost:8080/"
        },
        "id": "D8g0iuYMkbi0",
        "outputId": "41470da8-d9b4-4287-cf14-95dcb0009dd5"
      },
      "source": [
        "len(artigos.split())"
      ],
      "execution_count": 4,
      "outputs": [
        {
          "output_type": "execute_result",
          "data": {
            "text/plain": [
              "163592"
            ]
          },
          "metadata": {},
          "execution_count": 4
        }
      ]
    },
    {
      "cell_type": "markdown",
      "metadata": {
        "id": "9p1gvkLmnCLA"
      },
      "source": [
        "---\n",
        "---"
      ]
    },
    {
      "cell_type": "markdown",
      "metadata": {
        "id": "8men_EdGnCIg"
      },
      "source": [
        "# <font color = green>Aula 2 – Utilizando NLTK Para Tokenizar Um Texto"
      ]
    },
    {
      "cell_type": "markdown",
      "metadata": {
        "id": "j1i6G8FenCF-"
      },
      "source": [
        "## <font color = blackpink>Refinando a Tokenização"
      ]
    },
    {
      "cell_type": "code",
      "metadata": {
        "colab": {
          "base_uri": "https://localhost:8080/"
        },
        "id": "uKE9Irfdkc3H",
        "outputId": "8da2b658-c749-4ea6-d779-840248665b2c"
      },
      "source": [
        "import nltk\n",
        "nltk.download('punkt')"
      ],
      "execution_count": 5,
      "outputs": [
        {
          "output_type": "stream",
          "name": "stdout",
          "text": [
            "[nltk_data] Downloading package punkt to /root/nltk_data...\n",
            "[nltk_data]   Unzipping tokenizers/punkt.zip.\n"
          ]
        },
        {
          "output_type": "execute_result",
          "data": {
            "text/plain": [
              "True"
            ]
          },
          "metadata": {},
          "execution_count": 5
        }
      ]
    },
    {
      "cell_type": "code",
      "metadata": {
        "colab": {
          "base_uri": "https://localhost:8080/"
        },
        "id": "w0l3kZomxg4v",
        "outputId": "ebbee2a0-3b0e-48dc-d1d2-a94c77b90103"
      },
      "source": [
        "palavras_separadas = nltk.tokenize.word_tokenize(texto_exemplo)\n",
        "palavras_separadas"
      ],
      "execution_count": 6,
      "outputs": [
        {
          "output_type": "execute_result",
          "data": {
            "text/plain": [
              "['Olá', ',', 'tudo', 'bem', '?']"
            ]
          },
          "metadata": {},
          "execution_count": 6
        }
      ]
    },
    {
      "cell_type": "markdown",
      "metadata": {
        "id": "vRjuVlUVyxQ_"
      },
      "source": [
        "---"
      ]
    },
    {
      "cell_type": "markdown",
      "metadata": {
        "id": "XvIZGlvOyxOY"
      },
      "source": [
        "## <font color = blackpink>Separando Palavras De Tokens"
      ]
    },
    {
      "cell_type": "code",
      "metadata": {
        "colab": {
          "base_uri": "https://localhost:8080/"
        },
        "id": "3Kfyg0nGy1Fo",
        "outputId": "b2b07812-8140-4cf5-fe85-6608889a7010"
      },
      "source": [
        "'palavra'.isalpha()"
      ],
      "execution_count": 7,
      "outputs": [
        {
          "output_type": "execute_result",
          "data": {
            "text/plain": [
              "True"
            ]
          },
          "metadata": {},
          "execution_count": 7
        }
      ]
    },
    {
      "cell_type": "code",
      "metadata": {
        "id": "Ua060IT_xui1"
      },
      "source": [
        "def separa_palavras(lista_tokens: list):\n",
        "  lista_palavras = []\n",
        "  for token in lista_tokens:\n",
        "    if token.isalpha():\n",
        "      lista_palavras.append(token)\n",
        "  return lista_palavras"
      ],
      "execution_count": 8,
      "outputs": []
    },
    {
      "cell_type": "code",
      "metadata": {
        "colab": {
          "base_uri": "https://localhost:8080/"
        },
        "id": "vcAU3c4CzwbA",
        "outputId": "997c4862-d4b6-41df-b39d-2e0bd08d3dcf"
      },
      "source": [
        "separa_palavras(palavras_separadas)"
      ],
      "execution_count": 9,
      "outputs": [
        {
          "output_type": "execute_result",
          "data": {
            "text/plain": [
              "['Olá', 'tudo', 'bem']"
            ]
          },
          "metadata": {},
          "execution_count": 9
        }
      ]
    },
    {
      "cell_type": "markdown",
      "metadata": {
        "id": "y5VfVeuT1SXW"
      },
      "source": [
        "---"
      ]
    },
    {
      "cell_type": "markdown",
      "metadata": {
        "id": "jIy6Tb4K1SRD"
      },
      "source": [
        "## <font color=blackpink>Contando Palavras Do Corpus"
      ]
    },
    {
      "cell_type": "code",
      "metadata": {
        "colab": {
          "base_uri": "https://localhost:8080/"
        },
        "id": "jo-iT_Qo1BcE",
        "outputId": "c67ce778-8f9f-46e5-fa8d-708dc1986ff4"
      },
      "source": [
        "lista_tokens = nltk.tokenize.word_tokenize(artigos)\n",
        "lista_palavras = separa_palavras(lista_tokens)\n",
        "print(f'O número de palavras é: {len(lista_palavras)}')"
      ],
      "execution_count": 10,
      "outputs": [
        {
          "output_type": "stream",
          "name": "stdout",
          "text": [
            "O número de palavras é: 154339\n"
          ]
        }
      ]
    },
    {
      "cell_type": "markdown",
      "metadata": {
        "id": "_Fbc2Hoa3WcY"
      },
      "source": [
        "---"
      ]
    },
    {
      "cell_type": "markdown",
      "metadata": {
        "id": "fpbmtW0n3WaH"
      },
      "source": [
        "## <font color = blackpink>Normalização"
      ]
    },
    {
      "cell_type": "code",
      "metadata": {
        "colab": {
          "base_uri": "https://localhost:8080/"
        },
        "id": "HgAcamfT1-El",
        "outputId": "edaf6fc2-2bf9-4895-cab3-c77c10d218d2"
      },
      "source": [
        "print(lista_palavras[:5])"
      ],
      "execution_count": 11,
      "outputs": [
        {
          "output_type": "stream",
          "name": "stdout",
          "text": [
            "['imagem', 'Temos', 'a', 'seguinte', 'classe']\n"
          ]
        }
      ]
    },
    {
      "cell_type": "code",
      "metadata": {
        "id": "lmDJgaoP4La3"
      },
      "source": [
        "def normalizacao(lista_palavras: list):\n",
        "  lista_normalizada = []\n",
        "  for palavra in lista_palavras:\n",
        "    lista_normalizada.append(palavra.lower())\n",
        "  return lista_normalizada"
      ],
      "execution_count": 12,
      "outputs": []
    },
    {
      "cell_type": "code",
      "metadata": {
        "colab": {
          "base_uri": "https://localhost:8080/"
        },
        "id": "Q3_rxrle5A8z",
        "outputId": "d6e3dc55-5f9c-4233-ad22-9f685274a469"
      },
      "source": [
        "lista_normalizada = normalizacao(lista_palavras)\n",
        "lista_normalizada[:5]"
      ],
      "execution_count": 13,
      "outputs": [
        {
          "output_type": "execute_result",
          "data": {
            "text/plain": [
              "['imagem', 'temos', 'a', 'seguinte', 'classe']"
            ]
          },
          "metadata": {},
          "execution_count": 13
        }
      ]
    },
    {
      "cell_type": "markdown",
      "metadata": {
        "id": "-OEtxia45wUP"
      },
      "source": [
        "---"
      ]
    },
    {
      "cell_type": "markdown",
      "metadata": {
        "id": "tabXnR_q5wRm"
      },
      "source": [
        "## <font color=blackpink>Tipos De Palavras"
      ]
    },
    {
      "cell_type": "code",
      "metadata": {
        "colab": {
          "base_uri": "https://localhost:8080/"
        },
        "id": "MNrpJFJd5Gs4",
        "outputId": "4431beac-8ff6-46fb-f49a-4a9cf469567f"
      },
      "source": [
        "set([1,1,1,3,4,4,5,8,2,4,5,5,6,6])"
      ],
      "execution_count": 14,
      "outputs": [
        {
          "output_type": "execute_result",
          "data": {
            "text/plain": [
              "{1, 2, 3, 4, 5, 6, 8}"
            ]
          },
          "metadata": {},
          "execution_count": 14
        }
      ]
    },
    {
      "cell_type": "code",
      "metadata": {
        "colab": {
          "base_uri": "https://localhost:8080/"
        },
        "id": "9TIAEvdf6Rxp",
        "outputId": "ad6afab9-eb36-40c6-c662-32d2f4105f7d"
      },
      "source": [
        "lista_unica = set(lista_normalizada)\n",
        "len(lista_unica)"
      ],
      "execution_count": 15,
      "outputs": [
        {
          "output_type": "execute_result",
          "data": {
            "text/plain": [
              "11262"
            ]
          },
          "metadata": {},
          "execution_count": 15
        }
      ]
    },
    {
      "cell_type": "markdown",
      "metadata": {
        "id": "cqXXUqme8G3t"
      },
      "source": [
        "---\n",
        "---"
      ]
    },
    {
      "cell_type": "markdown",
      "metadata": {
        "id": "LMMnPb5B8G1-"
      },
      "source": [
        "# <font color=green>Aula 3 – Desenvolvendo e Testando o Corretor"
      ]
    },
    {
      "cell_type": "markdown",
      "metadata": {
        "id": "4a-_pJw98GyI"
      },
      "source": [
        "## <font color=blackpink>Fatiando Strings"
      ]
    },
    {
      "cell_type": "code",
      "metadata": {
        "colab": {
          "base_uri": "https://localhost:8080/"
        },
        "id": "dI-EX6rN_tiG",
        "outputId": "cb7b1c01-9b5f-47ff-9103-f6013f5f627d"
      },
      "source": [
        "lista = 'lgica'\n",
        "(lista[:1],lista[1:])"
      ],
      "execution_count": 16,
      "outputs": [
        {
          "output_type": "execute_result",
          "data": {
            "text/plain": [
              "('l', 'gica')"
            ]
          },
          "metadata": {},
          "execution_count": 16
        }
      ]
    },
    {
      "cell_type": "code",
      "metadata": {
        "id": "qFXMajRI6ZJ5"
      },
      "source": [
        "palavra_exemplo = 'lgica'\n",
        "\n",
        "def gerador_palavras(palavra):\n",
        "  fatias = []\n",
        "  for i in range(len(palavra) + 1):\n",
        "    fatias.append((lista[:i],lista[i:]))\n",
        "  print(fatias)\n",
        "  # palavras_geradas = insere_letras(fatias)\n",
        "  # return palavras_geradas"
      ],
      "execution_count": 17,
      "outputs": []
    },
    {
      "cell_type": "code",
      "metadata": {
        "colab": {
          "base_uri": "https://localhost:8080/"
        },
        "id": "8qLDHNidAwBd",
        "outputId": "e1a47336-4890-4aa0-8b61-2bab29251a02"
      },
      "source": [
        "gerador_palavras(palavra_exemplo)"
      ],
      "execution_count": 18,
      "outputs": [
        {
          "output_type": "stream",
          "name": "stdout",
          "text": [
            "[('', 'lgica'), ('l', 'gica'), ('lg', 'ica'), ('lgi', 'ca'), ('lgic', 'a'), ('lgica', '')]\n"
          ]
        }
      ]
    },
    {
      "cell_type": "markdown",
      "metadata": {
        "id": "DNg-J_JPCas6"
      },
      "source": [
        "---"
      ]
    },
    {
      "cell_type": "markdown",
      "metadata": {
        "id": "UcwYqxZsCaph"
      },
      "source": [
        "## <font color=blackpink>Operação De Inserção"
      ]
    },
    {
      "cell_type": "code",
      "metadata": {
        "colab": {
          "base_uri": "https://localhost:8080/"
        },
        "id": "GWH22pgm_bTy",
        "outputId": "c9c3f3df-2b86-4cd3-9f06-69168c6adf65"
      },
      "source": [
        "palavra_exemplo = 'lgica'\n",
        "\n",
        "\n",
        "def insere_letras(fatias):\n",
        "  novas_palavras = []\n",
        "  letras = 'abcdefghijklmnopqrstuvwxyzàáâãèéêìíîòóôõùúûç'\n",
        "  for E, D in fatias:\n",
        "    for letra in letras:\n",
        "      novas_palavras.append(E + letra + D)\n",
        "  return novas_palavras\n",
        "\n",
        "\n",
        "def gerador_palavras(palavra):\n",
        "  fatias = []\n",
        "  for i in range(len(palavra) + 1):\n",
        "    fatias.append((palavra[:i],palavra[i:]))\n",
        "  palavras_geradas = insere_letras(fatias)\n",
        "  return palavras_geradas\n",
        "\n",
        "\n",
        "palavras_geradas = gerador_palavras(palavra_exemplo)\n",
        "palavras_geradas"
      ],
      "execution_count": 19,
      "outputs": [
        {
          "output_type": "execute_result",
          "data": {
            "text/plain": [
              "['algica',\n",
              " 'blgica',\n",
              " 'clgica',\n",
              " 'dlgica',\n",
              " 'elgica',\n",
              " 'flgica',\n",
              " 'glgica',\n",
              " 'hlgica',\n",
              " 'ilgica',\n",
              " 'jlgica',\n",
              " 'klgica',\n",
              " 'llgica',\n",
              " 'mlgica',\n",
              " 'nlgica',\n",
              " 'olgica',\n",
              " 'plgica',\n",
              " 'qlgica',\n",
              " 'rlgica',\n",
              " 'slgica',\n",
              " 'tlgica',\n",
              " 'ulgica',\n",
              " 'vlgica',\n",
              " 'wlgica',\n",
              " 'xlgica',\n",
              " 'ylgica',\n",
              " 'zlgica',\n",
              " 'àlgica',\n",
              " 'álgica',\n",
              " 'âlgica',\n",
              " 'ãlgica',\n",
              " 'èlgica',\n",
              " 'élgica',\n",
              " 'êlgica',\n",
              " 'ìlgica',\n",
              " 'ílgica',\n",
              " 'îlgica',\n",
              " 'òlgica',\n",
              " 'ólgica',\n",
              " 'ôlgica',\n",
              " 'õlgica',\n",
              " 'ùlgica',\n",
              " 'úlgica',\n",
              " 'ûlgica',\n",
              " 'çlgica',\n",
              " 'lagica',\n",
              " 'lbgica',\n",
              " 'lcgica',\n",
              " 'ldgica',\n",
              " 'legica',\n",
              " 'lfgica',\n",
              " 'lggica',\n",
              " 'lhgica',\n",
              " 'ligica',\n",
              " 'ljgica',\n",
              " 'lkgica',\n",
              " 'llgica',\n",
              " 'lmgica',\n",
              " 'lngica',\n",
              " 'logica',\n",
              " 'lpgica',\n",
              " 'lqgica',\n",
              " 'lrgica',\n",
              " 'lsgica',\n",
              " 'ltgica',\n",
              " 'lugica',\n",
              " 'lvgica',\n",
              " 'lwgica',\n",
              " 'lxgica',\n",
              " 'lygica',\n",
              " 'lzgica',\n",
              " 'làgica',\n",
              " 'lágica',\n",
              " 'lâgica',\n",
              " 'lãgica',\n",
              " 'lègica',\n",
              " 'légica',\n",
              " 'lêgica',\n",
              " 'lìgica',\n",
              " 'lígica',\n",
              " 'lîgica',\n",
              " 'lògica',\n",
              " 'lógica',\n",
              " 'lôgica',\n",
              " 'lõgica',\n",
              " 'lùgica',\n",
              " 'lúgica',\n",
              " 'lûgica',\n",
              " 'lçgica',\n",
              " 'lgaica',\n",
              " 'lgbica',\n",
              " 'lgcica',\n",
              " 'lgdica',\n",
              " 'lgeica',\n",
              " 'lgfica',\n",
              " 'lggica',\n",
              " 'lghica',\n",
              " 'lgiica',\n",
              " 'lgjica',\n",
              " 'lgkica',\n",
              " 'lglica',\n",
              " 'lgmica',\n",
              " 'lgnica',\n",
              " 'lgoica',\n",
              " 'lgpica',\n",
              " 'lgqica',\n",
              " 'lgrica',\n",
              " 'lgsica',\n",
              " 'lgtica',\n",
              " 'lguica',\n",
              " 'lgvica',\n",
              " 'lgwica',\n",
              " 'lgxica',\n",
              " 'lgyica',\n",
              " 'lgzica',\n",
              " 'lgàica',\n",
              " 'lgáica',\n",
              " 'lgâica',\n",
              " 'lgãica',\n",
              " 'lgèica',\n",
              " 'lgéica',\n",
              " 'lgêica',\n",
              " 'lgìica',\n",
              " 'lgíica',\n",
              " 'lgîica',\n",
              " 'lgòica',\n",
              " 'lgóica',\n",
              " 'lgôica',\n",
              " 'lgõica',\n",
              " 'lgùica',\n",
              " 'lgúica',\n",
              " 'lgûica',\n",
              " 'lgçica',\n",
              " 'lgiaca',\n",
              " 'lgibca',\n",
              " 'lgicca',\n",
              " 'lgidca',\n",
              " 'lgieca',\n",
              " 'lgifca',\n",
              " 'lgigca',\n",
              " 'lgihca',\n",
              " 'lgiica',\n",
              " 'lgijca',\n",
              " 'lgikca',\n",
              " 'lgilca',\n",
              " 'lgimca',\n",
              " 'lginca',\n",
              " 'lgioca',\n",
              " 'lgipca',\n",
              " 'lgiqca',\n",
              " 'lgirca',\n",
              " 'lgisca',\n",
              " 'lgitca',\n",
              " 'lgiuca',\n",
              " 'lgivca',\n",
              " 'lgiwca',\n",
              " 'lgixca',\n",
              " 'lgiyca',\n",
              " 'lgizca',\n",
              " 'lgiàca',\n",
              " 'lgiáca',\n",
              " 'lgiâca',\n",
              " 'lgiãca',\n",
              " 'lgièca',\n",
              " 'lgiéca',\n",
              " 'lgiêca',\n",
              " 'lgiìca',\n",
              " 'lgiíca',\n",
              " 'lgiîca',\n",
              " 'lgiòca',\n",
              " 'lgióca',\n",
              " 'lgiôca',\n",
              " 'lgiõca',\n",
              " 'lgiùca',\n",
              " 'lgiúca',\n",
              " 'lgiûca',\n",
              " 'lgiçca',\n",
              " 'lgicaa',\n",
              " 'lgicba',\n",
              " 'lgicca',\n",
              " 'lgicda',\n",
              " 'lgicea',\n",
              " 'lgicfa',\n",
              " 'lgicga',\n",
              " 'lgicha',\n",
              " 'lgicia',\n",
              " 'lgicja',\n",
              " 'lgicka',\n",
              " 'lgicla',\n",
              " 'lgicma',\n",
              " 'lgicna',\n",
              " 'lgicoa',\n",
              " 'lgicpa',\n",
              " 'lgicqa',\n",
              " 'lgicra',\n",
              " 'lgicsa',\n",
              " 'lgicta',\n",
              " 'lgicua',\n",
              " 'lgicva',\n",
              " 'lgicwa',\n",
              " 'lgicxa',\n",
              " 'lgicya',\n",
              " 'lgicza',\n",
              " 'lgicàa',\n",
              " 'lgicáa',\n",
              " 'lgicâa',\n",
              " 'lgicãa',\n",
              " 'lgicèa',\n",
              " 'lgicéa',\n",
              " 'lgicêa',\n",
              " 'lgicìa',\n",
              " 'lgicía',\n",
              " 'lgicîa',\n",
              " 'lgicòa',\n",
              " 'lgicóa',\n",
              " 'lgicôa',\n",
              " 'lgicõa',\n",
              " 'lgicùa',\n",
              " 'lgicúa',\n",
              " 'lgicûa',\n",
              " 'lgicça',\n",
              " 'lgicaa',\n",
              " 'lgicab',\n",
              " 'lgicac',\n",
              " 'lgicad',\n",
              " 'lgicae',\n",
              " 'lgicaf',\n",
              " 'lgicag',\n",
              " 'lgicah',\n",
              " 'lgicai',\n",
              " 'lgicaj',\n",
              " 'lgicak',\n",
              " 'lgical',\n",
              " 'lgicam',\n",
              " 'lgican',\n",
              " 'lgicao',\n",
              " 'lgicap',\n",
              " 'lgicaq',\n",
              " 'lgicar',\n",
              " 'lgicas',\n",
              " 'lgicat',\n",
              " 'lgicau',\n",
              " 'lgicav',\n",
              " 'lgicaw',\n",
              " 'lgicax',\n",
              " 'lgicay',\n",
              " 'lgicaz',\n",
              " 'lgicaà',\n",
              " 'lgicaá',\n",
              " 'lgicaâ',\n",
              " 'lgicaã',\n",
              " 'lgicaè',\n",
              " 'lgicaé',\n",
              " 'lgicaê',\n",
              " 'lgicaì',\n",
              " 'lgicaí',\n",
              " 'lgicaî',\n",
              " 'lgicaò',\n",
              " 'lgicaó',\n",
              " 'lgicaô',\n",
              " 'lgicaõ',\n",
              " 'lgicaù',\n",
              " 'lgicaú',\n",
              " 'lgicaû',\n",
              " 'lgicaç']"
            ]
          },
          "metadata": {},
          "execution_count": 19
        }
      ]
    },
    {
      "cell_type": "markdown",
      "metadata": {
        "id": "sObB50gbFhMj"
      },
      "source": [
        "---"
      ]
    },
    {
      "cell_type": "markdown",
      "metadata": {
        "id": "JMWCxexKFhJz"
      },
      "source": [
        "## <font color=blackpink>Construindo a Função Corretor"
      ]
    },
    {
      "cell_type": "code",
      "metadata": {
        "id": "QJHa6wsIHYWB"
      },
      "source": [
        "def corretor(palavra):\n",
        "  palavras_geradas = gerador_palavras(palavra)\n",
        "  palavra_correta = max(palavras_geradas, key = probabilidade)\n",
        "  return palavra_correta"
      ],
      "execution_count": 20,
      "outputs": []
    },
    {
      "cell_type": "code",
      "metadata": {
        "colab": {
          "base_uri": "https://localhost:8080/"
        },
        "id": "DmUiETBgCe6f",
        "outputId": "2e1ee796-60ef-48c0-a9c5-9c69881fd214"
      },
      "source": [
        "# Meu método kkk\n",
        "\n",
        "for palavra in palavras_geradas:\n",
        "  for pal in lista_unica:\n",
        "    if palavra == pal:\n",
        "      print(palavra)"
      ],
      "execution_count": 21,
      "outputs": [
        {
          "output_type": "stream",
          "name": "stdout",
          "text": [
            "lógica\n"
          ]
        }
      ]
    },
    {
      "cell_type": "markdown",
      "metadata": {
        "id": "Wr1SH09lJiFQ"
      },
      "source": [
        "---"
      ]
    },
    {
      "cell_type": "markdown",
      "metadata": {
        "id": "VE6mLL3pJiCa"
      },
      "source": [
        "## <font color=blackpink>Probabilidade Das Palavras Geradas"
      ]
    },
    {
      "cell_type": "code",
      "metadata": {
        "colab": {
          "base_uri": "https://localhost:8080/"
        },
        "id": "-j3k6LPHDJ3R",
        "outputId": "3ef77605-ae12-4701-bc89-be389e27ca89"
      },
      "source": [
        "frequencia = nltk.FreqDist(lista_normalizada)\n",
        "total_palavras = len(lista_normalizada)\n",
        "frequencia.most_common(10)"
      ],
      "execution_count": 22,
      "outputs": [
        {
          "output_type": "execute_result",
          "data": {
            "text/plain": [
              "[('de', 6060),\n",
              " ('o', 5321),\n",
              " ('que', 4662),\n",
              " ('a', 4325),\n",
              " ('e', 4220),\n",
              " ('para', 3057),\n",
              " ('um', 2498),\n",
              " ('é', 2349),\n",
              " ('uma', 2061),\n",
              " ('com', 1931)]"
            ]
          },
          "metadata": {},
          "execution_count": 22
        }
      ]
    },
    {
      "cell_type": "code",
      "metadata": {
        "colab": {
          "base_uri": "https://localhost:8080/"
        },
        "id": "PME_Yt8cKY-i",
        "outputId": "34da4f44-9d9a-4e2b-aefe-92b2ef576cd5"
      },
      "source": [
        "frequencia[\"lógica\"]"
      ],
      "execution_count": 23,
      "outputs": [
        {
          "output_type": "execute_result",
          "data": {
            "text/plain": [
              "47"
            ]
          },
          "metadata": {},
          "execution_count": 23
        }
      ]
    },
    {
      "cell_type": "code",
      "metadata": {
        "colab": {
          "base_uri": "https://localhost:8080/"
        },
        "id": "o_RgcB0eK4Qr",
        "outputId": "40c0dba0-4cde-4ec3-a6f3-e1bf0c5d262f"
      },
      "source": [
        "def probabilidade(palavras_geradas):\n",
        "  return frequencia[palavras_geradas]/total_palavras\n",
        "\n",
        "probabilidade('logica')"
      ],
      "execution_count": 24,
      "outputs": [
        {
          "output_type": "execute_result",
          "data": {
            "text/plain": [
              "0.0"
            ]
          },
          "metadata": {},
          "execution_count": 24
        }
      ]
    },
    {
      "cell_type": "code",
      "metadata": {
        "colab": {
          "base_uri": "https://localhost:8080/",
          "height": 35
        },
        "id": "xwKvVnqCLN7P",
        "outputId": "8507bc9a-486e-41e4-98a3-c3beed2233c4"
      },
      "source": [
        "corretor('lgica')"
      ],
      "execution_count": 25,
      "outputs": [
        {
          "output_type": "execute_result",
          "data": {
            "application/vnd.google.colaboratory.intrinsic+json": {
              "type": "string"
            },
            "text/plain": [
              "'lógica'"
            ]
          },
          "metadata": {},
          "execution_count": 25
        }
      ]
    },
    {
      "cell_type": "markdown",
      "metadata": {
        "id": "-ch4CLJvDaSY"
      },
      "source": [
        "---\n",
        "---"
      ]
    },
    {
      "cell_type": "markdown",
      "metadata": {
        "id": "pUzglVp3DaQb"
      },
      "source": [
        "# <font color=green>Aula 4 – Avaliando a Qualidade do Corretor"
      ]
    },
    {
      "cell_type": "markdown",
      "metadata": {
        "id": "pgRYQITwDaNi"
      },
      "source": [
        "## <font color=blackpink>Preparando Dados de Teste"
      ]
    },
    {
      "cell_type": "code",
      "metadata": {
        "id": "jOGGtJUrL3so"
      },
      "source": [
        "def cria_dados_teste(nome_arquivo):\n",
        "  lista_palavras_teste = []\n",
        "  f = open(nome_arquivo, 'r')\n",
        "  for linha in f:\n",
        "    correta, errada = linha.split()\n",
        "    lista_palavras_teste.append((correta, errada))\n",
        "  f.close()\n",
        "  return lista_palavras_teste"
      ],
      "execution_count": 30,
      "outputs": []
    },
    {
      "cell_type": "code",
      "metadata": {
        "id": "nlA8pZlVGY-M"
      },
      "source": [
        "lista_teste = cria_dados_teste('palavras.txt')"
      ],
      "execution_count": 33,
      "outputs": []
    },
    {
      "cell_type": "markdown",
      "metadata": {
        "id": "4jris9iXIKfl"
      },
      "source": [
        "---"
      ]
    },
    {
      "cell_type": "markdown",
      "metadata": {
        "id": "bttO6aLqIKc8"
      },
      "source": [
        "## <font color=blackpink>Avaliando o Corretor"
      ]
    },
    {
      "cell_type": "code",
      "metadata": {
        "id": "Q3qOUbsIGbgh"
      },
      "source": [
        "def avaliador(testes):\n",
        "  numero_palavras = len(testes)\n",
        "  acertou = 0\n",
        "  for correta, errada in testes:\n",
        "    palavra_corrigida = corretor(errada)\n",
        "    if palavra_corrigida == correta:\n",
        "      acertou += 1\n",
        "  taxa_acerto = acertou/numero_palavras\n",
        "  print(f'Taxa de acerto: {taxa_acerto*100:.2f}% de {numero_palavras} palavras')"
      ],
      "execution_count": 51,
      "outputs": []
    },
    {
      "cell_type": "code",
      "metadata": {
        "colab": {
          "base_uri": "https://localhost:8080/"
        },
        "id": "H0s2tPQZJ3eP",
        "outputId": "97a033f0-6524-4703-b514-0e3366cbb4c4"
      },
      "source": [
        "avaliador(lista_teste)"
      ],
      "execution_count": 52,
      "outputs": [
        {
          "output_type": "stream",
          "name": "stdout",
          "text": [
            "Taxa de acerto: 1.08% de 186 palavras\n"
          ]
        }
      ]
    },
    {
      "cell_type": "markdown",
      "metadata": {
        "id": "SnpM8I4oOJ8b"
      },
      "source": [
        "---\n",
        "---"
      ]
    },
    {
      "cell_type": "markdown",
      "metadata": {
        "id": "aSlZEVK2OJ5S"
      },
      "source": [
        "# <font color=green>Aula 5 – Incrementando o Corretor"
      ]
    },
    {
      "cell_type": "markdown",
      "metadata": {
        "id": "_upaPLvZOJ2n"
      },
      "source": [
        "## <font color=blackpink>Implementando o Delete de Caracteres"
      ]
    },
    {
      "cell_type": "code",
      "metadata": {
        "id": "dGaZjUWCKFPU"
      },
      "source": [
        "def deletando_caracter(fatias):\n",
        "  novas_palavras = []\n",
        "  for E, D in fatias:\n",
        "    novas_palavras.append(E + D[1:])\n",
        "  return novas_palavras"
      ],
      "execution_count": 53,
      "outputs": []
    },
    {
      "cell_type": "markdown",
      "metadata": {
        "id": "zbpVL5pCZe-_"
      },
      "source": [
        "---"
      ]
    },
    {
      "cell_type": "markdown",
      "metadata": {
        "id": "bG2DtmDvZe7S"
      },
      "source": [
        "## <font color=blackpink>Avaliando o Novo Corretor"
      ]
    },
    {
      "cell_type": "code",
      "metadata": {
        "id": "fJd7b4EbYbys"
      },
      "source": [
        "gerador_palavras('lóigica')"
      ],
      "execution_count": null,
      "outputs": []
    },
    {
      "cell_type": "code",
      "metadata": {
        "colab": {
          "base_uri": "https://localhost:8080/",
          "height": 35
        },
        "id": "6ENeppEmZzWc",
        "outputId": "021eb101-5bb6-43f0-ed7b-e3f3517b8ab6"
      },
      "source": [
        "corretor('lóigica')"
      ],
      "execution_count": 57,
      "outputs": [
        {
          "output_type": "execute_result",
          "data": {
            "application/vnd.google.colaboratory.intrinsic+json": {
              "type": "string"
            },
            "text/plain": [
              "'alóigica'"
            ]
          },
          "metadata": {},
          "execution_count": 57
        }
      ]
    },
    {
      "cell_type": "code",
      "metadata": {
        "id": "se-DrlhcZ1Sa"
      },
      "source": [
        "def gerador_palavras(palavra):\n",
        "  fatias = []\n",
        "  for i in range(len(palavra) + 1):\n",
        "    fatias.append((palavra[:i],palavra[i:]))\n",
        "  palavras_geradas = insere_letras(fatias)\n",
        "  palavras_geradas += deletando_caracter(fatias)\n",
        "  return palavras_geradas\n",
        "\n",
        "\n",
        "palavras_geradas = gerador_palavras('lóigica')\n",
        "palavras_geradas"
      ],
      "execution_count": null,
      "outputs": []
    },
    {
      "cell_type": "code",
      "metadata": {
        "colab": {
          "base_uri": "https://localhost:8080/"
        },
        "id": "NAmMP_kUbHvZ",
        "outputId": "9033616a-ccc7-4040-97e5-1e020e413faa"
      },
      "source": [
        "avaliador(lista_teste)"
      ],
      "execution_count": 59,
      "outputs": [
        {
          "output_type": "stream",
          "name": "stdout",
          "text": [
            "Taxa de acerto: 41.40% de 186 palavras\n"
          ]
        }
      ]
    },
    {
      "cell_type": "code",
      "metadata": {
        "colab": {
          "base_uri": "https://localhost:8080/",
          "height": 35
        },
        "id": "aYqrRFtmbJVw",
        "outputId": "a04d31c6-7750-4c43-bd22-6d7d78781b11"
      },
      "source": [
        "corretor('palavrra')"
      ],
      "execution_count": 63,
      "outputs": [
        {
          "output_type": "execute_result",
          "data": {
            "application/vnd.google.colaboratory.intrinsic+json": {
              "type": "string"
            },
            "text/plain": [
              "'palavra'"
            ]
          },
          "metadata": {},
          "execution_count": 63
        }
      ]
    }
  ]
}