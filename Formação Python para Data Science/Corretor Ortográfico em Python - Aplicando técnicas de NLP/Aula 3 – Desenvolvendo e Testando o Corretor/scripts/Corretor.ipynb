{
  "nbformat": 4,
  "nbformat_minor": 0,
  "metadata": {
    "colab": {
      "name": "Corretor",
      "provenance": [],
      "collapsed_sections": []
    },
    "kernelspec": {
      "name": "python3",
      "display_name": "Python 3"
    },
    "language_info": {
      "name": "python"
    }
  },
  "cells": [
    {
      "cell_type": "markdown",
      "metadata": {
        "id": "OffPBUdug5F8"
      },
      "source": [
        "# <font color = green>Aula 1 – Explorando Um Projeto De NLP"
      ]
    },
    {
      "cell_type": "markdown",
      "metadata": {
        "id": "9UIlUeVTg5DT"
      },
      "source": [
        "## <font color = blackpink>Importando Um Corpus Textual"
      ]
    },
    {
      "cell_type": "code",
      "metadata": {
        "colab": {
          "base_uri": "https://localhost:8080/"
        },
        "id": "aQGGVLP7g29P",
        "outputId": "39aa57f0-d178-4452-a01a-edef074ae4c6"
      },
      "source": [
        "with open('artigos.txt', 'r') as f:\n",
        "  artigos = f.read()\n",
        "\n",
        "print(artigos[:500])"
      ],
      "execution_count": 35,
      "outputs": [
        {
          "output_type": "stream",
          "name": "stdout",
          "text": [
            "\n",
            "\n",
            "\n",
            "imagem \n",
            "\n",
            "Temos a seguinte classe que representa um usuário no nosso sistema:\n",
            "\n",
            "java\n",
            "\n",
            "Para salvar um novo usuário, várias validações são feitas, como por exemplo: Ver se o nome só contém letras, [**o CPF só números**] e ver se o usuário possui no mínimo 18 anos. Veja o método que faz essa validação:\n",
            "\n",
            "java \n",
            "\n",
            "Suponha agora que eu tenha outra classe, a classe `Produto`, que contém um atributo nome e eu quero fazer a mesma validação que fiz para o nome do usuário: Ver se só contém letras. E aí? Vou\n"
          ]
        }
      ]
    },
    {
      "cell_type": "markdown",
      "metadata": {
        "id": "5jq7iCOvj1wA"
      },
      "source": [
        "---"
      ]
    },
    {
      "cell_type": "markdown",
      "metadata": {
        "id": "JJkfFlm0j1to"
      },
      "source": [
        "## <font color = blackpink>Tokenização"
      ]
    },
    {
      "cell_type": "code",
      "metadata": {
        "colab": {
          "base_uri": "https://localhost:8080/"
        },
        "id": "M3z6hg20i8FJ",
        "outputId": "f521dbf7-0e62-46c8-8ee4-25c8ce60fde4"
      },
      "source": [
        "len(artigos)"
      ],
      "execution_count": 36,
      "outputs": [
        {
          "output_type": "execute_result",
          "data": {
            "text/plain": [
              "2605046"
            ]
          },
          "metadata": {},
          "execution_count": 36
        }
      ]
    },
    {
      "cell_type": "code",
      "metadata": {
        "colab": {
          "base_uri": "https://localhost:8080/"
        },
        "id": "05vq79U0k2IZ",
        "outputId": "4737c36d-360a-44ff-c76a-ca172a5b0edc"
      },
      "source": [
        "texto_exemplo = 'Olá, tudo bem?'\n",
        "tokens = texto_exemplo.split()\n",
        "print(tokens)"
      ],
      "execution_count": 37,
      "outputs": [
        {
          "output_type": "stream",
          "name": "stdout",
          "text": [
            "['Olá,', 'tudo', 'bem?']\n"
          ]
        }
      ]
    },
    {
      "cell_type": "code",
      "metadata": {
        "colab": {
          "base_uri": "https://localhost:8080/"
        },
        "id": "D8g0iuYMkbi0",
        "outputId": "c9ae8478-28fc-4bcf-b288-49857bf2e100"
      },
      "source": [
        "len(artigos.split())"
      ],
      "execution_count": 38,
      "outputs": [
        {
          "output_type": "execute_result",
          "data": {
            "text/plain": [
              "416903"
            ]
          },
          "metadata": {},
          "execution_count": 38
        }
      ]
    },
    {
      "cell_type": "markdown",
      "metadata": {
        "id": "9p1gvkLmnCLA"
      },
      "source": [
        "---\n",
        "---"
      ]
    },
    {
      "cell_type": "markdown",
      "metadata": {
        "id": "8men_EdGnCIg"
      },
      "source": [
        "# <font color = green>Aula 2 – Utilizando NLTK Para Tokenizar Um Texto"
      ]
    },
    {
      "cell_type": "markdown",
      "metadata": {
        "id": "j1i6G8FenCF-"
      },
      "source": [
        "## <font color = blackpink>Refinando a Tokenização"
      ]
    },
    {
      "cell_type": "code",
      "metadata": {
        "colab": {
          "base_uri": "https://localhost:8080/"
        },
        "id": "uKE9Irfdkc3H",
        "outputId": "c40344f2-b748-489a-c343-0ad7738a85b1"
      },
      "source": [
        "import nltk\n",
        "nltk.download('punkt')"
      ],
      "execution_count": 39,
      "outputs": [
        {
          "output_type": "stream",
          "name": "stdout",
          "text": [
            "[nltk_data] Downloading package punkt to /root/nltk_data...\n",
            "[nltk_data]   Package punkt is already up-to-date!\n"
          ]
        },
        {
          "output_type": "execute_result",
          "data": {
            "text/plain": [
              "True"
            ]
          },
          "metadata": {},
          "execution_count": 39
        }
      ]
    },
    {
      "cell_type": "code",
      "metadata": {
        "colab": {
          "base_uri": "https://localhost:8080/"
        },
        "id": "w0l3kZomxg4v",
        "outputId": "cbf94136-db6e-4b57-d572-ff68bea639f2"
      },
      "source": [
        "palavras_separadas = nltk.tokenize.word_tokenize(texto_exemplo)\n",
        "palavras_separadas"
      ],
      "execution_count": 40,
      "outputs": [
        {
          "output_type": "execute_result",
          "data": {
            "text/plain": [
              "['Olá', ',', 'tudo', 'bem', '?']"
            ]
          },
          "metadata": {},
          "execution_count": 40
        }
      ]
    },
    {
      "cell_type": "markdown",
      "metadata": {
        "id": "vRjuVlUVyxQ_"
      },
      "source": [
        "---"
      ]
    },
    {
      "cell_type": "markdown",
      "metadata": {
        "id": "XvIZGlvOyxOY"
      },
      "source": [
        "## <font color = blackpink>Separando Palavras De Tokens"
      ]
    },
    {
      "cell_type": "code",
      "metadata": {
        "colab": {
          "base_uri": "https://localhost:8080/"
        },
        "id": "3Kfyg0nGy1Fo",
        "outputId": "14196e10-94be-496d-ddd0-ef897b39ee80"
      },
      "source": [
        "'palavra'.isalpha()"
      ],
      "execution_count": 41,
      "outputs": [
        {
          "output_type": "execute_result",
          "data": {
            "text/plain": [
              "True"
            ]
          },
          "metadata": {},
          "execution_count": 41
        }
      ]
    },
    {
      "cell_type": "code",
      "metadata": {
        "id": "Ua060IT_xui1"
      },
      "source": [
        "def separa_palavras(lista_tokens: list):\n",
        "  lista_palavras = []\n",
        "  for token in lista_tokens:\n",
        "    if token.isalpha():\n",
        "      lista_palavras.append(token)\n",
        "  return lista_palavras"
      ],
      "execution_count": 42,
      "outputs": []
    },
    {
      "cell_type": "code",
      "metadata": {
        "colab": {
          "base_uri": "https://localhost:8080/"
        },
        "id": "vcAU3c4CzwbA",
        "outputId": "d3b8428c-5a65-4482-e17c-aa5567fc35a2"
      },
      "source": [
        "separa_palavras(palavras_separadas)"
      ],
      "execution_count": 43,
      "outputs": [
        {
          "output_type": "execute_result",
          "data": {
            "text/plain": [
              "['Olá', 'tudo', 'bem']"
            ]
          },
          "metadata": {},
          "execution_count": 43
        }
      ]
    },
    {
      "cell_type": "markdown",
      "metadata": {
        "id": "y5VfVeuT1SXW"
      },
      "source": [
        "---"
      ]
    },
    {
      "cell_type": "markdown",
      "metadata": {
        "id": "jIy6Tb4K1SRD"
      },
      "source": [
        "## <font color=blackpink>Contando Palavras Do Corpus"
      ]
    },
    {
      "cell_type": "code",
      "metadata": {
        "colab": {
          "base_uri": "https://localhost:8080/"
        },
        "id": "jo-iT_Qo1BcE",
        "outputId": "09efabc7-bf6f-493a-eb04-8d79276f14c5"
      },
      "source": [
        "lista_tokens = nltk.tokenize.word_tokenize(artigos)\n",
        "lista_palavras = separa_palavras(lista_tokens)\n",
        "print(f'O número de palavras é: {len(lista_palavras)}')"
      ],
      "execution_count": 44,
      "outputs": [
        {
          "output_type": "stream",
          "name": "stdout",
          "text": [
            "O número de palavras é: 393914\n"
          ]
        }
      ]
    },
    {
      "cell_type": "markdown",
      "metadata": {
        "id": "_Fbc2Hoa3WcY"
      },
      "source": [
        "---"
      ]
    },
    {
      "cell_type": "markdown",
      "metadata": {
        "id": "fpbmtW0n3WaH"
      },
      "source": [
        "## <font color = blackpink>Normalização"
      ]
    },
    {
      "cell_type": "code",
      "metadata": {
        "colab": {
          "base_uri": "https://localhost:8080/"
        },
        "id": "HgAcamfT1-El",
        "outputId": "0edb0b6c-6b72-4337-def3-193c302a289d"
      },
      "source": [
        "print(lista_palavras[:5])"
      ],
      "execution_count": 45,
      "outputs": [
        {
          "output_type": "stream",
          "name": "stdout",
          "text": [
            "['imagem', 'Temos', 'a', 'seguinte', 'classe']\n"
          ]
        }
      ]
    },
    {
      "cell_type": "code",
      "metadata": {
        "id": "lmDJgaoP4La3"
      },
      "source": [
        "def normalizacao(lista_palavras: list):\n",
        "  lista_normalizada = []\n",
        "  for palavra in lista_palavras:\n",
        "    lista_normalizada.append(palavra.lower())\n",
        "  return lista_normalizada"
      ],
      "execution_count": 46,
      "outputs": []
    },
    {
      "cell_type": "code",
      "metadata": {
        "colab": {
          "base_uri": "https://localhost:8080/"
        },
        "id": "Q3_rxrle5A8z",
        "outputId": "fe8a1908-cf75-4c7b-9727-b5bf50cfb191"
      },
      "source": [
        "lista_normalizada = normalizacao(lista_palavras)\n",
        "lista_normalizada[:5]"
      ],
      "execution_count": 47,
      "outputs": [
        {
          "output_type": "execute_result",
          "data": {
            "text/plain": [
              "['imagem', 'temos', 'a', 'seguinte', 'classe']"
            ]
          },
          "metadata": {},
          "execution_count": 47
        }
      ]
    },
    {
      "cell_type": "markdown",
      "metadata": {
        "id": "-OEtxia45wUP"
      },
      "source": [
        "---"
      ]
    },
    {
      "cell_type": "markdown",
      "metadata": {
        "id": "tabXnR_q5wRm"
      },
      "source": [
        "## <font color=blackpink>Tipos De Palavras"
      ]
    },
    {
      "cell_type": "code",
      "metadata": {
        "colab": {
          "base_uri": "https://localhost:8080/"
        },
        "id": "MNrpJFJd5Gs4",
        "outputId": "524d76a2-6add-43ae-f474-0ebd62303205"
      },
      "source": [
        "set([1,1,1,3,4,4,5,8,2,4,5,5,6,6])"
      ],
      "execution_count": 48,
      "outputs": [
        {
          "output_type": "execute_result",
          "data": {
            "text/plain": [
              "{1, 2, 3, 4, 5, 6, 8}"
            ]
          },
          "metadata": {},
          "execution_count": 48
        }
      ]
    },
    {
      "cell_type": "code",
      "metadata": {
        "colab": {
          "base_uri": "https://localhost:8080/"
        },
        "id": "9TIAEvdf6Rxp",
        "outputId": "3bd25406-d379-4c48-868d-32a7f0d925ad"
      },
      "source": [
        "lista_unica = set(lista_normalizada)\n",
        "len(lista_unica)"
      ],
      "execution_count": 49,
      "outputs": [
        {
          "output_type": "execute_result",
          "data": {
            "text/plain": [
              "17652"
            ]
          },
          "metadata": {},
          "execution_count": 49
        }
      ]
    },
    {
      "cell_type": "markdown",
      "metadata": {
        "id": "cqXXUqme8G3t"
      },
      "source": [
        "---\n",
        "---"
      ]
    },
    {
      "cell_type": "markdown",
      "metadata": {
        "id": "LMMnPb5B8G1-"
      },
      "source": [
        "# <font color=green>Aula 3 – Desenvolvendo e Testando o Corretor"
      ]
    },
    {
      "cell_type": "markdown",
      "metadata": {
        "id": "4a-_pJw98GyI"
      },
      "source": [
        "## <font color=blackpink>Fatiando Strings"
      ]
    },
    {
      "cell_type": "code",
      "metadata": {
        "colab": {
          "base_uri": "https://localhost:8080/"
        },
        "id": "dI-EX6rN_tiG",
        "outputId": "26f59771-cb77-4de7-fcba-b9458c9465ab"
      },
      "source": [
        "lista = 'lgica'\n",
        "(lista[:1],lista[1:])"
      ],
      "execution_count": 58,
      "outputs": [
        {
          "output_type": "execute_result",
          "data": {
            "text/plain": [
              "('l', 'gica')"
            ]
          },
          "metadata": {},
          "execution_count": 58
        }
      ]
    },
    {
      "cell_type": "code",
      "metadata": {
        "id": "qFXMajRI6ZJ5"
      },
      "source": [
        "palavra_exemplo = 'lgica'\n",
        "\n",
        "def gerador_palavras(palavra):\n",
        "  fatias = []\n",
        "  for i in range(len(palavra) + 1):\n",
        "    fatias.append((lista[:i],lista[i:]))\n",
        "  print(fatias)\n",
        "  # palavras_geradas = insere_letras(fatias)\n",
        "  # return palavras_geradas"
      ],
      "execution_count": 66,
      "outputs": []
    },
    {
      "cell_type": "code",
      "metadata": {
        "colab": {
          "base_uri": "https://localhost:8080/"
        },
        "id": "8qLDHNidAwBd",
        "outputId": "f2f467ef-12b1-4635-8988-9ed13ed33fa2"
      },
      "source": [
        "gerador_palavras(palavra_exemplo)"
      ],
      "execution_count": 67,
      "outputs": [
        {
          "output_type": "stream",
          "name": "stdout",
          "text": [
            "[('', 'lgica'), ('l', 'gica'), ('lg', 'ica'), ('lgi', 'ca'), ('lgic', 'a'), ('lgica', '')]\n"
          ]
        }
      ]
    },
    {
      "cell_type": "markdown",
      "metadata": {
        "id": "DNg-J_JPCas6"
      },
      "source": [
        "---"
      ]
    },
    {
      "cell_type": "markdown",
      "metadata": {
        "id": "UcwYqxZsCaph"
      },
      "source": [
        "## <font color=blackpink>Operação De Inserção"
      ]
    },
    {
      "cell_type": "code",
      "metadata": {
        "colab": {
          "base_uri": "https://localhost:8080/"
        },
        "id": "GWH22pgm_bTy",
        "outputId": "7d05d9dc-4011-4793-d3c8-5bb01e80af2e"
      },
      "source": [
        "palavra_exemplo = 'lgica'\n",
        "\n",
        "\n",
        "def insere_letras(fatias):\n",
        "  novas_palavras = []\n",
        "  letras = 'abcdefghijklmnopqrstuvwxyzàáâãèéêìíîòóôõùúûç'\n",
        "  for E, D in fatias:\n",
        "    for letra in letras:\n",
        "      novas_palavras.append(E + letra + D)\n",
        "  return novas_palavras\n",
        "\n",
        "\n",
        "def gerador_palavras(palavra):\n",
        "  fatias = []\n",
        "  for i in range(len(palavra) + 1):\n",
        "    fatias.append((palavra[:i],palavra[i:]))\n",
        "  palavras_geradas = insere_letras(fatias)\n",
        "  return palavras_geradas\n",
        "\n",
        "\n",
        "palavras_geradas = gerador_palavras(palavra_exemplo)\n",
        "palavras_geradas"
      ],
      "execution_count": 86,
      "outputs": [
        {
          "output_type": "execute_result",
          "data": {
            "text/plain": [
              "['algica',\n",
              " 'blgica',\n",
              " 'clgica',\n",
              " 'dlgica',\n",
              " 'elgica',\n",
              " 'flgica',\n",
              " 'glgica',\n",
              " 'hlgica',\n",
              " 'ilgica',\n",
              " 'jlgica',\n",
              " 'klgica',\n",
              " 'llgica',\n",
              " 'mlgica',\n",
              " 'nlgica',\n",
              " 'olgica',\n",
              " 'plgica',\n",
              " 'qlgica',\n",
              " 'rlgica',\n",
              " 'slgica',\n",
              " 'tlgica',\n",
              " 'ulgica',\n",
              " 'vlgica',\n",
              " 'wlgica',\n",
              " 'xlgica',\n",
              " 'ylgica',\n",
              " 'zlgica',\n",
              " 'àlgica',\n",
              " 'álgica',\n",
              " 'âlgica',\n",
              " 'ãlgica',\n",
              " 'èlgica',\n",
              " 'élgica',\n",
              " 'êlgica',\n",
              " 'ìlgica',\n",
              " 'ílgica',\n",
              " 'îlgica',\n",
              " 'òlgica',\n",
              " 'ólgica',\n",
              " 'ôlgica',\n",
              " 'õlgica',\n",
              " 'ùlgica',\n",
              " 'úlgica',\n",
              " 'ûlgica',\n",
              " 'çlgica',\n",
              " 'lagica',\n",
              " 'lbgica',\n",
              " 'lcgica',\n",
              " 'ldgica',\n",
              " 'legica',\n",
              " 'lfgica',\n",
              " 'lggica',\n",
              " 'lhgica',\n",
              " 'ligica',\n",
              " 'ljgica',\n",
              " 'lkgica',\n",
              " 'llgica',\n",
              " 'lmgica',\n",
              " 'lngica',\n",
              " 'logica',\n",
              " 'lpgica',\n",
              " 'lqgica',\n",
              " 'lrgica',\n",
              " 'lsgica',\n",
              " 'ltgica',\n",
              " 'lugica',\n",
              " 'lvgica',\n",
              " 'lwgica',\n",
              " 'lxgica',\n",
              " 'lygica',\n",
              " 'lzgica',\n",
              " 'làgica',\n",
              " 'lágica',\n",
              " 'lâgica',\n",
              " 'lãgica',\n",
              " 'lègica',\n",
              " 'légica',\n",
              " 'lêgica',\n",
              " 'lìgica',\n",
              " 'lígica',\n",
              " 'lîgica',\n",
              " 'lògica',\n",
              " 'lógica',\n",
              " 'lôgica',\n",
              " 'lõgica',\n",
              " 'lùgica',\n",
              " 'lúgica',\n",
              " 'lûgica',\n",
              " 'lçgica',\n",
              " 'lgaica',\n",
              " 'lgbica',\n",
              " 'lgcica',\n",
              " 'lgdica',\n",
              " 'lgeica',\n",
              " 'lgfica',\n",
              " 'lggica',\n",
              " 'lghica',\n",
              " 'lgiica',\n",
              " 'lgjica',\n",
              " 'lgkica',\n",
              " 'lglica',\n",
              " 'lgmica',\n",
              " 'lgnica',\n",
              " 'lgoica',\n",
              " 'lgpica',\n",
              " 'lgqica',\n",
              " 'lgrica',\n",
              " 'lgsica',\n",
              " 'lgtica',\n",
              " 'lguica',\n",
              " 'lgvica',\n",
              " 'lgwica',\n",
              " 'lgxica',\n",
              " 'lgyica',\n",
              " 'lgzica',\n",
              " 'lgàica',\n",
              " 'lgáica',\n",
              " 'lgâica',\n",
              " 'lgãica',\n",
              " 'lgèica',\n",
              " 'lgéica',\n",
              " 'lgêica',\n",
              " 'lgìica',\n",
              " 'lgíica',\n",
              " 'lgîica',\n",
              " 'lgòica',\n",
              " 'lgóica',\n",
              " 'lgôica',\n",
              " 'lgõica',\n",
              " 'lgùica',\n",
              " 'lgúica',\n",
              " 'lgûica',\n",
              " 'lgçica',\n",
              " 'lgiaca',\n",
              " 'lgibca',\n",
              " 'lgicca',\n",
              " 'lgidca',\n",
              " 'lgieca',\n",
              " 'lgifca',\n",
              " 'lgigca',\n",
              " 'lgihca',\n",
              " 'lgiica',\n",
              " 'lgijca',\n",
              " 'lgikca',\n",
              " 'lgilca',\n",
              " 'lgimca',\n",
              " 'lginca',\n",
              " 'lgioca',\n",
              " 'lgipca',\n",
              " 'lgiqca',\n",
              " 'lgirca',\n",
              " 'lgisca',\n",
              " 'lgitca',\n",
              " 'lgiuca',\n",
              " 'lgivca',\n",
              " 'lgiwca',\n",
              " 'lgixca',\n",
              " 'lgiyca',\n",
              " 'lgizca',\n",
              " 'lgiàca',\n",
              " 'lgiáca',\n",
              " 'lgiâca',\n",
              " 'lgiãca',\n",
              " 'lgièca',\n",
              " 'lgiéca',\n",
              " 'lgiêca',\n",
              " 'lgiìca',\n",
              " 'lgiíca',\n",
              " 'lgiîca',\n",
              " 'lgiòca',\n",
              " 'lgióca',\n",
              " 'lgiôca',\n",
              " 'lgiõca',\n",
              " 'lgiùca',\n",
              " 'lgiúca',\n",
              " 'lgiûca',\n",
              " 'lgiçca',\n",
              " 'lgicaa',\n",
              " 'lgicba',\n",
              " 'lgicca',\n",
              " 'lgicda',\n",
              " 'lgicea',\n",
              " 'lgicfa',\n",
              " 'lgicga',\n",
              " 'lgicha',\n",
              " 'lgicia',\n",
              " 'lgicja',\n",
              " 'lgicka',\n",
              " 'lgicla',\n",
              " 'lgicma',\n",
              " 'lgicna',\n",
              " 'lgicoa',\n",
              " 'lgicpa',\n",
              " 'lgicqa',\n",
              " 'lgicra',\n",
              " 'lgicsa',\n",
              " 'lgicta',\n",
              " 'lgicua',\n",
              " 'lgicva',\n",
              " 'lgicwa',\n",
              " 'lgicxa',\n",
              " 'lgicya',\n",
              " 'lgicza',\n",
              " 'lgicàa',\n",
              " 'lgicáa',\n",
              " 'lgicâa',\n",
              " 'lgicãa',\n",
              " 'lgicèa',\n",
              " 'lgicéa',\n",
              " 'lgicêa',\n",
              " 'lgicìa',\n",
              " 'lgicía',\n",
              " 'lgicîa',\n",
              " 'lgicòa',\n",
              " 'lgicóa',\n",
              " 'lgicôa',\n",
              " 'lgicõa',\n",
              " 'lgicùa',\n",
              " 'lgicúa',\n",
              " 'lgicûa',\n",
              " 'lgicça',\n",
              " 'lgicaa',\n",
              " 'lgicab',\n",
              " 'lgicac',\n",
              " 'lgicad',\n",
              " 'lgicae',\n",
              " 'lgicaf',\n",
              " 'lgicag',\n",
              " 'lgicah',\n",
              " 'lgicai',\n",
              " 'lgicaj',\n",
              " 'lgicak',\n",
              " 'lgical',\n",
              " 'lgicam',\n",
              " 'lgican',\n",
              " 'lgicao',\n",
              " 'lgicap',\n",
              " 'lgicaq',\n",
              " 'lgicar',\n",
              " 'lgicas',\n",
              " 'lgicat',\n",
              " 'lgicau',\n",
              " 'lgicav',\n",
              " 'lgicaw',\n",
              " 'lgicax',\n",
              " 'lgicay',\n",
              " 'lgicaz',\n",
              " 'lgicaà',\n",
              " 'lgicaá',\n",
              " 'lgicaâ',\n",
              " 'lgicaã',\n",
              " 'lgicaè',\n",
              " 'lgicaé',\n",
              " 'lgicaê',\n",
              " 'lgicaì',\n",
              " 'lgicaí',\n",
              " 'lgicaî',\n",
              " 'lgicaò',\n",
              " 'lgicaó',\n",
              " 'lgicaô',\n",
              " 'lgicaõ',\n",
              " 'lgicaù',\n",
              " 'lgicaú',\n",
              " 'lgicaû',\n",
              " 'lgicaç']"
            ]
          },
          "metadata": {},
          "execution_count": 86
        }
      ]
    },
    {
      "cell_type": "markdown",
      "metadata": {
        "id": "sObB50gbFhMj"
      },
      "source": [
        "---"
      ]
    },
    {
      "cell_type": "markdown",
      "metadata": {
        "id": "JMWCxexKFhJz"
      },
      "source": [
        "## <font color=blackpink>Construindo a Função Corretor"
      ]
    },
    {
      "cell_type": "code",
      "metadata": {
        "id": "QJHa6wsIHYWB"
      },
      "source": [
        "def corretor(palavra):\n",
        "  palavras_geradas = gerador_palavras(palavra)\n",
        "  palavra_correta = max(palavras_geradas, key = probabilidade)\n",
        "  return palavra_correta"
      ],
      "execution_count": 90,
      "outputs": []
    },
    {
      "cell_type": "code",
      "metadata": {
        "colab": {
          "base_uri": "https://localhost:8080/"
        },
        "id": "DmUiETBgCe6f",
        "outputId": "8157bae4-f153-423d-c8e0-021b88469c56"
      },
      "source": [
        "# Meu método kkk\n",
        "\n",
        "for palavra in palavras_geradas:\n",
        "  for pal in lista_unica:\n",
        "    if palavra == pal:\n",
        "      print(palavra)"
      ],
      "execution_count": 91,
      "outputs": [
        {
          "output_type": "stream",
          "name": "stdout",
          "text": [
            "lógica\n"
          ]
        }
      ]
    },
    {
      "cell_type": "markdown",
      "metadata": {
        "id": "Wr1SH09lJiFQ"
      },
      "source": [
        "---"
      ]
    },
    {
      "cell_type": "markdown",
      "metadata": {
        "id": "VE6mLL3pJiCa"
      },
      "source": [
        "## <font color=blackpink>Probabilidade Das Palavras Geradas"
      ]
    },
    {
      "cell_type": "code",
      "metadata": {
        "colab": {
          "base_uri": "https://localhost:8080/"
        },
        "id": "-j3k6LPHDJ3R",
        "outputId": "84ab1e44-ebb5-4369-d70d-04bfe2456915"
      },
      "source": [
        "frequencia = nltk.FreqDist(lista_normalizada)\n",
        "total_palavras = len(lista_normalizada)\n",
        "frequencia.most_common(10)"
      ],
      "execution_count": 98,
      "outputs": [
        {
          "output_type": "execute_result",
          "data": {
            "text/plain": [
              "[('de', 15494),\n",
              " ('o', 13966),\n",
              " ('que', 12225),\n",
              " ('a', 11034),\n",
              " ('e', 10478),\n",
              " ('para', 7694),\n",
              " ('um', 6346),\n",
              " ('é', 5881),\n",
              " ('uma', 5202),\n",
              " ('do', 5116)]"
            ]
          },
          "metadata": {},
          "execution_count": 98
        }
      ]
    },
    {
      "cell_type": "code",
      "metadata": {
        "colab": {
          "base_uri": "https://localhost:8080/"
        },
        "id": "PME_Yt8cKY-i",
        "outputId": "dd6d8c8e-4664-4b2e-86f3-e3ee63d1685a"
      },
      "source": [
        "frequencia[\"lógica\"]"
      ],
      "execution_count": 99,
      "outputs": [
        {
          "output_type": "execute_result",
          "data": {
            "text/plain": [
              "87"
            ]
          },
          "metadata": {},
          "execution_count": 99
        }
      ]
    },
    {
      "cell_type": "code",
      "metadata": {
        "colab": {
          "base_uri": "https://localhost:8080/"
        },
        "id": "o_RgcB0eK4Qr",
        "outputId": "3384a098-f74d-42f1-f5e0-8d56ca20fe9a"
      },
      "source": [
        "def probabilidade(palavras_geradas):\n",
        "  return frequencia[palavras_geradas]/total_palavras\n",
        "\n",
        "probabilidade('logica')"
      ],
      "execution_count": 103,
      "outputs": [
        {
          "output_type": "execute_result",
          "data": {
            "text/plain": [
              "0.0"
            ]
          },
          "metadata": {},
          "execution_count": 103
        }
      ]
    },
    {
      "cell_type": "code",
      "metadata": {
        "colab": {
          "base_uri": "https://localhost:8080/",
          "height": 35
        },
        "id": "xwKvVnqCLN7P",
        "outputId": "359d07e9-c964-4840-dbf2-974f54022de3"
      },
      "source": [
        "corretor('lgica')"
      ],
      "execution_count": 109,
      "outputs": [
        {
          "output_type": "execute_result",
          "data": {
            "application/vnd.google.colaboratory.intrinsic+json": {
              "type": "string"
            },
            "text/plain": [
              "'lógica'"
            ]
          },
          "metadata": {},
          "execution_count": 109
        }
      ]
    },
    {
      "cell_type": "code",
      "metadata": {
        "id": "jOGGtJUrL3so"
      },
      "source": [
        ""
      ],
      "execution_count": null,
      "outputs": []
    }
  ]
}